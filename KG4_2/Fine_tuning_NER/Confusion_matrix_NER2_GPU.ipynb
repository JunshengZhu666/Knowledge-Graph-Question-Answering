{
 "cells": [
  {
   "cell_type": "markdown",
   "metadata": {},
   "source": [
    "# 1, Data preprocessing"
   ]
  },
  {
   "cell_type": "code",
   "execution_count": 25,
   "metadata": {},
   "outputs": [],
   "source": [
    "# https://stackoverflow.com/questions/54473254/cudnnlstm-unknownerror-fail-to-find-the-dnn-implementation\n",
    "\n",
    "import tensorflow as tf\n",
    "config = tf.compat.v1.ConfigProto()\n",
    "config.gpu_options.allow_growth = True\n",
    "sess = tf.compat.v1.Session(config=config)"
   ]
  },
  {
   "cell_type": "code",
   "execution_count": 26,
   "metadata": {},
   "outputs": [],
   "source": [
    "### set the random seed \n",
    "\n",
    "tf.random.set_seed(9)\n",
    "\n",
    "import random \n",
    "random.seed(9)"
   ]
  },
  {
   "cell_type": "markdown",
   "metadata": {},
   "source": [
    "### 1, Load and extract the data"
   ]
  },
  {
   "cell_type": "code",
   "execution_count": 27,
   "metadata": {},
   "outputs": [],
   "source": [
    "### extracting the entities and tags\n",
    "\n",
    "import os \n",
    "from tensorflow.keras.preprocessing.sequence import pad_sequences\n",
    "\n",
    "\n",
    "def split_text_label(filename):\n",
    "    '''\n",
    "    Reads a file named filename, extracts the text and the labels and stores\n",
    "    them in an array.\n",
    "     \n",
    "    returns [ ['EU', 'B-ORG'], ['rejects', 'O'], ['German', 'B-MISC'], ['call', 'O'], ['to', 'O'], ['boycott', 'O'], ['British', 'B-MISC'], ['lamb', 'O'], ['.', 'O'] ] \n",
    "    '''\n",
    "    \n",
    "    # open file\n",
    "    f = open(filename)\n",
    "    \n",
    "    # initializing\n",
    "    split_labeled_text = []\n",
    "    sentence = []\n",
    "    \n",
    "    # processing line by line \n",
    "    for line in f:\n",
    "        if len(line)==0 or line.startswith('-DOCSTART') or line[0]==\"\\t\":\n",
    "            if len(sentence) > 0:\n",
    "                split_labeled_text.append(sentence)\n",
    "                sentence = []\n",
    "            continue\n",
    "        \n",
    "        # split by tab\n",
    "        splits = line.split('\t')\n",
    "        # rstrip: strip from the right \n",
    "        sentence.append([splits[0],splits[-1].rstrip(\"\\n\")])\n",
    "        \n",
    "        \n",
    "    if len(sentence) > 0:\n",
    "        split_labeled_text.append(sentence)\n",
    "        sentence = []\n",
    "    return split_labeled_text\n",
    "\n"
   ]
  },
  {
   "cell_type": "markdown",
   "metadata": {},
   "source": [
    "### Loading in the Raw_Corpus and split into train, valid, test"
   ]
  },
  {
   "cell_type": "code",
   "execution_count": 28,
   "metadata": {},
   "outputs": [
    {
     "name": "stdout",
     "output_type": "stream",
     "text": [
      "Length of all data:  1152\n",
      "\n",
      "Length of training data:  922\n",
      "Length of validing data:  230\n",
      "Length of testing data:  230\n"
     ]
    }
   ],
   "source": [
    "\n",
    "# load in data\n",
    "all_data = split_text_label(os.path.join(\"Tagged_corpus_2021_12_07_1.txt\"))\n",
    "print(\"Length of all data: \", len(all_data))\n",
    "print()\n",
    "\n",
    "\n",
    "shuffle_data = random.shuffle(all_data)\n",
    "\n",
    "# split into train, valid, test by precentage\n",
    "train_num = round(len(all_data) * 0.8)\n",
    "valid_num = round(len(all_data) * 0.2)\n",
    "# test_num = round(len(all_data) * 0.2)\n",
    "\n",
    "# here we do not use cross validation, just use train and valid with 4:1\n",
    "split_train = all_data[:train_num]\n",
    "split_valid = all_data[train_num:]\n",
    "split_test = all_data[train_num:]\n",
    "\n",
    "print(\"Length of training data: \", len(split_train))\n",
    "print(\"Length of validing data: \", len(split_valid))\n",
    "print(\"Length of testing data: \", len(split_test))"
   ]
  },
  {
   "cell_type": "code",
   "execution_count": null,
   "metadata": {},
   "outputs": [],
   "source": []
  },
  {
   "cell_type": "code",
   "execution_count": 29,
   "metadata": {},
   "outputs": [
    {
     "name": "stdout",
     "output_type": "stream",
     "text": [
      "training data:  [[['the', 'O'], ['odds', 'O'], ['of', 'O'], ['clinical', 'O'], ['ketosis', 'B-DIS'], ['were', 'O'], ['63', 'O'], ['times', 'O'], ['greater', 'O'], ['in', 'O'], ['cows', 'O'], ['with', 'O'], ['serum', 'O'], ['nefa', 'B-NUT'], ['?', 'O'], ['10', 'O'], ['mmol/l', 'O'], ['in', 'O'], ['the', 'O'], ['first', 'O'], ['week', 'O'], ['after', 'O'], ['calving', 'O']]]\n",
      "\n",
      "validing data:  [[['one', 'O'], ['of', 'O'], ['the', 'O'], ['possible', 'O'], ['hepatic', 'O'], ['pathways', 'O'], ['of', 'O'], ['these', 'O'], ['metabolites', 'O'], ['and', 'O'], ['the', 'O'], ['one', 'O'], ['that', 'O'], ['is', 'O'], ['favoured', 'O'], ['in', 'O'], ['times', 'O'], ['of', 'O'], ['intense', 'O'], ['lipolysis', 'B-DIS'], ['and', 'O'], ['muscle', 'B-DIS'], ['breakdown', 'I-DIS'], ['leads', 'O'], ['to', 'O'], ['a', 'O'], ['production', 'B-DIS'], ['of', 'O'], ['ketone', 'B-NUT'], ['bodies', 'O'], ['(acetone', 'O'], ['acetoacetate', 'O'], ['ß-hydroxybutyrate', 'O'], ['[bhb])', 'O'], ['and', 'O'], ['their', 'O'], ['release', 'O'], ['into', 'O'], ['the', 'O'], ['bloodstream', 'O']]]\n",
      "\n",
      "testing data:  [[['one', 'O'], ['of', 'O'], ['the', 'O'], ['possible', 'O'], ['hepatic', 'O'], ['pathways', 'O'], ['of', 'O'], ['these', 'O'], ['metabolites', 'O'], ['and', 'O'], ['the', 'O'], ['one', 'O'], ['that', 'O'], ['is', 'O'], ['favoured', 'O'], ['in', 'O'], ['times', 'O'], ['of', 'O'], ['intense', 'O'], ['lipolysis', 'B-DIS'], ['and', 'O'], ['muscle', 'B-DIS'], ['breakdown', 'I-DIS'], ['leads', 'O'], ['to', 'O'], ['a', 'O'], ['production', 'B-DIS'], ['of', 'O'], ['ketone', 'B-NUT'], ['bodies', 'O'], ['(acetone', 'O'], ['acetoacetate', 'O'], ['ß-hydroxybutyrate', 'O'], ['[bhb])', 'O'], ['and', 'O'], ['their', 'O'], ['release', 'O'], ['into', 'O'], ['the', 'O'], ['bloodstream', 'O']]]\n",
      "\n"
     ]
    }
   ],
   "source": [
    "# print some list to see \n",
    "\n",
    "print(\"training data: \", split_train[0:1])\n",
    "print()\n",
    "\n",
    "print(\"validing data: \", split_valid[0:1])\n",
    "print()\n",
    "\n",
    "print(\"testing data: \", split_test[0:1])\n",
    "print()"
   ]
  },
  {
   "cell_type": "markdown",
   "metadata": {},
   "source": [
    "### 2, Buidling Vocabulary\n",
    "\n",
    "### build a vocabulary for the text, so we can assign a unique index for each word"
   ]
  },
  {
   "cell_type": "code",
   "execution_count": 30,
   "metadata": {},
   "outputs": [
    {
     "name": "stdout",
     "output_type": "stream",
     "text": [
      "\n",
      "labelSet:  5\n",
      "labelSet:  {'B-NUT', 'B-DIS', 'O', 'I-DIS', 'I-NUT'}\n",
      "\n",
      "wordSet:  4067\n"
     ]
    }
   ],
   "source": [
    "### use labelSet() as label dictionary \n",
    "### use wordSet() as word dictionary \n",
    "\n",
    "labelSet = set()\n",
    "wordSet = set()\n",
    "# words and labels\n",
    "for data in [split_train, split_valid, split_test]:\n",
    "    for labeled_text in data:\n",
    "        for word, label in labeled_text:\n",
    "            \n",
    "            # modifying unwanted mistag\n",
    "            if label == 'i-NUT':\n",
    "                label = 'I-NUT'\n",
    "            if label == '':\n",
    "                label = 'O'\n",
    "            \n",
    "            \n",
    "            labelSet.add(label)\n",
    "            wordSet.add(word.lower())\n",
    "            \n",
    "\n",
    "\n",
    "# modifying the label set \n",
    "print()\n",
    "#empty = labelSet.pop()\n",
    "labelSet.remove('\"performance')\n",
    "labelSet.remove('\"results')\n",
    "labelSet.remove('\"cow')\n",
    "labelSet.remove('\"cows')\n",
    "labelSet.remove('\"ration')\n",
    "labelSet.remove('\"cattle')\n",
    "labelSet.remove('\"2000)')\n",
    "labelSet.remove('\"in')\n",
    "labelSet.remove('\"')\n",
    "labelSet.remove('\"e')\n",
    "labelSet.remove('\"disorders')\n",
    "labelSet.remove('\"staggers')\n",
    "\n",
    "# check for the len \n",
    "print(\"labelSet: \", len(labelSet))\n",
    "print(\"labelSet: \", labelSet)\n",
    "print()\n",
    "print(\"wordSet: \", len(wordSet))\n"
   ]
  },
  {
   "cell_type": "markdown",
   "metadata": {},
   "source": [
    "### 3, Assiging index "
   ]
  },
  {
   "cell_type": "code",
   "execution_count": 31,
   "metadata": {},
   "outputs": [
    {
     "name": "stdout",
     "output_type": "stream",
     "text": [
      "idx2Label:  5\n",
      "idx2Label:  {0: 'O', 1: 'B-NUT', 2: 'B-DIS', 3: 'I-DIS', 4: 'I-NUT'}\n",
      "\n",
      "word2Idx:  4069\n",
      "word2Idx:  {'PADDING_TOKEN': 0, 'UNKNOWN_TOKEN': 1, 'abnormal': 2, '1980;': 3, 'ideally': 4, 'defable': 5, '15%': 6, 'subclinically': 7, 'bi-directional': 8, '(mcart': 9, 'costs;': 10, 'fever]': 11, 'involving': 12, 'increases': 13, 'injecting': 14, 'guess': 15, '275': 16, '(1998b)': 17, 'cutoff': 18, 'problem': 19, 'neb-related': 20, 'speculated': 21, 'characterized': 22, 'markers': 23, 'drug': 24, '1979;': 25, 'curves': 26, 'encompassing': 27, '(christenson': 28, 'daily': 29, '400kg': 30, '2020)': 31, 'involution': 32, 'high-starch': 33, '(sanchez': 34, 'phenomena': 35, 'monensin': 36, 'farms': 37, '(dmi)': 38, 'furthermore': 39, 'adipose': 40, 'conclusions': 41, 'data': 42, 'sealant': 43, 'conventional': 44, 'alternatively': 45, 'mammary': 46, 'developments': 47, 'describe': 48, 'depressed;': 49, 'trivial': 50, 'pushing': 51, '?hydroxybutyrate': 52, 'evaluated': 53, 'programmed': 54, 'finding': 55, 'delay': 56, '328': 57, 'securing': 58, '–067': 59, '3/4': 60, 'offered': 61, 'poorer': 62, 'd-depent': 63, 'challenges:': 64, 'pertinent': 65, 'decisions': 66, '417': 67, 'diagnosis': 68, 'sense': 69, '40%13': 70, 'understanding': 71, '?-hydroxybutyrate': 72, 'correa': 73, 'magnify': 74, 'assessing': 75, 'issues': 76, 'partum': 77, 'simulate': 78, 'description': 79, 'combination': 80, 'greatest': 81, 'examine': 82, '(martens': 83, 'readily': 84, 'plus': 85, 'association': 86, 'before': 87, 'hand': 88, 'pathophysiology': 89, 'turning': 90, 'linolenic': 91, 'twice': 92, 'strive': 93, 'prepartum': 94, '140': 95, '010)': 96, 'partially': 97, 'entirely': 98, 'improving': 99, 'triglyceride': 100, 'improvements': 101, 'traditional': 102, 'house': 103, 'one': 104, 'function': 105, 'injury': 106, 'nadir': 107, '40)(duffield': 108, 'odds': 109, 'indicates': 110, 'placenta)': 111, 'dyk': 112, 'indirectly': 113, 'expressed': 114, 'scenario': 115, 'correlated': 116, 'team': 117, '1968;': 118, 'interpreting': 119, 'der': 120, 'consequence': 121, 'abomasal': 122, 'silage-based': 123, 'among': 124, '(bertics': 125, 'solution': 126, 'gestation': 127, 'again': 128, 'ß-hydroxybutyrate': 129, 'modulating': 130, 'offer': 131, '(1993)': 132, 'maximum': 133, 'artificial': 134, 'feces': 135, '42': 136, 'checking': 137, 'abomasum;': 138, 'responses': 139, 'bunk': 140, 'results': 141, 'mammals': 142, 'fever': 143, 'santos': 144, 'york': 145, 'focus': 146, '21': 147, 'injection': 148, 'dilute': 149, 'fat:protein': 150, 'backbone': 151, '(cook': 152, 'proven': 153, '(owens': 154, 'ph': 155, 'linear': 156, 'contributed': 157, 'agriculture': 158, 'versus': 159, 'experiences': 160, 'becoming': 161, 'communication;': 162, 'particles': 163, 'microbes': 164, 'cl': 165, 'which': 166, 'top': 167, 'completed': 168, 'ton': 169, 'preferred': 170, 'armageddon': 171, 'validate': 172, 'temporal': 173, 'tmr-fed': 174, 'underscored': 175, 'placebo': 176, 'sensitive': 177, 'protein': 178, 'two-group': 179, 'status-oriented': 180, 'related': 181, '(erdman': 182, 'respectively': 183, 'mitigated': 184, 'herd1213-35': 185, '(bcs': 186, 'hall': 187, 'condition;': 188, 'phenomenon': 189, 'provided': 190, '(1213)': 191, 'flora': 192, '2017)': 193, 'seriously': 194, 'underreporting': 195, 'markedly': 196, '(0-60dim)': 197, 'fatty': 198, 'allowance': 199, 'stocking': 200, 'neutralized': 201, 'believe': 202, '165': 203, '(sck)': 204, 'key': 205, 'aid': 206, 'monitored': 207, 'dam': 208, '325': 209, 'welfare': 210, 'high-straw': 211, 'push-ups': 212, 'densities': 213, 'did': 214, 'summary': 215, 'noticeable': 216, 'p)': 217, 'blueprints': 218, 'fuels': 219, 'over-conditioning': 220, 'prolong': 221, 'developing': 222, 'through': 223, '05': 224, 'enzymes': 225, 'bottles': 226, 'herd-level': 227, 'calf': 228, 'minimization': 229, 'inconsistency': 230, 'acceptable': 231, 'swedish': 232, '‘pools’': 233, 'culled': 234, '1989)': 235, 'vs': 236, '(skaar': 237, 'relevance—these': 238, 'enough': 239, 'accommodate': 240, '„': 241, 'acetone': 242, 'as': 243, 'herds;': 244, 'cows1': 245, 'experienced': 246, 'manifested': 247, 'version': 248, 'site': 249, '(ndf)': 250, 'value': 251, 'intermittent': 252, 'grouped': 253, 'role': 254, 'deeper': 255, 'lacks': 256, 'angular': 257, 'phosphate': 258, 'analyzed': 259, 'appropriately': 260, '54': 261, 'decent': 262, 'promote': 263, 'compositions': 264, '(me]': 265, 'model': 266, 'severe': 267, '(to': 268, '“risk': 269, 'integrative': 270, '5': 271, 'within': 272, 'enter': 273, 'fibrous': 274, '35%': 275, 'naïve': 276, 'clip': 277, 'midstream': 278, 'pan]': 279, 'predominantly': 280, '\"cows\\n': 281, 'mineral': 282, '31': 283, 'balanced': 284, '<': 285, 'consumed': 286, '50%': 287, '(negative': 288, 'ensuing': 289, 'transition': 290, 'data)': 291, 'recognised': 292, 'phase;': 293, 'impair': 294, 'epidemiology': 295, 'lipase': 296, 'hence': 297, '(n': 298, 'cycles': 299, 'h': 300, 'low-rank': 301, 'suggested': 302, 'holsteins': 303, '1980': 304, 'vitamin': 305, 'cell': 306, 'spite': 307, 'abnormally': 308, 'with': 309, 'productive': 310, 'contents': 311, '(dcad)': 312, 'µmol/l': 313, 'kauppinen': 314, 'digestion': 315, 'inflammation': 316, 'estimated': 317, 'pathological': 318, 'sample': 319, '1992);': 320, 'al': 321, 'documented': 322, 'involve': 323, 'et': 324, 'mcal/day': 325, 'horst': 326, 'subject': 327, '(sauer': 328, 'insertion': 329, 'early-lactation': 330, 'hour': 331, 'according': 332, 'adjusting': 333, 'milk/day': 334, 'diet': 335, 'capacity': 336, 'postparturient': 337, 'reflects': 338, '45': 339, '130': 340, 'qualities': 341, 'severity': 342, 'though': 343, 'needs': 344, '3kg': 345, '031': 346, 'cyclicity': 347, 'cautioned': 348, 'ability': 349, 'pregnancy': 350, 'predisposes': 351, 'farmers': 352, 'majority': 353, 'undergo': 354, 'would': 355, '8-foot': 356, 'metrics': 357, 'subtleties': 358, 'acetone)': 359, 'close': 360, '(1997)': 361, 'g)': 362, 'bodily': 363, 'commercial': 364, 'attempts': 365, 'notable': 366, 'heat': 367, 'morant': 368, 'conception': 369, 'elegant': 370, 'minimising': 371, 'domino': 372, 'recognition': 373, 'likelihood': 374, '(blanc': 375, 'study': 376, 'alfalfa': 377, 'detoxification': 378, 'yields': 379, 'intensity': 380, 'holtenius': 381, 'pounds': 382, 'smoothly': 383, 'cortisol': 384, 'double': 385, 'controlled': 386, 'cow8]': 387, 'simply': 388, 'stall': 389, 'combined': 390, 'united': 391, 'observations': 392, 'dohoo': 393, '–042': 394, 'post-parturient': 395, 'below': 396, 'mounting': 397, '(g': 398, 'supplement': 399, 'cameron': 400, 'substantially': 401, '38': 402, \"kronfeld's\": 403, 'prudent': 404, 'factors': 405, 'ensuring': 406, '(2010)': 407, '2016a': 408, 'nefa': 409, 'removal': 410, 'argue': 411, 'consequences': 412, 'left': 413, '4)': 414, '(da)': 415, 'working': 416, 'me': 417, 'mute': 418, 'show': 419, 'postnatally': 420, 'sacrificing': 421, 'acetyl': 422, 'escape': 423, 'relocate': 424, 'inspection': 425, 'accumulated': 426, 'tied': 427, 'lactate-utilizing': 428, 'monitor': 429, 'aids': 430, 'calcium': 431, 'episode': 432, 'suboptimal': 433, 'dry-matter': 434, '02': 435, 'readers': 436, 'eaten': 437, 'respiratory': 438, 'herd)': 439, 'benefits': 440, '\"performance\\n': 441, 'traditionally': 442, 'visibly': 443, 'large-herd': 444, 'genetics': 445, 'absorption': 446, 'rent': 447, 'paper': 448, 'unpublished)': 449, 'cortisol)': 450, 'note': 451, 'said': 452, 'al4243': 453, 'variation': 454, '(1989)': 455, 'crucial': 456, 'occasionally': 457, 'bw': 458, 'da)': 459, 'decreased': 460, '(apoprotein': 461, 'basis)': 462, 'post-fresh': 463, 'synthesis': 464, 'clarify': 465, 'maladaptation': 466, '1142)': 467, 'accompanied': 468, '(holtenius': 469, 'similarly': 470, 'lactose': 471, 'guidelines': 472, 'much': 473, 'periparturient': 474, 'consuming)': 475, 'locking': 476, 'correlation': 477, 'soluble': 478, 'multi': 479, 'try': 480, 'start': 481, 'potentially': 482, 'cutpoints': 483, 'l': 484, 'northern': 485, 'adequately': 486, 'mmol/l)': 487, 'intervals': 488, 'small': 489, 'exted': 490, 'popularity': 491, '2020b)': 492, 'concepts': 493, 'tools': 494, 'larger': 495, 'maintaining': 496, 'treatment': 497, 'or': 498, 'adaptations': 499, 'detected': 500, 'composed': 501, 'fates:': 502, 'pressure': 503, 'response4': 504, 'nonketotic': 505, 'supply': 506, 'shown': 507, 'concentrate': 508, 'counsel': 509, 'undesired': 510, 'assigning': 511, 'awareness': 512, 'unable': 513, 'restrain': 514, 'dcad)': 515, '(low': 516, 'more': 517, 'commingling': 518, 'mcnamara': 519, 'animals”': 520, 'bines': 521, 'obesity': 522, 'three': 523, 'result': 524, 'acid)': 525, 'products': 526, 'inverse': 527, '(10)': 528, '(fas)': 529, 'adapt': 530, 'days)': 531, 'indicator': 532, 'high': 533, 'explored': 534, 'gluconeogenic': 535, 'regulation': 536, 'concentra¬': 537, 'deping': 538, 'adding': 539, 'catabolic': 540, 'retained': 541, '9': 542, '(douglas': 543, 'level;': 544, 'sixty-five\"': 545, 'xylazine)': 546, 'uncoupling': 547, 'examination': 548, 'approaches': 549, 'initiation': 550, 'place': 551, 'itself': 552, 'during': 553, 'schemes': 554, 'metabolic': 555, 'insight': 556, 'background': 557, 'having': 558, 'protected': 559, 'implies': 560, 'mentioned': 561, 'come': 562, 'aetiology': 563, 'aspect': 564, 'failure': 565, 'without': 566, 'overnight': 567, 'your': 568, 'conducted': 569, '94%': 570, 'frequency': 571, 'second': 572, 'reaches': 573, 'big': 574, 'remarkably': 575, 'elsewhere': 576, '50:50': 577, 'trial': 578, 'predisposition': 579, 'leblanc': 580, 'article': 581, 'fresh': 582, '(2004)': 583, 'therapy': 584, '%': 585, '2021)': 586, 'regards': 587, 'correct': 588, '71': 589, 'own': 590, 'deficiencies': 591, 'group23': 592, 'income': 593, 'balances': 594, '[aiming': 595, 'uterus': 596, 'march': 597, 'concepts”': 598, 'preventive': 599, 'interpret': 600, 'factor': 601, '(massey': 602, 'supplementation': 603, 'forgotten': 604, '<305': 605, 'transport': 606, 'enema': 607, 'cur¬': 608, 'supplements': 609, 'normally': 610, 'onto': 611, 'ketones': 612, 'actually': 613, 'reviews': 614, 'calving)': 615, '049)': 616, 'correction': 617, 'hard': 618, 'systematic': 619, 'substance': 620, 'poses': 621, 'what': 622, 'relation': 623, 'blood': 624, 'prepared': 625, 'frequently': 626, '56': 627, 'feeding-': 628, 'fats': 629, '(1995)': 630, 'struggle': 631, 'undesirable': 632, 'muscular': 633, 'close-diets': 634, 'unrealized': 635, 'metritis': 636, '(1': 637, 'termed': 638, 'measures': 639, 'unchanged': 640, '1998);': 641, 'implementation)': 642, 'recommations': 643, 'still': 644, 'tried': 645, 'cow/early': 646, 'sodium': 647, 'weight;': 648, '“close-up”': 649, '06m': 650, 'lessen': 651, 'actionable': 652, 'encountered': 653, 'moves': 654, '(3)': 655, 'heifers': 656, 'reproductive': 657, 'aspartate': 658, 'consisting': 659, 'undergoes': 660, 'glycol': 661, 'overconditioned': 662, 'difference': 663, 'infused': 664, 'corrections': 665, 'challenge': 666, 'implementation': 667, 'pdi': 668, 'eosinophil': 669, '084': 670, '32': 671, 'dufva': 672, 'sound': 673, 'fat;': 674, 'recheck': 675, 'convenient': 676, 'precalving': 677, '?-tocopherol': 678, 'macromineral': 679, '5000l': 680, 'lacta¬': 681, 'fluids': 682, 'whole': 683, 'ventral': 684, 'controlled-energy': 685, 'conducive': 686, 'twinning': 687, 'accumulate': 688, 'linoleic': 689, 'cornell': 690, 'sires': 691, 'disappointing': 692, 'applied': 693, 'seem': 694, 'ventilation': 695, 'heavier': 696, 'counts': 697, 'rumen-inert': 698, 'now': 699, 'infiltration': 700, 'co': 701, 'both': 702, 'life': 703, 'interest': 704, 'variety': 705, 'fall': 706, 'cow': 707, 'lagging': 708, 'addressed': 709, 'worse': 710, '(goff': 711, 'breakdown': 712, '(bauman': 713, 'overestimated': 714, 'agent': 715, '2006)': 716, 'energy-related': 717, 'dairy': 718, 'scheme': 719, 'homeorhetic': 720, 'progesterone': 721, 'delivering': 722, 'imbalancing': 723, 'definitions': 724, 'advantageous': 725, '[bhb])': 726, 'lactic': 727, '1994;': 728, 'stand': 729, 'acidified': 730, 'internally': 731, 'obvious': 732, 'some': 733, 'ucd': 734, 'pdie': 735, 'reesterified': 736, 'chosen': 737, 'plagued': 738, 'intensively': 739, 'dmi;': 740, 'effect)': 741, '2-3': 742, 'hypomagnesaemic': 743, 'on': 744, 'effective': 745, '4]': 746, '1985;': 747, 'represented': 748, 'synthesized': 749, '(cncps)': 750, 'looking': 751, 'inches': 752, 'logically': 753, '(1999)': 754, 'abnormalities': 755, '2016a)': 756, 'metabolomics': 757, 'preventing': 758, 'been': 759, 'not': 760, 'salts': 761, 'staggering': 762, 'good': 763, '\"cow\\n': 764, 'continuous': 765, 'immediate': 766, 'necessary': 767, '(grummer': 768, 'investigations': 769, 'interested': 770, 'lowquality': 771, 'compound': 772, '10%': 773, 'communication)': 774, '(33%': 775, 'ometritis': 776, 'fetus': 777, 'moving': 778, '(holcomb': 779, '×': 780, 'fig': 781, 'energy': 782, 'c)': 783, 'divids': 784, '14-week': 785, '(4)': 786, 'cows;': 787, 'doubt': 788, 'visible': 789, 'net': 790, 'productivity': 791, 'circumvent': 792, 'housed': 793, 'culling': 794, 'fat)': 795, '2003;': 796, 'mmol/l;': 797, 'ranged': 798, '(crc)': 799, 'russell': 800, 'pre': 801, 'begins': 802, 'parturition1': 803, 'processes': 804, '>12': 805, 'gestating': 806, 'fewer': 807, 'paresis': 808, '(tmr)': 809, '2016b)': 810, 'nh3': 811, 'position': 812, 'contained': 813, '(allen': 814, 'ufl': 815, '(miettenen': 816, 'therapeutic': 817, 'multiparous': 818, 'hope-cawdery': 819, 'unusual': 820, 'test-and-treat': 821, '1928)': 822, 'added': 823, '1988;': 824, 'task': 825, 'risk': 826, 'sensitivities': 827, 'push': 828, 'developed': 829, 'exported': 830, 'titis': 831, 'long-chain': 832, '1993)': 833, \"today's\": 834, 'animal': 835, 'inadequate': 836, 'describing': 837, 'formation': 838, 'misclassification': 839, 'absorbed': 840, 'deped': 841, 'near': 842, 'bulkiness': 843, 'negatively': 844, 'par-turition': 845, 'meet': 846, 'autumn': 847, 'demands': 848, 'parenteral': 849, 'force-feeding': 850, 'goal': 851, 'containing': 852, 'why': 853, 'existence': 854, 'year36': 855, 'managing': 856, 'assisting': 857, 'b)': 858, 'smith': 859, 'analysed': 860, 'epidemiological': 861, 'load”': 862, 'rectify': 863, '(emery': 864, 'niacin': 865, 'underfed': 866, 'premature': 867, '(lacetera': 868, 'variables': 869, 'lipidosis': 870, 'abomasum': 871, 'conduct': 872, 'giving': 873, '2014);': 874, 'imperative': 875, 'lacking': 876, 'fail': 877, 'twins': 878, 'concurrent': 879, 'established': 880, 'performing': 881, 'last': 882, '(psps]': 883, '2015': 884, 'agenäs': 885, 'leading': 886, 'designed': 887, 'maximization': 888, 'problems': 889, 'drink': 890, 'well-being': 891, 'refusals': 892, 'supplied': 893, 'turnover': 894, 'dexamethasone': 895, 'result16’26': 896, 'extreme': 897, 'investigated': 898, 'days': 899, 'accurately': 900, 'unclear': 901, 'factor:': 902, 'risks': 903, 'k': 904, 'referred': 905, 'receptor': 906, 'calf44': 907, 'advise': 908, 'stop': 909, 'postpartum;': 910, '“vfa': 911, 'content': 912, '(zahra': 913, '(1980)': 914, 'oil': 915, 'hormones': 916, 'signaling': 917, 'systems': 918, 'weeks': 919, '61': 920, 'immunosuppressive': 921, 'blindness': 922, 'advocate': 923, 'explained': 924, 'neutrophils': 925, 'control': 926, 'final': 927, 'caused': 928, '(nel': 929, '(the': 930, 'f': 931, 'facilitate': 932, 'parturient': 933, 'repeatable': 934, '(fisher': 935, 'sensitivity': 936, 'butler': 937, 'chemotactic': 938, 'ext': 939, '15-50': 940, '(acetone': 941, 'logistic': 942, 'behavior': 943, 'long-term': 944, 'unfortunately': 945, 'histamine': 946, 'price': 947, 'easily': 948, 'ones': 949, 'accrued': 950, '1976;': 951, 'conclude': 952, 'predict': 953, 'tip': 954, 'glands': 955, '“steam-up': 956, 'disorders': 957, 'software': 958, 'mertens': 959, 'exists': 960, 'entered': 961, 'variable': 962, 'correlations': 963, '(constable': 964, 'contributes': 965, 'condition': 966, 'regular': 967, 'work': 968, 'sauer': 969, 'moderate': 970, 'northeast': 971, 'directly': 972, 'understand': 973, '“pre-fresh”': 974, '\"staggers\\n': 975, '(acetoacetic': 976, 'approximate': 977, 'postpartum': 978, 'urinary': 979, 'careful': 980, 'verify': 981, '1996)': 982, 'important)': 983, 'sudden': 984, 'low': 985, 'experiment': 986, 'sck': 987, 'threefold': 988, 'cost': 989, 'scientific': 990, 'dangerous': 991, 'worthy': 992, 'operation': 993, 'pg': 994, 'themselves': 995, 'manipulation': 996, 'trs': 997, 'frustrating': 998, 'mg': 999, 'g)in': 1000, 'grain': 1001, 'dates': 1002, 'greater': 1003, 'should': 1004, 'proper': 1005, 'magnesium': 1006, 'drackley': 1007, 'specificity)': 1008, '(323': 1009, '2000)': 1010, '2003a;': 1011, '10-3)': 1012, 'rukkwamsuk': 1013, 'arise': 1014, 'expression': 1015, 'pay': 1016, 'intestinal': 1017, 'element': 1018, 'cutpoint': 1019, 'cholesterol': 1020, 'remained': 1021, 'dysregulated': 1022, 'intravenous': 1023, '1990;': 1024, 'issue': 1025, '>15': 1026, 'provides': 1027, 'covariates': 1028, 'costs': 1029, 'cows29': 1030, 'strongest': 1031, 'masking': 1032, 'water': 1033, 'institute': 1034, 'questionable': 1035, 'pre-partum': 1036, 'lack': 1037, 'screen': 1038, 'papillae': 1039, 'lowered': 1040, 'dim)': 1041, 'reaction': 1042, 'was': 1043, 'dep': 1044, 'indicate': 1045, 'post-partum15-36': 1046, 'production-related': 1047, 'new': 1048, '(alibrahim': 1049, 'thermoregulation': 1050, 'motility': 1051, 'disturbance': 1052, 'curve': 1053, 'levels': 1054, 'diagnosed': 1055, '(68': 1056, 'worldwide': 1057, 'promoting': 1058, 'persists': 1059, 'arbitrary': 1060, 'decide': 1061, 'repeatedly': 1062, '>25%': 1063, 'projects': 1064, '375': 1065, 'insemination': 1066, 'higher-energy': 1067, 'tremous': 1068, 'mixture': 1069, 'our': 1070, '15': 1071, '1997;': 1072, 'estimates': 1073, 'go': 1074, 'include': 1075, 'characteristic': 1076, '(nrc': 1077, 'predicted': 1078, 'reliable': 1079, '1800': 1080, 'drops': 1081, '034)': 1082, 'trials': 1083, 'depression': 1084, 'success17': 1085, 'regardless': 1086, '(600kg)': 1087, 'absorptions': 1088, 'liver': 1089, 'dystocia': 1090, 'extrapolated': 1091, 'non-significant': 1092, 'absolute': 1093, 'concern': 1094, 'drawn': 1095, 'movements': 1096, 'requires': 1097, '(o’mara': 1098, 'definitive': 1099, 're-establishment': 1100, 'selecting': 1101, 'after': 1102, 'so': 1103, '(kronfeld': 1104, 'measuring': 1105, 'useful': 1106, 'rate': 1107, 'presentation': 1108, 'challenging': 1109, '1928': 1110, 'equivocally': 1111, '15–20%': 1112, '[dcad;': 1113, 'excessively': 1114, '2%': 1115, 'primary': 1116, 'middle': 1117, 'occurred': 1118, 'blocked': 1119, '1100': 1120, 'warranted': 1121, 'principally': 1122, 'none': 1123, '(pre-fresh)': 1124, 'canadian': 1125, 'considerably': 1126, 'recent': 1127, 'administer': 1128, 'apparent': 1129, 'explain': 1130, 'drewry': 1131, 'meaningless': 1132, 'already': 1133, 'deficit': 1134, '1993;': 1135, 'quantity': 1136, 'stages': 1137, 'meter': 1138, 'had': 1139, '(agenäs': 1140, 'about': 1141, '57': 1142, 'constituents': 1143, 'indicator)': 1144, 'outcomes;': 1145, 'struggling': 1146, '(staples': 1147, 'overton': 1148, 'learn': 1149, 'marginal': 1150, 'chopped': 1151, 'hypocalcemia\"': 1152, '1999;': 1153, 'content;': 1154, 'scale': 1155, 'ovaries': 1156, 'feeding': 1157, 'standard': 1158, 'cellulolytic': 1159, '1999)': 1160, 'utilized': 1161, 'eq/l;': 1162, 'industry': 1163, 'studying': 1164, 'ruminating': 1165, 'a': 1166, 'fever316': 1167, 'evaluate': 1168, 'dm)': 1169, 'associated': 1170, 'storage': 1171, 'evident': 1172, 'physiologically': 1173, 'holistic': 1174, 'feedstuffs': 1175, 'eight': 1176, 'maximise': 1177, 'restricted': 1178, 'chlorinated': 1179, 'constitutes': 1180, 'robb': 1181, 'metabolite': 1182, 'cation': 1183, 'delayed': 1184, 'thus': 1185, 'ancillary': 1186, '–': 1187, 'emic': 1188, 'closely': 1189, 'cereals': 1190, 'vldl': 1191, 'producers': 1192, 'successfully': 1193, 'get': 1194, 'bodies': 1195, 'voluntarily': 1196, 'desirable': 1197, 'lactating': 1198, 'predispose': 1199, 'indoors': 1200, 'ovarian': 1201, '08': 1202, 'facilitated': 1203, '(simianer': 1204, 'because': 1205, 'addressing': 1206, 'milk/d': 1207, 'axes': 1208, 'sources': 1209, '1300': 1210, 'barley': 1211, 'prevalences': 1212, '(agrisearch': 1213, 'starting': 1214, 'zealand': 1215, '2': 1216, 'implicated': 1217, 'easier': 1218, 'fenceline': 1219, '(radostits': 1220, 'thin': 1221, 'clearly': 1222, 'protozoa': 1223, 'do': 1224, 'single': 1225, 'agenas': 1226, 'elusive': 1227, 'decision': 1228, 'options': 1229, 'crowding': 1230, '70': 1231, 'unsuitable': 1232, 'combinations': 1233, 'body': 1234, 'weather': 1235, 'exceeding': 1236, 'dcad': 1237, 'important;': 1238, 'eating': 1239, 'veterinarians': 1240, 'analysis': 1241, 'fronk': 1242, 'exciting': 1243, 'initiate': 1244, 'need': 1245, 'advantage': 1246, 'technological': 1247, 'limit-fed': 1248, 'occurrences': 1249, 'syndrome': 1250, 'dairy\"': 1251, 'correctly': 1252, 'inclusion': 1253, 'actual': 1254, '(dohoo': 1255, 'trial;': 1256, 'suggesting': 1257, 'photoperiod': 1258, 'route': 1259, 'pen': 1260, 'respectivelythese': 1261, 'axis': 1262, 'help': 1263, 'grains)': 1264, 'leukosis)': 1265, 'advocated': 1266, '(grass': 1267, 'kinetics': 1268, 'point': 1269, '(use': 1270, 'adjust': 1271, 'fiber': 1272, 'bulky': 1273, 'hay': 1274, 'outlined': 1275, '5-15kg': 1276, '(4%': 1277, 'glucogenic': 1278, '(murphy': 1279, 'wallace': 1280, 'perfect': 1281, 'ca)': 1282, 'scandinavian': 1283, 'wisconsin': 1284, 'calibrate': 1285, 'surely': 1286, '(milk': 1287, 'replicated': 1288, '44': 1289, '-': 1290, '(yokoyoma': 1291, '(loor': 1292, 'gluconate': 1293, 'conjunction': 1294, 'quantitatively': 1295, 'soybean': 1296, 'unnoticed': 1297, 'disorder': 1298, 'divide': 1299, 'created': 1300, 'al45': 1301, 'implying': 1302, '3)': 1303, 'axes:': 1304, 'attracted': 1305, 'suppressing': 1306, 'fruitful': 1307, 'isoflupredone': 1308, 'laminitis': 1309, 'expenses': 1310, '0-60': 1311, 'taken': 1312, 'move': 1313, 'enriched': 1314, 'comingling': 1315, 'category': 1316, 'lysine': 1317, 'allow': 1318, 'cells': 1319, 'confidence': 1320, 'grum': 1321, '75%': 1322, 'overfed': 1323, 'forty-nine': 1324, '30%': 1325, 'rates': 1326, 'optimizing': 1327, 'prevalent': 1328, 'sum': 1329, 'detect': 1330, 'urine': 1331, 'cost:': 1332, '(roche': 1333, 'bottom': 1334, 'resulting': 1335, 'regard': 1336, 'low-energy': 1337, 'reared': 1338, 'general': 1339, 'occurrence': 1340, 'going': 1341, '2011)': 1342, 'dim': 1343, '(deposition': 1344, 'calves': 1345, 'stressful': 1346, 'schultz': 1347, 'managed': 1348, 'link': 1349, 'positively': 1350, 'cdn)': 1351, 'exhibited': 1352, 'costs28': 1353, 'unpublished': 1354, 'demand;': 1355, 'response': 1356, 'psps]': 1357, 'subjective': 1358, 'recumbency': 1359, 'sufficiently': 1360, 'low-potassium': 1361, 'maximize': 1362, 'alone': 1363, 'space': 1364, 'posttreatment': 1365, 'classic': 1366, 'ft': 1367, '$350': 1368, '03': 1369, 'incidences': 1370, 'udder': 1371, 'entire': 1372, '60': 1373, 'reported': 1374, 'relative': 1375, 'sedatives': 1376, 'contrast': 1377, 'marked': 1378, 'hyperglycaemic': 1379, 'lactation;': 1380, 'regrouping': 1381, 'definition': 1382, 'social': 1383, 'develops': 1384, 'prior': 1385, 'intramuscularly': 1386, 'incidence': 1387, 'reasons': 1388, 'highstraw': 1389, '(from': 1390, 'leads': 1391, 'reduced': 1392, 'reviewed': 1393, 'interplay': 1394, '2003)': 1395, 'pathogenesis': 1396, 'economically-viable': 1397, 'can': 1398, '350': 1399, 'affecting': 1400, 'lying': 1401, 'owner': 1402, 'scale)': 1403, 'decreases': 1404, 'controllable': 1405, 'stems': 1406, '138': 1407, 'advisors': 1408, 'less)': 1409, 'abomasums)': 1410, 'home': 1411, 'produce': 1412, 'subsequent': 1413, 'varied': 1414, 'calving': 1415, 'major': 1416, 'drench': 1417, 'cow/herd': 1418, 'p': 1419, 'flies': 1420, '\"\\n': 1421, 'inadvertently': 1422, '(bw)': 1423, 'amino': 1424, 'calve': 1425, 'fed': 1426, 'a\"': 1427, 'hyperketonemic': 1428, 'at': 1429, 'garnsworthy': 1430, 'disequilibrated': 1431, 'released': 1432, 'mp': 1433, 'coordination': 1434, 'period)': 1435, '(morrow': 1436, 'accommodates': 1437, 'philosophy': 1438, 'addition': 1439, '(hydrolyze': 1440, 'averaged': 1441, 'holcomb': 1442, 'complete': 1443, '2000;': 1444, 'vary': 1445, 'certainly': 1446, 'stem': 1447, '(gustafsson': 1448, 'reports': 1449, 'well': 1450, 'proportion': 1451, 'threshold': 1452, 'ways': 1453, 'overcrowding': 1454, 'gland2-11': 1455, 'mj/kg)': 1456, 'level': 1457, 'separate': 1458, 'making': 1459, 'achieved': 1460, 'flowing': 1461, '(schultz': 1462, 'physiology': 1463, 'parity': 1464, 'reserves': 1465, '(pounds': 1466, '(hutjens': 1467, 'fermentability': 1468, 'choline': 1469, 'increased\"': 1470, '(mg)': 1471, 'allowing': 1472, 'setala': 1473, 'currie': 1474, 'stephenson': 1475, 'carbonate': 1476, 'utilize': 1477, 'favor': 1478, 'succumbs': 1479, 'problematic': 1480, '14%': 1481, 'advances': 1482, 'short': 1483, 'methionine': 1484, 'hyperketonaemia': 1485, 'requirements)': 1486, 'cannulas': 1487, '001)': 1488, 'sampled': 1489, 'dairies': 1490, 'fertility': 1491, 'mg/dl)': 1492, 'design—retrospective': 1493, 'mastitis': 1494, 'later': 1495, 'conversely': 1496, 'university': 1497, 'nonesterified': 1498, 'maintain\"': 1499, 'forages': 1500, 'using': 1501, 'attention': 1502, '(because': 1503, 'pathways': 1504, 'were': 1505, 'every': 1506, 'inappropriate': 1507, '869': 1508, 'supplemental': 1509, '2)': 1510, 'significant': 1511, 'measure': 1512, 'stillborn': 1513, '14': 1514, 'unlikely': 1515, 'controversial': 1516, 'nefas': 1517, 'theories': 1518, 'clonic': 1519, '335': 1520, 'performed': 1521, 'physological': 1522, 'minor': 1523, 'considering': 1524, 'interpreted': 1525, 'another': 1526, 'expensive': 1527, 'very': 1528, 'nerve': 1529, 'late': 1530, 'establish': 1531, 'day': 1532, 'stimulate': 1533, 'overfeeding': 1534, 'per': 1535, '(hayirli': 1536, 'findings': 1537, 'seven': 1538, 'omnipresent': 1539, 'once': 1540, 'extracellular': 1541, 'synthesize': 1542, '(pufa)': 1543, 'fast': 1544, 'tissue': 1545, 'scientists': 1546, 'e': 1547, 'recommed': 1548, 'plays': 1549, 'slippery': 1550, 'sustain': 1551, 'abomasums': 1552, 'additionally': 1553, 'around': 1554, 'adipocytes': 1555, '>07mmol/l': 1556, 'genetic': 1557, '(chilliard': 1558, 'dmi': 1559, 'inciting': 1560, 'states': 1561, 'nutrient': 1562, '041)': 1563, '1986)': 1564, 'sections': 1565, 'standby': 1566, 'possible': 1567, '55': 1568, 'noting': 1569, 'mat': 1570, '24': 1571, 'acquired': 1572, 'controls': 1573, 'window': 1574, '1980)': 1575, 'above)': 1576, '1991;': 1577, 'may': 1578, 'break': 1579, 'of': 1580, 'moreover': 1581, 'beet': 1582, 'impede': 1583, 'prophylactic': 1584, 'nonfirbrous': 1585, 'showed': 1586, 'outside': 1587, 'considerations': 1588, 'agents': 1589, '50': 1590, 'suffering': 1591, 'deposition': 1592, 'engagement': 1593, 'continuum': 1594, 'related;': 1595, 'care': 1596, 'properties': 1597, 'presence': 1598, 'visit': 1599, 'over¬': 1600, 'able': 1601, 'estimation': 1602, 'placentas': 1603, 'culminate': 1604, 'saun': 1605, 'cows/10%': 1606, 'takes': 1607, 'acclimatise': 1608, 'complicating': 1609, '136': 1610, 'mmol/l27': 1611, 'inevitable': 1612, 'season': 1613, 'se': 1614, 'then': 1615, '(or': 1616, 'emery': 1617, 'supplying': 1618, 'returns': 1619, 'saliva': 1620, 'agnostic': 1621, '60-': 1622, 'source': 1623, 'high-fiber': 1624, 'consume': 1625, 'antioxidant': 1626, 'includes': 1627, \"studies9'10'20\": 1628, 'solids': 1629, 'needed': 1630, 'given': 1631, 'meq/100': 1632, 'events': 1633, 'appetite-supressing': 1634, 'out': 1635, 'one-group': 1636, 'post¬': 1637, 'basic': 1638, 'vermont': 1639, 'facilities': 1640, 'publications': 1641, 'logistically': 1642, 'teat': 1643, 'emanuelson': 1644, 'profile': 1645, '(5-point': 1646, 'steam-flaked': 1647, 'high-producing': 1648, 'remaining': 1649, 'form': 1650, 'altered': 1651, 'carbohydrate': 1652, '130%': 1653, 'limiting': 1654, 'ruminal': 1655, 'death': 1656, 'cm': 1657, 'importantly': 1658, 'contribute': 1659, 'scc': 1660, '34': 1661, 'population': 1662, 'older': 1663, 'precursors': 1664, 'model(s)': 1665, '(2018)': 1666, 'movement': 1667, 'stated': 1668, '(fig': 1669, 'relatively': 1670, 'usually': 1671, 'discouraged': 1672, 'active': 1673, '72': 1674, '25': 1675, 'unraveling': 1676, 'areas': 1677, 'tissues': 1678, 'maintain': 1679, 'production2-4': 1680, 'decrease': 1681, 'gravitate': 1682, 'aspects': 1683, 'likely': 1684, 'foremost': 1685, 'methods': 1686, 'synthesis;': 1687, 'herds)': 1688, 'caving': 1689, 'involved': 1690, 'showing': 1691, 'total-mixed': 1692, 'sizes33': 1693, '(dewhurst': 1694, 'via': 1695, 'by-product': 1696, 'cm]': 1697, 'di¬': 1698, 'terms': 1699, 'vandehaar': 1700, '20': 1701, 'matter': 1702, '085': 1703, '161': 1704, 'qualitatively': 1705, 'design': 1706, 'proceed': 1707, 'computer': 1708, 'differences': 1709, 'composition': 1710, 'displaced\"': 1711, 'onset': 1712, 'helping': 1713, 'transfer': 1714, 'pre-': 1715, 'abomasum—factors': 1716, '2020c)': 1717, 'demand': 1718, 'separating': 1719, 'gland': 1720, 'defining': 1721, 'minimizing': 1722, 'throughput': 1723, 'gives': 1724, 'typically': 1725, 'crude': 1726, 'attempted': 1727, 'affected': 1728, 'achieving': 1729, 'elsewhere33': 1730, 'current': 1731, 'points': 1732, 'remainder': 1733, 'amass': 1734, 'requirement': 1735, 'acid;': 1736, 'react': 1737, 'characteristics': 1738, '1kg': 1739, 'strength': 1740, 'testing': 1741, 'such': 1742, '(coppock': 1743, 'here': 1744, '123': 1745, 'rumensin': 1746, 'grams': 1747, 'utilization': 1748, '(vannucchi': 1749, 'available': 1750, 'reason': 1751, '$11728': 1752, 'period;': 1753, 'examining': 1754, '039)': 1755, 'postcalving': 1756, '2002)': 1757, 'target': 1758, 'numerically': 1759, '(fatty': 1760, 'commencing': 1761, 'abatement': 1762, 'scenarios': 1763, 'per¬': 1764, 'attention8': 1765, 'regarding': 1766, 'mallard': 1767, 'conditioning': 1768, 'propionate': 1769, 'animal’s': 1770, 'highlights': 1771, 'ruminants': 1772, 'section': 1773, 'practitioners': 1774, 'varied;': 1775, 'being': 1776, '22': 1777, 'macro-': 1778, 'costly': 1779, '“there': 1780, 'worth': 1781, 'microminerals': 1782, 'mixed': 1783, 'intervention': 1784, 'you': 1785, '(starch)': 1786, 'decades': 1787, 'important:': 1788, '13': 1789, 'stories': 1790, 'conduction': 1791, '1793': 1792, 'introduction\"': 1793, 'estrous': 1794, 'must': 1795, '230': 1796, 'hypothesis': 1797, 'deliver': 1798, '(both': 1799, 'known': 1800, 'under': 1801, 'costs3': 1802, 'for': 1803, 'differently': 1804, 'capitalized': 1805, '514': 1806, 'between': 1807, '(ca)': 1808, 'individual': 1809, '(bhb)': 1810, 'absorb': 1811, 'pretreatment': 1812, 'mcal/kg': 1813, 'insemination39': 1814, 'scope': 1815, 'palatability': 1816, 'precipitate': 1817, '(vldl)': 1818, '2001)': 1819, 'she': 1820, 'transferring': 1821, 'reproduction': 1822, 'foetal': 1823, 'grass': 1824, 'non-nutritional': 1825, 'lda': 1826, '10': 1827, 'calving-related': 1828, 'rapidly': 1829, 'physiologic': 1830, 'burhans': 1831, 'cattle1': 1832, 'losses': 1833, 'overall': 1834, 'ospina': 1835, '07mmol/l': 1836, 'edema);': 1837, 'lipoproteins': 1838, 'lipoprotein': 1839, 'etiology': 1840, 'they': 1841, 'latter': 1842, 'concentration': 1843, 'lameness': 1844, 'above1400': 1845, 'substantial': 1846, 'outcome': 1847, 'manner': 1848, 'injure': 1849, 'fluctuate': 1850, 'broad': 1851, 'logical': 1852, '149': 1853, 'comfortable': 1854, 'ts': 1855, 'coordinate': 1856, 'select': 1857, 'optimal': 1858, 'identifying': 1859, 'formulate': 1860, 'curtis': 1861, 'displaced': 1862, 'situation': 1863, 'published': 1864, 'disease': 1865, '47': 1866, 'consequently': 1867, '(shaver': 1868, '(10': 1869, 'neb)': 1870, '2010)': 1871, 'induce': 1872, 'reverse': 1873, 'interactions': 1874, 'veterinary': 1875, 'throughout': 1876, 'area': 1877, 'unwilling': 1878, 'essential': 1879, '+': 1880, 'momentum': 1881, 'beta-hydroxybutyric': 1882, 'compromised': 1883, 'efficacious': 1884, 'over': 1885, 'dynamic': 1886, '[both': 1887, '475': 1888, 'ketogenesis': 1889, 'microbial': 1890, 'influence': 1891, 'bovine': 1892, 'hypocalcaemia': 1893, 'momentous': 1894, '(whelan': 1895, 'freestall': 1896, 'discussion': 1897, '95': 1898, 'like': 1899, 'assigned': 1900, 'confined': 1901, 'providing': 1902, 'close-up': 1903, 'gain': 1904, 'others': 1905, 'rumination': 1906, 'adopted': 1907, 'amounted': 1908, '410': 1909, 'jordan': 1910, 'oxidation': 1911, 'comfort': 1912, 'large': 1913, 'want': 1914, 'fed;': 1915, 'monocyte': 1916, 'makes': 1917, '(and': 1918, 'arbitrarily': 1919, 'convulsions': 1920, 'rather': 1921, 'competence': 1922, 'all': 1923, 'modifier': 1924, 'continuously': 1925, 'search': 1926, 'massive': 1927, 'comments': 1928, 'experiments': 1929, '2009)': 1930, 'yield': 1931, 'shunted': 1932, 'framework': 1933, '1995)': 1934, 'clean': 1935, 'walsh': 1936, 'microarray': 1937, 'reached': 1938, 'observe': 1939, 'capsule': 1940, 'proteomics': 1941, 'hepatic': 1942, 'conditional': 1943, 'optimising': 1944, 'slices': 1945, 'against': 1946, 'neutrophil': 1947, 'ofwhat': 1948, 'management-related': 1949, 'investigators4–8': 1950, 'located': 1951, 'carefully': 1952, 'observed': 1953, 'unrealised': 1954, 'grazing': 1955, 'assume': 1956, 'reach': 1957, 'annual': 1958, 'management': 1959, '1988': 1960, 'prevented': 1961, 'dm/d': 1962, 'fetal': 1963, 'defense': 1964, 'housing': 1965, 'i': 1966, '(national': 1967, 'mitigate': 1968, 'analogous': 1969, 'percentage': 1970, 'hypocalcemia)': 1971, 'silages': 1972, 'way': 1973, 'today’s': 1974, 'dry-off': 1975, 'practice': 1976, 'several': 1977, '020': 1978, 'finally': 1979, 'player': 1980, '1987)': 1981, 'negative': 1982, 'taking': 1983, '360': 1984, 'including': 1985, 'meeting': 1986, 'timing': 1987, 'needle': 1988, 'outcomes': 1989, 'profitable': 1990, 'only': 1991, 'fates': 1992, 'multivariate': 1993, 'identified': 1994, '>04mmol/l': 1995, 'urea': 1996, 'achieve': 1997, 'adaptive': 1998, 'frame': 1999, 'earlier': 2000, '(3-hydroxybutyrate': 2001, 'untreated': 2002, 'since': 2003, 'production': 2004, 's': 2005, 'vaccinated': 2006, '225': 2007, 'duration': 2008, 'breed': 2009, 'paired': 2010, '97': 2011, 'summarize': 2012, '(p=013)': 2013, 'survey': 2014, 'by': 2015, 'availability': 2016, 'other': 2017, 'off': 2018, '“modulating”': 2019, 'oligonucleotide': 2020, 'renewed': 2021, 'explore': 2022, 'principles': 2023, 'linking': 2024, 'two': 2025, 'reflected': 2026, 'species': 2027, 'acetate:': 2028, 'wk': 2029, 'internal': 2030, 'arguably': 2031, 'coincided': 2032, '(lda)': 2033, 'it': 2034, 'true': 2035, 'well-documented': 2036, 'livers': 2037, 'abdomen': 2038, 'feed': 2039, '48': 2040, 'widely': 2041, 'mobilization': 2042, 'nationwide': 2043, 'periods': 2044, 'affect': 2045, 'studies': 2046, 'breeding': 2047, 'energy;': 2048, 'physical': 2049, 'treated': 2050, '(dirksen': 2051, '60g/kg': 2052, 'integrated': 2053, '(garnsworthy': 2054, 'release': 2055, 'cytokines': 2056, 'concentrates': 2057, 'will': 2058, 'triggers': 2059, 'immune': 2060, '605g/d': 2061, 'activity': 2062, '(nfc)': 2063, 'average': 2064, 'sampling': 2065, 'part': 2066, 'leukocyte': 2067, '(cameron': 2068, 'martin': 2069, 'suppressed': 2070, 'success': 2071, 'into': 2072, 'whatever': 2073, 'vital': 2074, 'letting': 2075, 'modification': 2076, 'proactively': 2077, '120%': 2078, 'distinct': 2079, '500': 2080, 'injectable': 2081, 'beta-hydroxy': 2082, 'delivers': 2083, 'closeup': 2084, 'mobilisation': 2085, 'recommation': 2086, '005)': 2087, 'avoid': 2088, 'paramount': 2089, 'revealed': 2090, 'processed': 2091, 'effect': 2092, '(odds': 2093, 'formulated': 2094, 'considered': 2095, 'glucocorticoids': 2096, 'process': 2097, 'miner': 2098, '1)': 2099, 'wheat': 2100, 'individual-animal': 2101, '36': 2102, 'manipulate': 2103, 'date': 2104, 'determination': 2105, 'hundred': 2106, 'circumstances': 2107, 'allowed': 2108, 'benefit': 2109, '(leblanc': 2110, 'the': 2111, 'front': 2112, 'reliably': 2113, 'health': 2114, 'authors': 2115, 'indirect': 2116, 'accepted': 2117, 'abruptly': 2118, '39': 2119, 'exaggerated': 2120, 'ketosis': 2121, 'intestine': 2122, 'glycogen': 2123, 'non-lactating': 2124, 'poorly': 2125, 'operations': 2126, 'avoidance': 2127, 'kehrli': 2128, 'highlight': 2129, '(1)': 2130, 'fulfil': 2131, 'choice': 2132, 'see': 2133, '2014': 2134, 'essentially': 2135, 'size': 2136, 'generate': 2137, 'access': 2138, 'over-conditioned': 2139, 'membranes': 2140, 'amount': 2141, 'polyunsaturated': 2142, 'adult': 2143, 'resistance': 2144, 'thinner': 2145, 'third': 2146, 'cracked': 2147, 'defined': 2148, 'overemphasized': 2149, '64': 2150, '(gordon': 2151, 'on-farm;': 2152, 'despite': 2153, 'compared\"': 2154, 'silage-fed': 2155, 'presented': 2156, 'perspective': 2157, '(quigley': 2158, 'environments': 2159, '$78': 2160, 'hematologic': 2161, 'green': 2162, 'types': 2163, 'anabolic': 2164, 'accounting': 2165, 'thresholds;': 2166, 'subclinical': 2167, 'experience': 2168, 'concurrently': 2169, 'questioned': 2170, '21%': 2171, 'best': 2172, '1988)': 2173, '95%': 2174, 'described': 2175, 'mediators': 2176, '(nefas)': 2177, 'excretion': 2178, 'bolus': 2179, 'obtained': 2180, '1987;': 2181, 'sustainability': 2182, 'additional': 2183, 'upon': 2184, 'faster': 2185, 'n': 2186, '–063': 2187, 'mean': 2188, 'score': 2189, 'called': 2190, 'metabolizable': 2191, 'continually': 2192, '2003ab;': 2193, 'confirmed': 2194, 'stress': 2195, 'fight': 2196, 'rises': 2197, '\"\"\"fat\"': 2198, 'discussed': 2199, 'underscores': 2200, 'administration': 2201, 'antiketogenic': 2202, 'underestimated': 2203, 'review': 2204, 'has': 2205, 'dollars': 2206, 'organs': 2207, 'neuronal': 2208, 'muscle': 2209, 'tatone': 2210, 'activated': 2211, 'headlocks': 2212, 'grouping/facility': 2213, '1992;': 2214, 'treating': 2215, 'highest': 2216, '80%-85%': 2217, 'differing': 2218, 'whereas': 2219, 'profitability': 2220, 'den': 2221, 'randomised': 2222, 'accumulation': 2223, 'mixing': 2224, 'somatotropic': 2225, 'have': 2226, 'unequivocally': 2227, '?tocopherol': 2228, 'technician': 2229, 'modifications': 2230, 'prenatally': 2231, '(208': 2232, 'limits': 2233, 'interventions': 2234, 'anti-inflammatory': 2235, 'treat-all-cows': 2236, '1998': 2237, 'action': 2238, 'deps': 2239, 'hypotension': 2240, 'beginning': 2241, 'colostrum': 2242, 'depots': 2243, 'parathyroid': 2244, 'provision': 2245, '(van': 2246, 'develop': 2247, 'plasma': 2248, 'difficult': 2249, 'service6': 2250, 'mobilize': 2251, 'nonfiber': 2252, '1974;': 2253, 'exhibiting': 2254, 'people': 2255, 'immunosuppression': 2256, 'gram-negative': 2257, 'estrogens': 2258, 'minimum': 2259, 'carried': 2260, 'stalls': 2261, 'additives': 2262, 'consumed)': 2263, 'practically': 2264, 'cent': 2265, 'kg': 2266, 'so-called': 2267, 'indicating': 2268, '(kauppinen': 2269, 'prevalence': 2270, '&': 2271, 'knowledge': 2272, 'circulation': 2273, 'important': 2274, 'number': 2275, 'favoured': 2276, 'superimposed': 2277, 'hypocalcemia': 2278, 'probably': 2279, 'vet': 2280, 'screening': 2281, 'productivity/': 2282, 'system': 2283, 'favors': 2284, 'milieu': 2285, 'nevertheless': 2286, 'critical': 2287, 'timely': 2288, 'week': 2289, 'add': 2290, 'bled': 2291, '(oetzel': 2292, 'topps': 2293, 'conflicting': 2294, '(rich': 2295, '[ie': 2296, 'dealing': 2297, 'allows': 2298, '(dufva)': 2299, 'her': 2300, '(given': 2301, '(tatone': 2302, 'assessment': 2303, 'drinking': 2304, 'expulsion': 2305, 'no': 2306, 'application': 2307, 'often': 2308, 'feeder': 2309, 'pre-fresh': 2310, 'ruminally': 2311, 'address': 2312, 'interdisciplinary': 2313, 'their': 2314, '1010-cow': 2315, '1200': 2316, 'effectiveness': 2317, 'hormonal': 2318, 'pathogen': 2319, 'identification': 2320, 'ensure': 2321, 'functions': 2322, 'evidence-based': 2323, '(>40': 2324, 'removing': 2325, 'occurs': 2326, 'fill': 2327, 'tuesday': 2328, 'fermentable': 2329, 'particularities': 2330, 'dry\"': 2331, 'scarce': 2332, 'poor': 2333, 'concentrations': 2334, 'microarrays': 2335, 'consisted': 2336, 'imbalance': 2337, 'pitfalls': 2338, 'information': 2339, 'bacterial': 2340, '43%': 2341, 'kremer': 2342, 'emphasize': 2343, 'acclimatizing': 2344, 'weights': 2345, 'guarantee': 2346, 'bauman': 2347, 'benchmarks': 2348, 'insulin': 2349, 'impaired': 2350, '–065)': 2351, '>14mmol/l': 2352, 'force': 2353, 'usable': 2354, 'mention': 2355, 'kg/d)': 2356, '\"ration\\n': 2357, 'lymphocyte': 2358, '30': 2359, 'clinically': 2360, 'moderately': 2361, 'gluconeogenesis': 2362, 'anovulatory': 2363, 'forage(s)': 2364, 'enhanced': 2365, '(r=': 2366, 'gluten': 2367, 'johnson': 2368, 'pass': 2369, 'mass': 2370, 'inexpensive': 2371, 'starches': 2372, 'restriction': 2373, 'portion': 2374, 'efforts': 2375, 'waterers': 2376, 'suggest': 2377, 'homeostatic': 2378, 'driven': 2379, 'multiple': 2380, 'limitation': 2381, 'citation': 2382, 'helps': 2383, 'peaking': 2384, 'burke': 2385, 'we': 2386, 'gordon': 2387, 'screen;': 2388, 'ruoff': 2389, 'stimulates': 2390, 'manage': 2391, 'play': 2392, 'displacement': 2393, 'aim': 2394, 'experiencing': 2395, 'gather': 2396, 'fat': 2397, 'stopping': 2398, 'underlie': 2399, 'abortion': 2400, 'fat-corrected': 2401, 'interest\"': 2402, 'support': 2403, 'variations': 2404, 'interestingly': 2405, '(if': 2406, 'hydroxybutyrate': 2407, 'due': 2408, 'overestimation': 2409, '\"cattle\\n': 2410, 'demonstrated': 2411, 'prone': 2412, 'genomics': 2413, 'liver)': 2414, 'steam-up': 2415, 'drive': 2416, 'coming': 2417, 'environment': 2418, 'labor': 2419, 'mas¬': 2420, 'minimal': 2421, 'speculate': 2422, 'opportunities': 2423, 'hours': 2424, 'enzyme': 2425, 'nut': 2426, '7%': 2427, '2002;': 2428, 'personnel': 2429, '150': 2430, 'samples': 2431, 'bhb)': 2432, '446': 2433, 'varies': 2434, 'achieved;': 2435, '105': 2436, '(smith': 2437, 'wall': 2438, 'also': 2439, 'assuming': 2440, 'keep': 2441, 'progression': 2442, 'triglycerides': 2443, 'delivery': 2444, 'physically': 2445, 'nonfibous': 2446, 'minutes)': 2447, 'diffusion': 2448, 'met': 2449, 'iceberg': 2450, 'averaging': 2451, 'lb': 2452, 'decline': 2453, 'studied': 2454, 'conclusion': 2455, 'adjusted': 2456, 'smaller': 2457, 'identify': 2458, 'serve': 2459, 'specific': 2460, 'creates': 2461, 'categories': 2462, 'appearing': 2463, 'utilised': 2464, 'cows40': 2465, '2011': 2466, 'assistance': 2467, 'gained': 2468, 'planning': 2469, 'its': 2470, 'previously': 2471, 'arises': 2472, 'cattle': 2473, 'rates)': 2474, 'interesting': 2475, \"it's\": 2476, 'pound': 2477, 'passage': 2478, 'iv': 2479, 'indices': 2480, 'suffer': 2481, 'inherently': 2482, 'until': 2483, 'topdress': 2484, 'quickly': 2485, 'cdna': 2486, 'alleys': 2487, '(bell': 2488, '11\"': 2489, '70%': 2490, 'lowest': 2491, 'approximately': 2492, 'recounted': 2493, 'soaps': 2494, 'mix': 2495, 'wide': 2496, '(dann': 2497, 'proceedings': 2498, 'nordlund': 2499, 'bedding': 2500, 'maximal': 2501, 'repeated': 2502, 'aptly': 2503, 'basis': 2504, 'lactation': 2505, 'wolter': 2506, 'remit': 2507, 'impact': 2508, 'table': 2509, 'unit': 2510, 'half-century': 2511, 'lactogenesis': 2512, 'bhb': 2513, 'glycerol': 2514, '30-325': 2515, '1976)': 2516, 'models': 2517, 'immunity': 2518, 'feedbunk': 2519, 'report': 2520, 'elevation': 2521, 'doses': 2522, '67': 2523, '125': 2524, 'proportions': 2525, 'right': 2526, '$128': 2527, 'overconditioning': 2528, 'restore': 2529, 'modern': 2530, 'phospholipids': 2531, 'rebound': 2532, '(nefa)': 2533, 'supported': 2534, 'one-': 2535, 'behind': 2536, 'spent': 2537, 'oxidative': 2538, '46': 2539, 'demonstrating': 2540, 'pronounced': 2541, 'compromises': 2542, 'ventilated': 2543, 'approached': 2544, 'months': 2545, 'tissue-specific': 2546, 'let': 2547, 'laboratories': 2548, 'named': 2549, '(10-12': 2550, 'stores': 2551, 'evaluation': 2552, 'dr': 2553, 'slowly': 2554, 'north': 2555, '–038)': 2556, 'ineffective': 2557, 'is': 2558, '1l': 2559, 'pdin': 2560, 'starch]': 2561, 'term': 2562, 'midwest': 2563, '25%': 2564, '2–5': 2565, 'randomly': 2566, 'comparison': 2567, '61;': 2568, 'homeorhesis1': 2569, 'disorder;': 2570, 'percent': 2571, 'labour': 2572, 'loss': 2573, '(seifi': 2574, 'excessive': 2575, 'development': 2576, 'progress': 2577, 'placental': 2578, 'accurate': 2579, 'depth': 2580, 'hulls': 2581, 'impacts': 2582, 'tests': 2583, 'rapid': 2584, 'random': 2585, 'density': 2586, 'gene': 2587, '535': 2588, '(not': 2589, 'causes': 2590, '1999a)': 2591, 'gets': 2592, 'fourdraine': 2593, '–063)': 2594, 'groups': 2595, 'minimize': 2596, 'abdominal': 2597, 'separator': 2598, 'previous': 2599, 'oltenacu': 2600, 'falls': 2601, 'iu': 2602, 'demonstrate': 2603, '16': 2604, 'uses': 2605, 'changed': 2606, '(fronk': 2607, '(drehmann': 2608, 'examinations': 2609, 'properly': 2610, 'down': 2611, 'peripheral': 2612, 're¬': 2613, 'seen': 2614, 'saturated': 2615, 'fuel': 2616, 'biochemical': 2617, 'secretion': 2618, 'halfway': 2619, 'drain': 2620, 'indeed': 2621, 'begin': 2622, 'koller': 2623, 'mcal': 2624, 'medication': 2625, 'ad': 2626, 'cow-side': 2627, 'setting': 2628, 'nutritional': 2629, 'adaptation': 2630, 'output': 2631, '1964;': 2632, 'central': 2633, 'magnitude': 2634, 'strongly': 2635, 'considerable': 2636, 'borogluconate': 2637, 'obese': 2638, 'doubled': 2639, '(jorritsma': 2640, 'licking': 2641, 'addressed:': 2642, 'numerous': 2643, 'grummer': 2644, 'displacing': 2645, 'chronic': 2646, 'based': 2647, 'aims': 2648, 'contraction]': 2649, 'resumption': 2650, 'bhba': 2651, 'sara': 2652, 'middle;': 2653, 'ideas': 2654, 'liver;': 2655, 'to:': 2656, 'reesterifying': 2657, 'temperature': 2658, 'ca': 2659, '–1': 2660, 'change': 2661, 'context': 2662, 'cook': 2663, '90%': 2664, 'walking': 2665, 'high-bulk': 2666, '(leaver': 2667, 'cows': 2668, 'bcs': 2669, 'completely': 2670, 'treat': 2671, '3534kg': 2672, 'if': 2673, 'component': 2674, '89': 2675, 'disease6’26-32': 2676, 'lactate': 2677, 'infections': 2678, 'feeds': 2679, '1994)': 2680, 'prepare': 2681, '\"in\\n': 2682, '48%': 2683, '\"e\\n': 2684, '(edwards': 2685, '(andersen': 2686, 'satisfactory': 2687, 'resorption': 2688, 'always': 2689, 'effort': 2690, 'safe': 2691, 'elevations': 2692, 'adverse': 2693, 'responders': 2694, 'surveillance': 2695, 'receiving': 2696, 'tmr': 2697, 'observational': 2698, 'size)': 2699, 'intake;': 2700, 'outcomes:': 2701, 'manipulating': 2702, 'acetate': 2703, 'bone': 2704, 'predisposing': 2705, 'higher': 2706, 'field': 2707, '(r': 2708, 'somatotropin': 2709, 'elements': 2710, 'thereby': 2711, 'penn': 2712, '1995': 2713, 'following': 2714, 'strategy': 2715, 'atting': 2716, 'proposed': 2717, 'corn': 2718, 'severe/recurrent': 2719, 'fas': 2720, '(250': 2721, 'derailed': 2722, 'adapted': 2723, 'forage)': 2724, 'susceptible': 2725, 'ingredient': 2726, 'look': 2727, '(andersson': 2728, 'yet': 2729, 'restricted-fed': 2730, 'compare': 2731, 'changes': 2732, 'view': 2733, 'starch': 2734, 'centuries': 2735, '(high': 2736, 'fatness': 2737, 'modulators': 2738, '(mann': 2739, 'surface': 2740, 'council': 2741, 'irrelevant': 2742, 'half': 2743, '4000': 2744, 'schultz)': 2745, 'thought': 2746, '7': 2747, '1997': 2748, 'huge': 2749, 'chopping': 2750, 'lactation2': 2751, 'therefore': 2752, 'age': 2753, 'recognized': 2754, 'sufficient': 2755, 'direct': 2756, 'five': 2757, 'most': 2758, 'cc': 2759, 'take': 2760, 'concerns': 2761, 'parasites': 2762, 'units': 2763, 'targets': 2764, '\"\"\"gap\"\"\"': 2765, 'interval': 2766, 'grouping': 2767, 'contraction)': 2768, 'could': 2769, 'dysfunction': 2770, 'case': 2771, 'year': 2772, 'surrounding': 2773, 'stage': 2774, '1-5)': 2775, 'insidious': 2776, 'indicated': 2777, 'incidents': 2778, '26': 2779, '399': 2780, 'assumption': 2781, 'situations': 2782, 'cohort': 2783, 'stimulated': 2784, '(3': 2785, 'dry': 2786, 'volatile': 2787, 'hansen': 2788, 'dynamics': 2789, 'compounds': 2790, 'centage': 2791, 'quantities': 2792, 'lose': 2793, 'soon': 2794, 'grossly': 2795, 'remain': 2796, 'facing': 2797, '300': 2798, '(slow': 2799, 'next': 2800, 'time': 2801, 'tonicity': 2802, 'weakness': 2803, 'inability': 2804, 'main': 2805, '5%': 2806, 'parameters': 2807, '(raizman': 2808, 'economics': 2809, 'herd': 2810, '1600': 2811, 'strategic': 2812, 'degradabilities': 2813, 'goals': 2814, 'counterproductive': 2815, 'elongate': 2816, 'high-risk': 2817, 'simple': 2818, '100': 2819, 'lame': 2820, 'example': 2821, 'illness': 2822, '(marcos': 2823, 'diameter': 2824, 'ingredients': 2825, 'digestible': 2826, 'hammon': 2827, 'clinical': 2828, 'bias': 2829, 'formulation': 2830, 'declines': 2831, 'herds': 2832, 'theoretically': 2833, 'disodium': 2834, 'eliminating': 2835, 'efficiently': 2836, 'catabolism': 2837, 'cycling': 2838, 'employing': 2839, 'complementary': 2840, 'roughages': 2841, 'service': 2842, 'total': 2843, '(box': 2844, 'articles': 2845, 'rabelo': 2846, 'snapshot': 2847, 'tion': 2848, '(1998)': 2849, 'dahl': 2850, 'transitions': 2851, 'ratio': 2852, '(bernabucci': 2853, 'contain': 2854, 'currently': 2855, 'living': 2856, 'lactational': 2857, 'determined': 2858, '(sugars': 2859, 'early': 2860, 'forced': 2861, 'primarily': 2862, 'equal': 2863, 'dietary': 2864, '(every': 2865, 'traits': 2866, '(4': 2867, '23': 2868, 'digesta': 2869, 'record': 2870, \"research30'32\": 2871, 'from': 2872, '(rabelo': 2873, 'up': 2874, '(2006)': 2875, 'ketosis)': 2876, 'grains': 2877, 'subsequently': 2878, 'comparable': 2879, 'bell': 2880, 'experimental': 2881, 'helpful': 2882, 'fully': 2883, 'aiming': 2884, 'far': 2885, 'goes': 2886, 'requirements': 2887, 'while': 2888, 'krebs': 2889, 'activation': 2890, 'midlactation': 2891, 'adversely': 2892, 'times': 2893, 'in': 2894, 'use': 2895, 'varying': 2896, 'regression': 2897, 'sch': 2898, 'interrelated': 2899, 'substances': 2900, 'seasonal': 2901, 'potential': 2902, '04': 2903, 'discrepancy': 2904, 'these': 2905, '35': 2906, 'producer': 2907, 'calving;': 2908, 'accounted': 2909, 'coenzyme': 2910, 'equivalent': 2911, '1983)': 2912, 'reaching': 2913, 'implemented': 2914, 'economic': 2915, 'trace': 2916, 'increasing': 2917, 'metabolites': 2918, 'functional': 2919, 'force-fed': 2920, '\"2000)\\n': 2921, 'forage-to-grain': 2922, '2007)': 2923, 'meq/l;': 2924, 'woweeks': 2925, 'rare': 2926, 'consult': 2927, 'epithelia': 2928, 'maize': 2929, 'ketogenic': 2930, 'postpartal': 2931, 'ovulation': 2932, 'extremely': 2933, 'commonly': 2934, 'become': 2935, 'biological': 2936, '12': 2937, 'acetoacetate': 2938, '3000': 2939, 'inverted': 2940, 'middlings': 2941, 'tiestalls': 2942, 'nature': 2943, '(either': 2944, 'immunology': 2945, 'organic': 2946, 'circulating': 2947, 'exceed': 2948, 'selected': 2949, 'acid': 2950, 'mcart': 2951, 'cessation': 2952, '6kg': 2953, 'improvement': 2954, 'rosseler': 2955, 'maximizing': 2956, 'informed': 2957, 'salfer': 2958, 'program': 2959, 'better': 2960, 'nutrients': 2961, '>': 2962, 'aminotransferase': 2963, 'drastically': 2964, 'straw': 2965, 'retention': 2966, '(nordlund': 2967, 'day)': 2968, '(2001)': 2969, 'cycle': 2970, 'enormous': 2971, 'cubicle': 2972, 'upper': 2973, 'specificities': 2974, 'serum': 2975, 'peripartum': 2976, '6-week': 2977, '(retained': 2978, 'formulating': 2979, 'reticulorumen': 2980, '044': 2981, 'underscore': 2982, 'nonfibrous': 2983, 'cardiac': 2984, '110': 2985, 'post': 2986, 'epithelium': 2987, 'primiparous': 2988, 'wk)': 2989, 'weich': 2990, '2300': 2991, 'return': 2992, '(nocek': 2993, '0': 2994, '(p=009)': 2995, 'comprehensive': 2996, 'anion': 2997, 'coordinated': 2998, '8': 2999, 'volume': 3000, \"herd's\": 3001, 'overloaded': 3002, 'comparative': 3003, 'withdraw': 3004, 'uncommon': 3005, 'abomasa': 3006, 'realize': 3007, '1st': 3008, 'reduces': 3009, 'borchardt': 3010, 'differ': 3011, '(jk': 3012, 'partition': 3013, 'mature': 3014, 'otoxins': 3015, 'consistent': 3016, 'just': 3017, 'particular': 3018, 'homeostasis': 3019, 'multifactorial': 3020, '(mp}': 3021, 'safest': 3022, 'weekly': 3023, 'truly': 3024, 'streamlining': 3025, 'gradually': 3026, 'kg/d': 3027, '“steamup”': 3028, 'when': 3029, 'consist': 3030, 'exclusively': 3031, '(5)': 3032, 'recumbent': 3033, 'dmd': 3034, 'ted': 3035, 'trimester': 3036, 'tallow': 3037, 'research': 3038, 'six': 3039, '(sensitivity': 3040, 'although': 3041, 'receive': 3042, 'nuance': 3043, 'make': 3044, '2015)': 3045, '2012a': 3046, 'alkalosis': 3047, 'further': 3048, 'practices': 3049, 'fragility': 3050, 'dm': 3051, 'meal': 3052, 'umol/l': 3053, 'farm': 3054, 'paid': 3055, '18%': 3056, 'state': 3057, 'low-protein': 3058, 'kg]': 3059, 'analyses': 3060, '60%': 3061, 'this': 3062, 'document': 3063, 'appears': 3064, '4kg': 3065, 'groups:': 3066, 'digestive': 3067, 'pathophysiological': 3068, 'future': 3069, 'base': 3070, 'friday)': 3071, 'relationships': 3072, '63': 3073, 'status': 3074, 'herdmates': 3075, 'lipolysis': 3076, 'diseases': 3077, '(146': 3078, 'relapses': 3079, 'detrimental': 3080, 'reducing': 3081, 'most\"': 3082, 'fer': 3083, '$444': 3084, 'non-structural': 3085, 'where': 3086, '29%': 3087, 'shortening': 3088, 'faced': 3089, 'lag': 3090, '—is': 3091, 'ups': 3092, 'pufa': 3093, 'spot': 3094, 'approach': 3095, 'prolonged': 3096, 'supplemented': 3097, 'sping': 3098, 'turbulent': 3099, 'consumption': 3100, '1900': 3101, '(table': 3102, '(pipenbrink': 3103, '(': 3104, 'results—high': 3105, 'pushed': 3106, '(2002)': 3107, 'cumulative': 3108, 'conservative': 3109, 'similar': 3110, 'minutes': 3111, 'phases:': 3112, 'present': 3113, 'closer': 3114, 'lipid': 3115, 'metabolize': 3116, 'non-fiber': 3117, 'responsible': 3118, 'placed': 3119, 'event': 3120, '(especially': 3121, 'prominent': 3122, '06': 3123, 'great': 3124, 'measurements': 3125, '(figure': 3126, 'dann': 3127, 'at-risk': 3128, '90': 3129, 'immediately': 3130, 'lipids': 3131, 'activate': 3132, 'tency': 3133, 'them': 3134, 'body’s': 3135, 'slow;': 3136, 'means': 3137, 'exist': 3138, 'collection': 3139, 'causing': 3140, '“new': 3141, '1996;': 3142, '(pg)': 3143, 'peak': 3144, '157%': 3145, 'respond': 3146, 'carriers': 3147, '3%': 3148, 'tg': 3149, 'fermentation': 3150, 'pillars': 3151, 'abnormality': 3152, 'allotment': 3153, 'chloride': 3154, 'almost': 3155, 'full': 3156, 'mg/dl': 3157, 'are:': 3158, 'even': 3159, 'relevant': 3160, 'expected': 3161, 'years': 3162, 'surged': 3163, 'diagnostic': 3164, '(serum': 3165, 'sequence': 3166, 'cow’s': 3167, '200': 3168, 'loss;': 3169, 'penalties': 3170, 'training': 3171, 'raising': 3172, 'specifically': 3173, 'complex': 3174, 'rogers': 3175, 'underdiagnosed': 3176, 'least': 3177, '250': 3178, 'medical': 3179, 'shifted': 3180, 'ranges': 3181, 'lanna': 3182, 'undegradable': 3183, 'becomes': 3184, 'solutions': 3185, 'enable': 3186, 'evaluating': 3187, 'eat': 3188, 'decreasing': 3189, 'bloodstream': 3190, 'coupled': 3191, 'ml': 3192, 'reference': 3193, 'positive': 3194, 'dose': 3195, 'van': 3196, '(barragan': 3197, 'subacute': 3198, 'elimination': 3199, 'believed': 3200, 'ie': 3201, '(acetyl': 3202, 'da': 3203, 'ketotic': 3204, 'excellent': 3205, 'lower': 3206, 'relationship': 3207, 'amylolytic': 3208, 'how': 3209, 'with\"': 3210, '(litherland': 3211, 'posing': 3212, 'export': 3213, 'each': 3214, 'different': 3215, 'g/d': 3216, 'administered': 3217, 'dramatically': 3218, 'ing': 3219, 'loss)': 3220, 'infection': 3221, 'm]': 3222, 'management/': 3223, '2012)': 3224, 'steps': 3225, 'mechanistic': 3226, 'cow/heifer': 3227, 'difficulty': 3228, 'tranquilizers': 3229, '(friggens': 3230, 'converge': 3231, 'argued': 3232, 'accuracy': 3233, 'triacylglycerol': 3234, 'beneficial': 3235, 'ask': 3236, 'equivocal': 3237, 'programs': 3238, '(1013)': 3239, 'long-held': 3240, 'exponential': 3241, 'patterns': 3242, 'recently': 3243, 'increased': 3244, 'improved': 3245, 'long': 3246, 'topic': 3247, 'fundamental': 3248, 'oetzel': 3249, 'contraction': 3250, 'typical': 3251, 'limit': 3252, 'extension': 3253, 'result1415': 3254, 'mastitis)': 3255, 'free': 3256, 'decades;': 3257, 'cullperform': 3258, 'meaningful': 3259, 'thoughts': 3260, 'priority': 3261, 'range': 3262, 'limited': 3263, 'pit': 3264, '(sch]': 3265, 'veterinarian': 3266, 'largely': 3267, '1998a)': 3268, \"cow's\": 3269, '(braun': 3270, 'incorporated': 3271, 'genetically': 3272, 'parturition)': 3273, 'esterification': 3274, 'rumen': 3275, '2kg': 3276, 'synthesis237': 3277, 'goff': 3278, 'partial': 3279, 'systemic': 3280, '1973)': 3281, 'advised': 3282, '[sch)': 3283, 'slow': 3284, 'period22': 3285, 'standardised': 3286, '8%': 3287, 'betahydroxybutyrate': 3288, '07': 3289, 'treatments': 3290, 'offering': 3291, '(using': 3292, 'significant)': 3293, 'pulp': 3294, 'sizes': 3295, \"system's\": 3296, '2004': 3297, 'appetite': 3298, 'reductions': 3299, 'aa': 3300, 'deposited': 3301, 'absence': 3302, 'jorritsma': 3303, 'ocrinology': 3304, 'b-vitamins': 3305, '(18': 3306, '34%': 3307, 'corrected': 3308, 'consuming': 3309, '20-25g': 3310, 'know': 3311, '(16': 3312, 'persistency': 3313, 'who': 3314, '(rajala-schultz': 3315, 'supplementing': 3316, 'inferences': 3317, '1982)': 3318, 'recorded': 3319, 'recovery': 3320, 'generates': 3321, 'researchers': 3322, 'consistently': 3323, 'na': 3324, 'effects': 3325, 'management721': 3326, 'across': 3327, 'proportionately': 3328, 'especially': 3329, 'susceptibility': 3330, 'sun”': 3331, '(dcad]': 3332, 'environmental': 3333, 'wash': 3334, 'producing': 3335, 'lot': 3336, '(2005)': 3337, 'efficiency': 3338, 'components': 3339, 'whether': 3340, 'barrier': 3341, 'implications': 3342, 'sorting': 3343, 'libitum': 3344, '—': 3345, 'pan': 3346, '\"results\\n': 3347, 'cystic': 3348, 'purpose': 3349, 'dhi': 3350, '“decreasing”': 3351, 'lesser': 3352, 'lead': 3353, 'suppression': 3354, '(more': 3355, 'runs': 3356, 'developmental': 3357, '1984;': 3358, 'ionophores': 3359, 'abrupt': 3360, 'focused': 3361, 'harmful': 3362, 'butyrate': 3363, 'relates': 3364, 'modulate': 3365, '(461': 3366, '2020a)': 3367, 'confirm': 3368, 'initial': 3369, '(neb)': 3370, '(valacta': 3371, 'reflecting': 3372, '208': 3373, 'indicators': 3374, 'group)': 3375, 'distribution': 3376, 'kg/day': 3377, 'perhaps': 3378, '(1981)': 3379, 'objectives': 3380, 'substrates': 3381, 'growth': 3382, 'either': 3383, 'mitigating': 3384, 'cereal': 3385, 'require': 3386, 'ponter': 3387, '$290': 3388, 'presumably': 3389, 'extent': 3390, 'food': 3391, 'extensive': 3392, 'activities': 3393, 'imply': 3394, 'kidney': 3395, 'rp': 3396, 'difficulties': 3397, 'nutritionists': 3398, 'affects': 3399, 'proteolysis': 3400, '(mobilization': 3401, 'appreciable': 3402, 'mmol/l': 3403, 'group-housed': 3404, 'roughly': 3405, 'a)': 3406, '2013)': 3407, '(ingvartsen': 3408, 'predictors': 3409, 'intakes': 3410, 'peripartal': 3411, 'enters': 3412, '(kunz': 3413, 'ndf': 3414, 'm': 3415, 'surgical': 3416, 'constable': 3417, 'csf': 3418, 'fold': 3419, '2005)': 3420, 'far-off': 3421, 'indepently': 3422, '(formigoni': 3423, 'course': 3424, 'avoiding': 3425, 'parturition': 3426, '1997)': 3427, 'nel': 3428, 'quality': 3429, 'disturbed': 3430, 'g': 3431, 'randomized': 3432, '(ca': 3433, 'the\"': 3434, 'collectively': 3435, 'criteria': 3436, 'measured': 3437, 'wet': 3438, 'consecutive': 3439, 'kunz': 3440, '(eg': 3441, 'principal': 3442, 'linked': 3443, '$700': 3444, 'gram-positive': 3445, 'signs': 3446, 'seems': 3447, 'procedures—serum': 3448, 'monitoring': 3449, 'cause': 3450, 'detection': 3451, 'put': 3452, 'services': 3453, 'allowances': 3454, 'detailed': 3455, 'reflect': 3456, 'multidisciplinary': 3457, 'post-partum': 3458, 'placenta': 3459, 'crc': 3460, 'gabel': 3461, 'accommodation': 3462, 'eg': 3463, 'curious': 3464, 'retrospective': 3465, 'induces': 3466, '40%': 3467, 'enthusiastically': 3468, '(kristula': 3469, 'appearance': 3470, 'appropriate': 3471, 'found': 3472, 'calculated': 3473, 'define': 3474, 'good-quality': 3475, 'protocol': 3476, 'acidosis);': 3477, '80%': 3478, 'adequate': 3479, 'mg/100': 3480, 'optimize': 3481, 'made': 3482, 'brief': 3483, 'assess': 3484, '(defined': 3485, '(dim)': 3486, 'biology': 3487, 'idea': 3488, '(geishauser': 3489, 'be': 3490, 'few': 3491, 'included': 3492, 'opportunity': 3493, 'done': 3494, 'thinner)': 3495, 'drying': 3496, 'free-stall': 3497, 'to': 3498, 'understood': 3499, 'wellbeing': 3500, 'guaranteeing': 3501, 'available)': 3502, 'department': 3503, 'does': 3504, 'consideration': 3505, 'extract': 3506, 'ideal': 3507, 'appear': 3508, 'first': 3509, '?mol/l': 3510, 'neb': 3511, 'array': 3512, '(steen': 3513, 'duffield': 3514, 'intensive': 3515, 'values': 3516, 'numbers': 3517, 'regions': 3518, 'hyperketonemia': 3519, 'noticed': 3520, 'primigravid': 3521, 'conditions': 3522, 'however': 3523, 'fact': 3524, 'highlighting': 3525, 'within-herd': 3526, 'exception': 3527, 'order': 3528, 'competition': 3529, '8kg': 3530, '(sara)': 3531, 'improve': 3532, 'implementing': 3533, 'common': 3534, 'animals': 3535, 'there': 3536, 'simultaneously': 3537, 'sweeney': 3538, 'pre-calving': 3539, '2004)': 3540, 'intense': 3541, 'ingvartsen': 3542, 'robert': 3543, 'objective—to\"': 3544, 'jeopardizing': 3545, 'vaccination': 3546, 'uterine': 3547, 'beings': 3548, 'type': 3549, 'consensus': 3550, 'balance': 3551, 'inflammatory': 3552, 'schweigel': 3553, 'policy': 3554, '(ferguson': 3555, 'elaborate': 3556, 'associations': 3557, 'us': 3558, 'same': 3559, 'byproducts': 3560, 'consistency': 3561, 'in-line': 3562, 'determining': 3563, '20)': 3564, 'continues': 3565, 'classically': 3566, '(2000)': 3567, 'those': 3568, '1989': 3569, 'timeframe': 3570, 'bicarbonate': 3571, '1999b)': 3572, 'animals32': 3573, 'insufficient': 3574, '1992)': 3575, 'desired': 3576, 'pooled': 3577, 'literature': 3578, 'tool': 3579, 'white': 3580, 'handling': 3581, 'various': 3582, 'exceeds': 3583, 'reasonable': 3584, 'strategies': 3585, 'selection': 3586, 'crcs': 3587, 'ketosis;': 3588, 'investigate': 3589, 'chemical': 3590, 'fresh-cow': 3591, 'dividing': 3592, 'profound': 3593, 'bertics': 3594, 'particle': 3595, 'method': 3596, 'innate': 3597, 'post-calving': 3598, '81ufl': 3599, 'sfc': 3600, 'genomic': 3601, 'remains': 3602, 'beede': 3603, 'overconsumption': 3604, 'reduction': 3605, '19': 3606, '(markusfeld': 3607, 'step': 3608, 'fitted': 3609, 'hallmark': 3610, '2003b)': 3611, 'nfc': 3612, 'ocrine': 3613, 'loss38': 3614, 'prophylaxis': 3615, 'hypotheses': 3616, 'corroborate': 3617, 'normalise': 3618, 'month': 3619, 'implement': 3620, 'strong': 3621, '011)': 3622, 'less': 3623, 'concomitant': 3624, 'any': 3625, 'modify': 3626, 'seeing': 3627, '(rabiee': 3628, 'along': 3629, 'dewhurst': 3630, 'are': 3631, 'passive': 3632, 'discarded': 3633, '2001;': 3634, '01': 3635, 'side': 3636, 'depent': 3637, '33%': 3638, 'systems;': 3639, 'speculation': 3640, 'noted': 3641, 'buffers': 3642, '(1992)': 3643, 'prophylactically': 3644, '1-15kg/day': 3645, 'digestibility': 3646, 'wider': 3647, 'allen': 3648, 'continue': 3649, 'concept': 3650, 'cow-level': 3651, 'dining': 3652, '(grohn': 3653, 'fat:': 3654, 'many': 3655, '(reist': 3656, 'emerging': 3657, '09%': 3658, '(buckley': 3659, 'speed': 3660, 'acute': 3661, 'rations': 3662, 'compared': 3663, 'but': 3664, 'animals—1038': 3665, 'permit': 3666, 'potassium': 3667, 'classified': 3668, 'equally': 3669, 'tozer': 3670, '40': 3671, '(11)': 3672, 'emergence': 3673, '?': 3674, 'first-lactation': 3675, 'miettenen': 3676, '(reid': 3677, 'interaction': 3678, 'geishauser': 3679, 'liberated': 3680, 'adds': 3681, 'abstract\"': 3682, 'suggestions': 3683, 'obligatory': 3684, '(stephenson': 3685, '145': 3686, '1000': 3687, 'energetic': 3688, 'fourth': 3689, '(for': 3690, 'meals': 3691, 'hypophosphite': 3692, 'periods8': 3693, '6%': 3694, 'douglas': 3695, 'density;': 3696, 'three-fold': 3697, '(ie': 3698, 'depicted': 3699, '1985)': 3700, 'infusion': 3701, 'shorten': 3702, 'surpasses': 3703, '280': 3704, '(studer': 3705, '(bcs)': 3706, 'µmol/l)': 3707, 'laboratory': 3708, 'transition-related': 3709, 'natural': 3710, 'external': 3711, 'america': 3712, 'guelph': 3713, 'waldron': 3714, '/head': 3715, 'metabolism': 3716, '1984)': 3717, 'cases': 3718, 'successful': 3719, '4': 3720, 'cull': 3721, 'downstream': 3722, 'postpartum)': 3723, 'lost': 3724, 'personal': 3725, 'might': 3726, 'nonnutritional': 3727, 'contributing': 3728, 'cannot': 3729, 'reist': 3730, 'bacteria': 3731, 'das': 3732, 'yielding': 3733, 'healthy': 3734, 'maternal': 3735, '3': 3736, 'records': 3737, 'yielded': 3738, 'alter': 3739, 'technologies': 3740, 'bunks': 3741, 'designs': 3742, 'little': 3743, 'short-term': 3744, 'attributed': 3745, 'subcutaneous': 3746, 'period': 3747, 'tao': 3748, '(boutflour': 3749, 'carbohydrates': 3750, 'recording': 3751, '(drackley': 3752, 'prevention': 3753, 'phases': 3754, '08m': 3755, 'mj/kg': 3756, '(specifically': 3757, 'significantly': 3758, '1998;': 3759, 'increase': 3760, 'individually': 3761, '(2)': 3762, 'non-esterified': 3763, 'ration': 3764, '(bhba)': 3765, 'mun': 3766, 'away': 3767, '(newby': 3768, 'indicative': 3769, 'supports': 3770, 'option': 3771, 'techniques': 3772, 'occur': 3773, 'presents': 3774, 'overconsumed': 3775, 'infectious': 3776, 'delaying': 3777, 'determine': 3778, 'certain': 3779, '$396': 3780, '(900': 3781, '$50000': 3782, 'under-reported': 3783, '043)': 3784, '(grum': 3785, '(dm': 3786, 'wherein': 3787, 'importance': 3788, 'on-farm': 3789, 'above6-32': 3790, '(1982)': 3791, 'martens': 3792, 'measurement': 3793, 'hyperketonaemic': 3794, 'acids': 3795, 'vfa': 3796, 'whitaker': 3797, '2nd': 3798, 'relocations': 3799, 'dmd)': 3800, 'manifestation': 3801, 'practiced': 3802, 'above': 3803, 'oral': 3804, 'counter': 3805, '(condition)': 3806, 'amounts': 3807, 'degree;': 3808, 'reliability': 3809, '10-12': 3810, 'drift': 3811, 'excitability': 3812, 'controlling': 3813, 'palm': 3814, '1400': 3815, 'performance': 3816, 'milking': 3817, '1998)': 3818, 'exacerbated': 3819, 'beyond': 3820, 'estimate': 3821, 'impairment': 3822, 'holstein': 3823, 'nearly': 3824, 'mark': 3825, 'dried': 3826, 'follows': 3827, 'ratios': 3828, 'applications': 3829, '(1984)': 3830, 'd': 3831, \"potential5'25\": 3832, 'diets': 3833, ':': 3834, 'vein;': 3835, 'ketone': 3836, 'represents': 3837, 'cattle:': 3838, '(1985)': 3839, '(most': 3840, 'ireland': 3841, 'led': 3842, 'damage': 3843, 'sort': 3844, 'million': 3845, 'valuable': 3846, 'mild': 3847, 'find': 3848, 'highly': 3849, 'past': 3850, '5-point': 3851, 'tetany': 3852, 'benefiting': 3853, 'reid': 3854, 'keeping': 3855, 'scoring': 3856, '(herdt': 3857, 'commence': 3858, 'low-stress': 3859, 'received': 3860, 'sentences': 3861, '59%': 3862, 'group': 3863, 'milk': 3864, 'blood-brain': 3865, 'caution': 3866, 'doesn’t': 3867, 'nervous': 3868, 'things': 3869, 'delivered': 3870, '(2003)': 3871, 'supplies': 3872, 'pregnant': 3873, '1989;': 3874, 'ovary': 3875, 'than': 3876, 'divided': 3877, 'anionic': 3878, 'recognize': 3879, 'propylene': 3880, '6': 3881, '\\n': 3882, 'component-fed': 3883, 'that': 3884, 'obviously': 3885, 'suf¬': 3886, 'evidence': 3887, 'too': 3888, 'challenges': 3889, 'assumed': 3890, 'and/or': 3891, 'nrc': 3892, 'represent': 3893, '600kg': 3894, 'irish': 3895, 'jones': 3896, 'accompany': 3897, 'reynolds': 3898, 'cleaning': 3899, 'occurring': 3900, 'discuss': 3901, 'maintenance': 3902, 'investigation': 3903, 'lots': 3904, 'mid-gestation': 3905, 'accumulating': 3906, 'degree': 3907, 'observation': 3908, 'quick': 3909, '(mertens': 3910, 'practical': 3911, 'glucose': 3912, 'esterified': 3913, 'follow': 3914, 'immense': 3915, '29': 3916, 'produced': 3917, 'objective': 3918, 'deliveries': 3919, 'test': 3920, 'prevent': 3921, 'nutrition': 3922, 'confusion': 3923, 'papers': 3924, 'used': 3925, 'converts': 3926, 'building': 3927, 'separately': 3928, 'vitamins': 3929, 'popular-based': 3930, 'farmer': 3931, 'hormone': 3932, '(kung': 3933, 'protocols': 3934, 'nutrients)': 3935, 'commingled': 3936, 'suggests': 3937, 'forage': 3938, 'surprisingly': 3939, 'non': 3940, 'turn': 3941, 'rayssiguier': 3942, 'sorted': 3943, 'professionals': 3944, 'corroborates': 3945, 'organisations': 3946, 'longevity': 3947, 'roche': 3948, 'drop': 3949, '28': 3950, 'fatter': 3951, 'chapters': 3952, 'minerals': 3953, 'and': 3954, 'halt': 3955, 'supplementary': 3956, 'mobilized': 3957, 'normal': 3958, 'neb18': 3959, 'set': 3960, 'crop-wheat': 3961, 'managers': 3962, 'elevated': 3963, 'diet”': 3964, 'generally': 3965, '(nel)': 3966, 'producers)': 3967, '(rp)': 3968, 'four': 3969, 'offers': 3970, 'absorptive': 3971, 'physiological': 3972, '(p': 3973, 'lactation34': 3974, '(miettenan': 3975, '1': 3976, 'an': 3977, 'maintains': 3978, '507': 3979, '18': 3980, 'eventually': 3981, 'thresholds': 3982, 'diagnoses': 3983, 'citing': 3984, 'mechanisms': 3985, 'sharply': 3986, 'transitory': 3987, 'modifies': 3988, 'disease)': 3989, 'propionic': 3990, '(see': 3991, 'monogastrics': 3992, 'rise': 3993, 'facility': 3994, 'sulfate': 3995, 'frequent': 3996, '20%': 3997, 'first-parity': 3998, '(osborne': 3999, 'reduce': 4000, '(total': 4001, 'inconsistent': 4002, 'exercise': 4003, 'ruminants\"': 4004, '$316': 4005, '(an': 4006, 'stressors': 4007, 'optimum': 4008, 'resulted': 4009, 'disappear': 4010, 'subjectively': 4011, 'particularly': 4012, 'sub-clinical': 4013, 'continued': 4014, 'provide': 4015, '1986;': 4016, '(pdi)': 4017, 'preferential': 4018, 'acidosis': 4019, 'dysregulation': 4020, '(robertson': 4021, 'length': 4022, '1995;': 4023, '\"syndrome\"\"\"': 4024, 'andersen': 4025, 'displace': 4026, 'tissues11': 4027, 'pose': 4028, 'intake': 4029, 'legume': 4030, 'consider': 4031, 'routine': 4032, '(08': 4033, 'mammogenesis': 4034, 'concert': 4035, 'my': 4036, 'preventative': 4037, '\"disorders\\n': 4038, 'summarises': 4039, 'mastitis41': 4040, 'necessarily': 4041, 'recomm': 4042, 'alternative': 4043, 'technology': 4044, 'his': 4045, '1993': 4046, 'metabolized': 4047, 'attributable': 4048, 'efficacy': 4049, 'standards': 4050, 'drawing': 4051, 'suitable': 4052, 'maintained': 4053, 'emphasis': 4054, '2000': 4055, 'required': 4056, 'silage': 4057, '(duffield': 4058, 'weight': 4059, 'aggressive': 4060, 'undertaking': 4061, '(bhb': 4062, 'misinterpreted': 4063, '“transition”': 4064, 'round': 4065, 'hierarchy)': 4066, 'avoided': 4067, 'think': 4068}\n"
     ]
    }
   ],
   "source": [
    "### label2Idx  word2Idx\n",
    "\n",
    "\n",
    "# sort the set to ensure '0' is assigned to 0\n",
    "sorted_labels = sorted(list(labelSet), key=len)\n",
    "\n",
    "\n",
    "# create mapping for labels\n",
    "label2Idx = {}\n",
    "for label in sorted_labels:\n",
    "    label2Idx[label] = len(label2Idx)\n",
    "idx2Label = {v: k for k, v in label2Idx.items()}\n",
    "\n",
    "\n",
    "# create mapping for words\n",
    "word2Idx = {}\n",
    "if len(word2Idx) == 0:\n",
    "    word2Idx[\"PADDING_TOKEN\"] = len(word2Idx) # as 0\n",
    "    word2Idx[\"UNKNOWN_TOKEN\"] = len(word2Idx) # as 1\n",
    "for word in wordSet:\n",
    "    word2Idx[word] = len(word2Idx)\n",
    "    \n",
    "# print some mapping \n",
    "\n",
    "print(\"idx2Label: \", len(idx2Label))\n",
    "print(\"idx2Label: \", idx2Label)\n",
    "print()\n",
    "print(\"word2Idx: \", len(word2Idx))\n",
    "print(\"word2Idx: \", word2Idx)"
   ]
  },
  {
   "cell_type": "markdown",
   "metadata": {},
   "source": [
    "### 4, Change words into representive index"
   ]
  },
  {
   "cell_type": "code",
   "execution_count": 32,
   "metadata": {},
   "outputs": [
    {
     "name": "stdout",
     "output_type": "stream",
     "text": [
      "train_sentences, train_labels:  [[2111, 109, 1580, 2828, 2121, 1505, 3073, 2893, 1003, 2894, 2668, 309, 2975, 409, 3674, 1827, 3403, 2894, 2111, 3509, 2289, 1102, 1415], [2111, 1751, 1803, 2111, 3237, 2943, 1580, 3062, 3240, 2781, 2558, 3884, 2673, 3612, 2558, 760, 3244, 2111, 3275, 2438, 2558, 760, 625, 1803, 2111, 3360, 3760, 2894, 2057, 978, 166, 2058, 3760, 2111, 826, 1803, 3203, 1868, 3818], [2111, 3380, 1744, 1505, 2656, 3976, 2458, 2287, 3982, 3803, 166, 409, 3954, 2513, 2334, 3760, 2111, 826, 1580, 1865, 3954, 2045, 2004, 3954, 657, 3816, 1429, 2111, 1809, 835, 544, 1216, 3589, 2111, 2634, 1580, 2905, 3557, 2894, 3497, 174, 244, 3736, 1168, 227, 1989, 1170, 309, 2111, 1451, 1580, 3535, 1489, 166, 1505, 3803, 409, 3954, 2513, 2287, 2166, 3720, 1168, 2065, 554, 3498, 3821, 2810, 1457, 1145, 271, 739, 1512, 2111, 1387, 1580, 2860, 2505, 2167, 2121, 2894, 533, 881, 244, 3881, 2458, 2786, 3747, 826, 405, 1803, 2668, 3884, 2247, 3588, 3954, 2747, 1168, 2111, 1332, 2109, 1580, 3582, 1741, 554, 1803, 2167, 2121, 3954, 1413, 497, 1580, 3194, 2668, 309, 3880, 661], [1580, 704, 3523, 2558, 3884, 2015, 3831, 1514, 1102, 1415, 2920, 2668, 1139, 1003, 2248, 409, 2334, 3954, 2015, 3831, 3950, 1139, 3110, 1089, 100, 2334], [3029, 3536, 2558, 1166, 3847, 2223, 1559, 3954, 2004, 1398, 2453, 2894, 307, 1580, 2111, 707, 2463, 3498, 3490, 2894, 763, 2114, 154, 324, 321, 3818]] \n",
      " [[0, 0, 0, 0, 2, 0, 0, 0, 0, 0, 0, 0, 0, 1, 0, 0, 0, 0, 0, 0, 0, 0, 0], [0, 0, 0, 0, 0, 0, 0, 0, 0, 0, 0, 0, 0, 1, 0, 0, 0, 0, 2, 0, 0, 0, 0, 0, 0, 0, 0, 0, 0, 0, 0, 0, 0, 0, 0, 0, 2, 0, 0], [0, 0, 0, 0, 0, 0, 0, 0, 0, 0, 0, 1, 0, 1, 0, 0, 0, 0, 0, 0, 0, 0, 2, 0, 0, 0, 0, 0, 0, 0, 0, 0, 0, 0, 0, 0, 0, 0, 0, 0, 0, 0, 0, 0, 0, 0, 0, 0, 0, 0, 0, 0, 0, 0, 0, 0, 1, 0, 1, 0, 0, 0, 0, 0, 0, 0, 0, 0, 0, 0, 0, 0, 0, 0, 0, 0, 0, 0, 2, 3, 0, 0, 0, 0, 0, 0, 0, 0, 0, 0, 0, 0, 0, 0, 0, 0, 0, 0, 0, 0, 0, 0, 0, 0, 0, 0, 2, 3, 0, 0, 0, 0, 0, 0, 0, 1, 4], [0, 0, 0, 0, 0, 0, 0, 0, 0, 0, 0, 0, 0, 0, 0, 1, 0, 0, 0, 0, 0, 0, 0, 0, 0, 0], [0, 0, 0, 0, 0, 0, 1, 0, 2, 0, 0, 0, 0, 0, 0, 0, 0, 0, 0, 0, 0, 0, 0, 0, 0, 0]]\n",
      "\n",
      "valid_sentences, valid_labels:  [[104, 1580, 2111, 1567, 1942, 1504, 1580, 2905, 2918, 3954, 2111, 104, 3884, 2558, 2276, 2894, 2893, 1580, 3541, 3076, 3954, 2209, 712, 1391, 3498, 1166, 2004, 1580, 3836, 1195, 941, 2938, 129, 726, 3954, 2314, 2055, 2072, 2111, 3190], [1205, 1559, 1580, 2084, 2668, 1578, 2453, 2015, 1827, 3498, 1325, 553, 2111, 882, 2747, 3498, 1514, 899, 87, 1415, 3244, 1562, 2586, 1578, 1318, 3902, 1580, 2111, 3559, 4029, 3807, 1466, 498, 1747, 1535, 707, 1535, 2968, 1580, 205, 2961, 1742, 243, 178, 2153, 3206, 2843, 2039, 4029], [626, 2034, 2886, 1297, 3954, 2558, 1170, 309, 1511, 2915, 1833, 3884, 1075, 3244, 2828, 1865, 903, 2350, 3864, 2004, 3954, 1392, 657, 3816, 3954, 794, 1833], [1936, 324, 321, 583, 2226, 1994, 3299, 2894, 1491, 1214, 1429, 1166, 1019, 1580, 1120, 3053, 3954, 3514, 324, 321, 3337, 2226, 1994, 3244, 794, 826, 1429, 3815, 3053, 2651], [198, 3795, 2872, 3076, 3954, 1424, 3795, 2872, 3400, 273, 2111, 1089, 3954, 1398, 354, 3215, 555, 1992]] [[0, 0, 0, 0, 0, 0, 0, 0, 0, 0, 0, 0, 0, 0, 0, 0, 0, 0, 0, 2, 0, 2, 3, 0, 0, 0, 2, 0, 1, 0, 0, 0, 0, 0, 0, 0, 0, 0, 0, 0], [0, 1, 0, 0, 0, 0, 0, 0, 0, 0, 0, 0, 0, 0, 0, 0, 0, 0, 0, 0, 0, 1, 0, 0, 0, 0, 0, 0, 0, 0, 0, 0, 0, 0, 0, 0, 0, 0, 0, 0, 1, 0, 0, 1, 0, 0, 0, 0, 0], [0, 0, 0, 0, 0, 0, 0, 0, 0, 0, 0, 0, 0, 0, 0, 0, 0, 0, 0, 2, 0, 0, 0, 0, 0, 0, 0], [0, 0, 0, 0, 0, 0, 0, 0, 0, 0, 0, 0, 0, 0, 0, 0, 0, 0, 0, 0, 0, 0, 0, 0, 0, 0, 0, 0, 0, 1], [1, 4, 0, 2, 0, 1, 4, 0, 0, 0, 0, 0, 0, 0, 0, 0, 0, 0]]\n",
      "\n",
      "test_sentences, test_labels:  [[104, 1580, 2111, 1567, 1942, 1504, 1580, 2905, 2918, 3954, 2111, 104, 3884, 2558, 2276, 2894, 2893, 1580, 3541, 3076, 3954, 2209, 712, 1391, 3498, 1166, 2004, 1580, 3836, 1195, 941, 2938, 129, 726, 3954, 2314, 2055, 2072, 2111, 3190], [1205, 1559, 1580, 2084, 2668, 1578, 2453, 2015, 1827, 3498, 1325, 553, 2111, 882, 2747, 3498, 1514, 899, 87, 1415, 3244, 1562, 2586, 1578, 1318, 3902, 1580, 2111, 3559, 4029, 3807, 1466, 498, 1747, 1535, 707, 1535, 2968, 1580, 205, 2961, 1742, 243, 178, 2153, 3206, 2843, 2039, 4029], [626, 2034, 2886, 1297, 3954, 2558, 1170, 309, 1511, 2915, 1833, 3884, 1075, 3244, 2828, 1865, 903, 2350, 3864, 2004, 3954, 1392, 657, 3816, 3954, 794, 1833], [1936, 324, 321, 583, 2226, 1994, 3299, 2894, 1491, 1214, 1429, 1166, 1019, 1580, 1120, 3053, 3954, 3514, 324, 321, 3337, 2226, 1994, 3244, 794, 826, 1429, 3815, 3053, 2651], [198, 3795, 2872, 3076, 3954, 1424, 3795, 2872, 3400, 273, 2111, 1089, 3954, 1398, 354, 3215, 555, 1992]] [[0, 0, 0, 0, 0, 0, 0, 0, 0, 0, 0, 0, 0, 0, 0, 0, 0, 0, 0, 2, 0, 2, 3, 0, 0, 0, 2, 0, 1, 0, 0, 0, 0, 0, 0, 0, 0, 0, 0, 0], [0, 1, 0, 0, 0, 0, 0, 0, 0, 0, 0, 0, 0, 0, 0, 0, 0, 0, 0, 0, 0, 1, 0, 0, 0, 0, 0, 0, 0, 0, 0, 0, 0, 0, 0, 0, 0, 0, 0, 0, 1, 0, 0, 1, 0, 0, 0, 0, 0], [0, 0, 0, 0, 0, 0, 0, 0, 0, 0, 0, 0, 0, 0, 0, 0, 0, 0, 0, 2, 0, 0, 0, 0, 0, 0, 0], [0, 0, 0, 0, 0, 0, 0, 0, 0, 0, 0, 0, 0, 0, 0, 0, 0, 0, 0, 0, 0, 0, 0, 0, 0, 0, 0, 0, 0, 1], [1, 4, 0, 2, 0, 1, 4, 0, 0, 0, 0, 0, 0, 0, 0, 0, 0, 0]]\n"
     ]
    }
   ],
   "source": [
    "def createMatrices(data, word2Idx, label2Idx):\n",
    "    sentences = []\n",
    "    labels = []\n",
    "    \n",
    "    # get data \n",
    "    for split_labeled_text in data:\n",
    "        wordIndices = []\n",
    "        labelIndices = []\n",
    "        \n",
    "        # get word and data\n",
    "        for word, label in split_labeled_text:\n",
    "            \n",
    "            try:\n",
    "                # if is in the vocabulary\n",
    "                if word in word2Idx:\n",
    "                    wordIdx = word2Idx[word]\n",
    "\n",
    "                # if the lower case version is in the vocabulary\n",
    "                elif word.lower() in word2Idx:\n",
    "                    wordIdx = word2Idx[word.lower()] \n",
    "\n",
    "                # if not, assign to the unknown token \n",
    "                else:                \n",
    "                    wordIdx = word2Idx['UNKNOWN_TOKEN']\n",
    "\n",
    "                # assign to the corrsponding index\n",
    "                wordIndices.append(wordIdx)\n",
    "\n",
    "                # fixing a bug of '' \n",
    "                if label != '':\n",
    "                    labelIndices.append(label2Idx[label])\n",
    "                    \n",
    "            except KeyError:\n",
    "                pass\n",
    "    \n",
    "        # append the index to sentences\n",
    "        sentences.append(wordIndices)\n",
    "        labels.append(labelIndices)\n",
    "    return sentences, labels\n",
    "\n",
    "train_sentences, train_labels = createMatrices(split_train, word2Idx, label2Idx)\n",
    "valid_sentences, valid_labels = createMatrices(split_valid, word2Idx, label2Idx)\n",
    "test_sentences, test_labels = createMatrices(split_test, word2Idx, label2Idx)\n",
    "\n",
    "# print to check \n",
    "\n",
    "print(\"train_sentences, train_labels: \", train_sentences[0:5],'\\n', train_labels[0:5])\n",
    "print()\n",
    "print(\"valid_sentences, valid_labels: \", valid_sentences[0:5], valid_labels[0:5])\n",
    "print()\n",
    "print(\"test_sentences, test_labels: \", test_sentences[0:5], test_labels[0:5])"
   ]
  },
  {
   "cell_type": "markdown",
   "metadata": {},
   "source": [
    "### 5, Pad the sentence into the same length\n",
    "\n",
    "### for fast computation"
   ]
  },
  {
   "cell_type": "code",
   "execution_count": 33,
   "metadata": {},
   "outputs": [
    {
     "name": "stdout",
     "output_type": "stream",
     "text": [
      "True\n",
      "\n",
      "train_features, train_labels:  [[2111  109 1580 2828 2121 1505 3073 2893 1003 2894 2668  309 2975  409\n",
      "  3674 1827 3403 2894 2111 3509 2289 1102 1415    0    0    0    0    0\n",
      "     0    0    0    0    0    0    0    0    0    0    0    0    0    0\n",
      "     0    0    0    0    0    0    0    0    0    0    0    0    0    0\n",
      "     0    0    0    0    0    0    0    0    0    0    0    0    0    0\n",
      "     0    0    0    0    0    0    0    0    0    0    0    0    0    0\n",
      "     0    0    0    0    0    0    0    0    0    0    0    0    0    0\n",
      "     0    0    0    0    0    0    0    0    0    0    0    0    0    0\n",
      "     0    0    0    0    0    0    0    0    0    0    0    0    0    0\n",
      "     0    0]] [[0 0 0 0 2 0 0 0 0 0 0 0 0 1 0 0 0 0 0 0 0 0 0 0 0 0 0 0 0 0 0 0 0 0 0 0\n",
      "  0 0 0 0 0 0 0 0 0 0 0 0 0 0 0 0 0 0 0 0 0 0 0 0 0 0 0 0 0 0 0 0 0 0 0 0\n",
      "  0 0 0 0 0 0 0 0 0 0 0 0 0 0 0 0 0 0 0 0 0 0 0 0 0 0 0 0 0 0 0 0 0 0 0 0\n",
      "  0 0 0 0 0 0 0 0 0 0 0 0 0 0 0 0 0 0 0 0]]\n",
      "\n",
      "valid_features, valid_labels:  [[ 104 1580 2111 1567 1942 1504 1580 2905 2918 3954 2111  104 3884 2558\n",
      "  2276 2894 2893 1580 3541 3076 3954 2209  712 1391 3498 1166 2004 1580\n",
      "  3836 1195  941 2938  129  726 3954 2314 2055 2072 2111 3190    0    0\n",
      "     0    0    0    0    0    0    0    0    0    0    0    0    0    0\n",
      "     0    0    0    0    0    0    0    0    0    0    0    0    0    0\n",
      "     0    0    0    0    0    0    0    0    0    0    0    0    0    0\n",
      "     0    0    0    0    0    0    0    0    0    0    0    0    0    0\n",
      "     0    0    0    0    0    0    0    0    0    0    0    0    0    0\n",
      "     0    0    0    0    0    0    0    0    0    0    0    0    0    0\n",
      "     0    0]] [[0 0 0 0 0 0 0 0 0 0 0 0 0 0 0 0 0 0 0 2 0 2 3 0 0 0 2 0 1 0 0 0 0 0 0 0\n",
      "  0 0 0 0 0 0 0 0 0 0 0 0 0 0 0 0 0 0 0 0 0 0 0 0 0 0 0 0 0 0 0 0 0 0 0 0\n",
      "  0 0 0 0 0 0 0 0 0 0 0 0 0 0 0 0 0 0 0 0 0 0 0 0 0 0 0 0 0 0 0 0 0 0 0 0\n",
      "  0 0 0 0 0 0 0 0 0 0 0 0 0 0 0 0 0 0 0 0]]\n",
      "\n",
      "test_features, test_labels:  [[ 104 1580 2111 1567 1942 1504 1580 2905 2918 3954 2111  104 3884 2558\n",
      "  2276 2894 2893 1580 3541 3076 3954 2209  712 1391 3498 1166 2004 1580\n",
      "  3836 1195  941 2938  129  726 3954 2314 2055 2072 2111 3190    0    0\n",
      "     0    0    0    0    0    0    0    0    0    0    0    0    0    0\n",
      "     0    0    0    0    0    0    0    0    0    0    0    0    0    0\n",
      "     0    0    0    0    0    0    0    0    0    0    0    0    0    0\n",
      "     0    0    0    0    0    0    0    0    0    0    0    0    0    0\n",
      "     0    0    0    0    0    0    0    0    0    0    0    0    0    0\n",
      "     0    0    0    0    0    0    0    0    0    0    0    0    0    0\n",
      "     0    0]] [[0 0 0 0 0 0 0 0 0 0 0 0 0 0 0 0 0 0 0 2 0 2 3 0 0 0 2 0 1 0 0 0 0 0 0 0\n",
      "  0 0 0 0 0 0 0 0 0 0 0 0 0 0 0 0 0 0 0 0 0 0 0 0 0 0 0 0 0 0 0 0 0 0 0 0\n",
      "  0 0 0 0 0 0 0 0 0 0 0 0 0 0 0 0 0 0 0 0 0 0 0 0 0 0 0 0 0 0 0 0 0 0 0 0\n",
      "  0 0 0 0 0 0 0 0 0 0 0 0 0 0 0 0 0 0 0 0]]\n"
     ]
    }
   ],
   "source": [
    "### padding with packages 'pad_sequences'\n",
    "\n",
    "# ========== set the max length ========== \n",
    "max_seq_len = 128\n",
    "\n",
    "def padding(sentences, labels, max_len, padding='post'):\n",
    "    padded_sentences = pad_sequences(sentences, max_len,       \n",
    "    padding='post')\n",
    "    padded_labels = pad_sequences(labels, max_len, padding='post')\n",
    "    return padded_sentences, padded_labels\n",
    "\n",
    "train_features, train_labels = padding(train_sentences, train_labels, max_seq_len, padding='post' )\n",
    "valid_features, valid_labels = padding(valid_sentences, valid_labels, max_seq_len, padding='post' )\n",
    "test_features, test_labels = padding(test_sentences, test_labels, max_seq_len, padding='post' )\n",
    "\n",
    "# check for the results \n",
    "print(len(train_features[1]) == len(train_features[2]))\n",
    "print()\n",
    "print(\"train_features, train_labels: \", train_features[0:1], train_labels[0:1])\n",
    "print()\n",
    "print(\"valid_features, valid_labels: \", valid_features[0:1], valid_labels[0:1])\n",
    "print()\n",
    "print(\"test_features, test_labels: \", test_features[0:1], test_labels[0:1])"
   ]
  },
  {
   "cell_type": "markdown",
   "metadata": {},
   "source": [
    "### ====="
   ]
  },
  {
   "cell_type": "markdown",
   "metadata": {},
   "source": [
    "# 2, Using the Global Vector Word Embedding\n",
    "\n",
    "### Glove is a vector for word embedding, the machine understand the words by the location of them in the vector space"
   ]
  },
  {
   "cell_type": "code",
   "execution_count": 34,
   "metadata": {},
   "outputs": [],
   "source": [
    "import numpy as np\n",
    "\n",
    "# set the dimension for each word \n",
    "EMBEDDING_DIM = 100\n",
    "\n",
    "# loading glove embeddings\n",
    "embeddings_index = {}\n",
    "f = open('embeddings/glove.6B.100d.txt', encoding=\"utf-8\")\n",
    "for line in f:\n",
    "    values = line.strip().split(' ')\n",
    "    word = values[0] # the first entry is the word\n",
    "    coefs = np.asarray(values[1:], dtype='float32') #100d vectors  representing the word\n",
    "    embeddings_index[word] = coefs\n",
    "f.close()\n",
    "embedding_matrix = np.zeros((len(word2Idx), EMBEDDING_DIM))\n",
    "\n",
    "# word embeddings for the tokens\n",
    "for word,i in word2Idx.items():\n",
    "    embedding_vector = embeddings_index.get(word)\n",
    "    if embedding_vector is not None:\n",
    "        embedding_matrix[i] = embedding_vector"
   ]
  },
  {
   "cell_type": "code",
   "execution_count": null,
   "metadata": {},
   "outputs": [],
   "source": []
  },
  {
   "cell_type": "code",
   "execution_count": null,
   "metadata": {},
   "outputs": [],
   "source": [
    "\n"
   ]
  },
  {
   "cell_type": "code",
   "execution_count": null,
   "metadata": {},
   "outputs": [],
   "source": []
  },
  {
   "cell_type": "markdown",
   "metadata": {},
   "source": [
    "# 3, Training with tensorflow"
   ]
  },
  {
   "cell_type": "markdown",
   "metadata": {},
   "source": [
    "### 1, Batching and shuffling the dataset"
   ]
  },
  {
   "cell_type": "code",
   "execution_count": 35,
   "metadata": {},
   "outputs": [
    {
     "name": "stdout",
     "output_type": "stream",
     "text": [
      "batched_train_dataset:  <BatchDataset shapes: ((64, 128), (64, 128)), types: (tf.int32, tf.int32)>\n",
      "batched_valid_dataset:  <BatchDataset shapes: ((64, 128), (64, 128)), types: (tf.int32, tf.int32)>\n",
      "batched_test_dataset:  <BatchDataset shapes: ((64, 128), (64, 128)), types: (tf.int32, tf.int32)>\n"
     ]
    }
   ],
   "source": [
    "### using tf.data.Dataset.from_tensor_slices \n",
    "\n",
    "# import tensorflow as tf\n",
    "from tensorflow.keras import layers\n",
    "\n",
    "train_batch_size = 64\n",
    "valid_batch_size = 64\n",
    "test_batch_size = 64\n",
    "\n",
    "\n",
    "train_dataset = tf.data.Dataset.from_tensor_slices((train_features, train_labels))\n",
    "valid_dataset = tf.data.Dataset.from_tensor_slices((valid_features, valid_labels))\n",
    "test_dataset = tf.data.Dataset.from_tensor_slices((test_features, test_labels))\n",
    "\n",
    "# shuffling the training dataset \n",
    "shuffled_train_dataset = train_dataset.shuffle(buffer_size=train_features.shape[0], reshuffle_each_iteration=True)\n",
    "\n",
    "# batching the three datasets\n",
    "batched_train_dataset = shuffled_train_dataset.batch(train_batch_size, drop_remainder=True) # drop_remiainder: ignore the last batch if nesscery\n",
    "batched_valid_dataset = valid_dataset.batch(valid_batch_size, drop_remainder=True)\n",
    "batched_test_dataset = test_dataset.batch(test_batch_size, drop_remainder=True)\n",
    "\n",
    "# checking \n",
    "print(\"batched_train_dataset: \", batched_train_dataset)\n",
    "print(\"batched_valid_dataset: \", batched_valid_dataset)\n",
    "print(\"batched_test_dataset: \", batched_test_dataset)"
   ]
  },
  {
   "cell_type": "markdown",
   "metadata": {},
   "source": [
    "### 2, Bi-direction Long-Short-Term Memory Neural Network (Bi-LSTM)"
   ]
  },
  {
   "cell_type": "markdown",
   "metadata": {},
   "source": []
  },
  {
   "cell_type": "markdown",
   "metadata": {},
   "source": []
  },
  {
   "cell_type": "code",
   "execution_count": null,
   "metadata": {},
   "outputs": [],
   "source": []
  },
  {
   "cell_type": "code",
   "execution_count": 36,
   "metadata": {},
   "outputs": [],
   "source": [
    "### class TFNer\n",
    "\n",
    "class TFNer(tf.keras.Model):\n",
    "    \n",
    "    def __init__(self, max_seq_len, embed_input_dim, embed_output_dim, num_labels, weights):\n",
    "        super(TFNer, self).__init__()\n",
    "        \n",
    "        # Embedding layer\n",
    "        self.embedding = layers.Embedding(input_dim=embed_input_dim, \n",
    "                                          output_dim=embed_output_dim, \n",
    "                                          weights=weights, \n",
    "                                          input_length=max_seq_len, \n",
    "                                          trainable=False, \n",
    "                                          mask_zero=True)\n",
    "        \n",
    "        # Bidrectional layer\n",
    "        self.bilstm = layers.Bidirectional(layers.LSTM(128, return_sequences=True))\n",
    "        \n",
    "        # Dense layer\n",
    "        self.dense = layers.Dense(num_labels)\n",
    "\n",
    "    def call(self, inputs):\n",
    "        x = self.embedding(inputs) # batchsize, max_seq_len, embedding_output_dim\n",
    "        x = self.bilstm(x) # batchsize, max_seq_len, hidden_dim_bilstm\n",
    "        logits = self.dense(x) # batchsize, max_seq_len, num_labels\n",
    "        \n",
    "        # return a logist score\n",
    "        return logits"
   ]
  },
  {
   "cell_type": "code",
   "execution_count": null,
   "metadata": {},
   "outputs": [],
   "source": []
  },
  {
   "cell_type": "code",
   "execution_count": null,
   "metadata": {},
   "outputs": [],
   "source": []
  },
  {
   "cell_type": "code",
   "execution_count": null,
   "metadata": {},
   "outputs": [],
   "source": []
  },
  {
   "cell_type": "markdown",
   "metadata": {},
   "source": [
    "# 3, Training "
   ]
  },
  {
   "cell_type": "code",
   "execution_count": null,
   "metadata": {},
   "outputs": [],
   "source": []
  },
  {
   "cell_type": "code",
   "execution_count": 37,
   "metadata": {},
   "outputs": [],
   "source": [
    "# os\n",
    "import os\n",
    "\n",
    "# math\n",
    "import math\n",
    "\n",
    "# pickle: serializes objects so they can be saved to a file, \n",
    "# and loaded in a program again later on\n",
    "import pickle\n",
    "\n",
    "# logging: use 'logger' to log messages \n",
    "# have 5 levels: DEBUG, INFO, WARNING, ERROR, CRITICAL\n",
    "import logging\n",
    "\n",
    "# to create the the command line interface\n",
    "import argparse\n",
    "\n",
    "# itertoole\n",
    "import itertools\n",
    "\n",
    "# numpy\n",
    "import numpy as np\n",
    "\n",
    "# tf\n",
    "from tensorflow import keras\n",
    "\n",
    "# from model import TFNer\n",
    "\n",
    "# pad_sequences\n",
    "from tensorflow.keras.preprocessing.sequence import pad_sequences\n",
    "\n",
    "# master_bar, progress_bar \n",
    "from fastprogress.fastprogress import master_bar, progress_bar\n",
    "\n",
    "# from preprocess import split_text_label, padding, createMatrices\n",
    "\n",
    "# seqeval: for sequence labeling \n",
    "from seqeval.metrics import classification_report"
   ]
  },
  {
   "cell_type": "code",
   "execution_count": null,
   "metadata": {},
   "outputs": [],
   "source": []
  },
  {
   "cell_type": "code",
   "execution_count": 38,
   "metadata": {},
   "outputs": [],
   "source": [
    "# variables for model\n",
    "num_labels = len(label2Idx)\n",
    "idx2Label = {v: k for k, v in label2Idx.items()}\n",
    "\n",
    "# model\n",
    "model = TFNer(max_seq_len=max_seq_len,embed_input_dim=len(word2Idx), embed_output_dim=EMBEDDING_DIM, weights=[embedding_matrix], num_labels=num_labels)\n",
    "\n",
    "\n",
    "# optimizer\n",
    "optimizer = tf.keras.optimizers.Adam(learning_rate=0.01)\n",
    "\n",
    "# losses: scce\n",
    "scce = tf.keras.losses.SparseCategoricalCrossentropy(from_logits=True)"
   ]
  },
  {
   "cell_type": "code",
   "execution_count": 39,
   "metadata": {},
   "outputs": [],
   "source": [
    "# train_dataset\n",
    "\n",
    "# valid_dataset"
   ]
  },
  {
   "cell_type": "code",
   "execution_count": null,
   "metadata": {},
   "outputs": [],
   "source": []
  },
  {
   "cell_type": "code",
   "execution_count": null,
   "metadata": {},
   "outputs": [],
   "source": []
  },
  {
   "cell_type": "code",
   "execution_count": null,
   "metadata": {},
   "outputs": [],
   "source": [
    "\n"
   ]
  },
  {
   "cell_type": "code",
   "execution_count": null,
   "metadata": {},
   "outputs": [],
   "source": []
  },
  {
   "cell_type": "code",
   "execution_count": null,
   "metadata": {},
   "outputs": [],
   "source": []
  },
  {
   "cell_type": "code",
   "execution_count": null,
   "metadata": {},
   "outputs": [],
   "source": []
  },
  {
   "cell_type": "code",
   "execution_count": null,
   "metadata": {},
   "outputs": [],
   "source": []
  },
  {
   "cell_type": "markdown",
   "metadata": {},
   "source": [
    "### 1, Set the logging and progress bar "
   ]
  },
  {
   "cell_type": "code",
   "execution_count": 40,
   "metadata": {},
   "outputs": [],
   "source": [
    "### fastprogress\n",
    "\n",
    "# ========== num of epochs ==========\n",
    "epochs = 10\n",
    "\n",
    "# train_pd_max_len, valid_pb_max_len, test_pb_max_len\n",
    "epoch_bar = master_bar(range(epochs))\n",
    "train_pb_max_len = math.ceil(float(len(train_features))/float(train_batch_size))\n",
    "valid_pb_max_len = math.ceil(float(len(valid_features))/float(valid_batch_size))\n",
    "test_pb_max_len = math.ceil(float(len(test_features))/float(test_batch_size))"
   ]
  },
  {
   "cell_type": "code",
   "execution_count": 41,
   "metadata": {},
   "outputs": [],
   "source": [
    "### tf.summary.create_file_writer: a trianing log \n",
    "\n",
    "train_log_dir = f\"/logs\"\n",
    "valid_log_dir = f\"/logs\"\n",
    "train_summary_writer = tf.summary.create_file_writer(train_log_dir)\n",
    "valid_summary_writer = tf.summary.create_file_writer(valid_log_dir)"
   ]
  },
  {
   "cell_type": "code",
   "execution_count": null,
   "metadata": {},
   "outputs": [],
   "source": []
  },
  {
   "cell_type": "markdown",
   "metadata": {},
   "source": [
    "### 2, Custom training loop "
   ]
  },
  {
   "cell_type": "code",
   "execution_count": 42,
   "metadata": {},
   "outputs": [
    {
     "data": {
      "text/html": [],
      "text/plain": [
       "<IPython.core.display.HTML object>"
      ]
     },
     "metadata": {},
     "output_type": "display_data"
    }
   ],
   "source": [
    "# training loss\n",
    "train_loss_metric = tf.keras.metrics.Mean('training_loss', dtype=tf.float32)\n",
    "\n",
    "# validing loss\n",
    "valid_loss_metric = tf.keras.metrics.Mean('valid_loss', dtype=tf.float32)\n",
    "\n",
    "# customize training loop\n",
    "def train_step_fn(sentences_batch, labels_batch):\n",
    "    with tf.GradientTape() as tape:\n",
    "        logits = model(sentences_batch) # batchsize, max_seq_len, num_labels\n",
    "        loss = scce(labels_batch, logits) # batchsize,max_seq_len\n",
    "    grads = tape.gradient(loss, model.trainable_variables)\n",
    "    optimizer.apply_gradients(list(zip(grads, model.trainable_variables)))\n",
    "    return loss, logits\n",
    "\n",
    "# customize validing loop \n",
    "def valid_step_fn(sentences_batch, labels_batch):\n",
    "    logits = model(sentences_batch)\n",
    "    loss = scce(labels_batch, logits)\n",
    "    return loss, logits\n",
    "\n",
    "\n",
    "for epoch in epoch_bar:\n",
    "    \n",
    "    # customize training epoch bar \n",
    "    with train_summary_writer.as_default():\n",
    "        for sentences_batch, labels_batch in progress_bar(\n",
    "            batched_train_dataset, \n",
    "            total=train_pb_max_len, \n",
    "            parent=epoch_bar):\n",
    "\n",
    "            loss, logits = train_step_fn(sentences_batch, labels_batch)\n",
    "            \n",
    "            train_loss_metric(loss)\n",
    "            \n",
    "            epoch_bar.child.comment = f'training loss : {train_loss_metric.result()}'\n",
    "        \n",
    "        tf.summary.scalar('training loss', train_loss_metric.result(), step=epoch)\n",
    "        train_loss_metric.reset_states()\n",
    "    \n",
    "    # customize validing epoch bar \n",
    "    with valid_summary_writer.as_default():\n",
    "        for sentences_batch, labels_batch in progress_bar(\n",
    "            batched_valid_dataset, \n",
    "            total=valid_pb_max_len, \n",
    "            parent=epoch_bar):\n",
    "            \n",
    "            loss, logits = valid_step_fn(sentences_batch, labels_batch)\n",
    "            \n",
    "            valid_loss_metric.update_state(loss)\n",
    "\n",
    "            epoch_bar.child.comment = f'validation loss : {valid_loss_metric.result()}'\n",
    "\n",
    "        # logging after each epoch !\n",
    "        tf.summary.scalar('valid loss', valid_loss_metric.result(), step=epoch)\n",
    "        valid_loss_metric.reset_states()\n",
    "\n",
    "model.save_weights(f\"./model_weights\",save_format='tf')  \n",
    "# logger.info(f\"Model weights saved\")"
   ]
  },
  {
   "cell_type": "markdown",
   "metadata": {},
   "source": [
    "# 4, Evaluating model performance on the test dataset"
   ]
  },
  {
   "cell_type": "markdown",
   "metadata": {},
   "source": [
    "### 1, two functions"
   ]
  },
  {
   "cell_type": "code",
   "execution_count": 43,
   "metadata": {},
   "outputs": [],
   "source": [
    "\n",
    "### assgining the label to each word \n",
    "\n",
    "def idx_to_label(predictions, correct, idx2Label):\n",
    "    \"\"\"\n",
    "    input: \n",
    "        predictions: predicitons of the model (idx)\n",
    "        correct: targets from the text (idx)\n",
    "    output: \n",
    "        label_correct: predicitons of the model (label)\n",
    "        label_pred: targets from the text (label)\n",
    "    \"\"\"\n",
    "    label_pred = []    \n",
    "    for sentence in predictions:\n",
    "        for i in sentence:\n",
    "            label_pred.append([idx2Label[elem] for elem in i ]) \n",
    "\n",
    "    label_correct = []  \n",
    "    if correct != None:\n",
    "        for sentence in correct:\n",
    "            for i in sentence:\n",
    "                label_correct.append([idx2Label[elem] for elem in i ]) \n",
    "        \n",
    "    return label_correct, label_pred\n",
    "\n",
    "### predict each sentence: using pad_sequences\n",
    "\n",
    "def predict_single_sentence(sentence, word2Idx, max_seq_len):\n",
    "    \"\"\"\n",
    "    input: \n",
    "        sentence: string\n",
    "        word2Idx: function\n",
    "        max_seq_len: int\n",
    "    output: \n",
    "        length: int\n",
    "        masks: array of 1 and 0\n",
    "        padded_inputs: array of padded index for the sentence \n",
    "    \"\"\"\n",
    "    sentence = list(sentence.split(\" \"))\n",
    "    sentences = []\n",
    "    wordIndices = []\n",
    "    masks = []\n",
    "    length = len(sentence)\n",
    "\n",
    "    # assining index to the sentence\n",
    "    for word in sentence:\n",
    "        if word in word2Idx:\n",
    "            wordIdx = word2Idx[word]\n",
    "        elif word.lower() in word2Idx:\n",
    "            wordIdx = word2Idx[word.lower()]                 \n",
    "        else:                \n",
    "            wordIdx = word2Idx['UNKNOWN_TOKEN']\n",
    "        wordIndices.append(wordIdx)\n",
    "\n",
    "    # len of mask = len of sentence \n",
    "    maskindices = [1]*len(wordIndices)\n",
    "\n",
    "    # append\n",
    "    sentences.append(wordIndices)\n",
    "    masks.append(maskindices)\n",
    "\n",
    "    padded_inputs = tf.keras.preprocessing.sequence.pad_sequences(\n",
    "        sentences, \n",
    "        maxlen=max_seq_len, \n",
    "        padding=\"post\")\n",
    "\n",
    "    masks = tf.keras.preprocessing.sequence.pad_sequences(\n",
    "        masks, \n",
    "        maxlen=max_seq_len, \n",
    "        padding=\"post\")\n",
    "\n",
    "    return length, masks, padded_inputs\n",
    "\n",
    "    "
   ]
  },
  {
   "cell_type": "markdown",
   "metadata": {},
   "source": [
    "### 2, Loading the model "
   ]
  },
  {
   "cell_type": "code",
   "execution_count": 44,
   "metadata": {},
   "outputs": [
    {
     "data": {
      "text/plain": [
       "<tensorflow.python.training.tracking.util.CheckpointLoadStatus at 0x21a26c4fd60>"
      ]
     },
     "execution_count": 44,
     "metadata": {},
     "output_type": "execute_result"
    }
   ],
   "source": [
    "\n",
    "test_batch_size = 64\n",
    "\n",
    "# padding sentences and labels to max_length of 128\n",
    "max_seq_len = 128\n",
    "EMBEDDING_DIM = 100\n",
    "\n",
    "\n",
    "# idx2Label = pickle.load(open(os.path.join(\"idx2Label.pkl\"), 'rb'))\n",
    "label2Idx = {v:k for k,v in idx2Label.items()}\n",
    "num_labels = len(label2Idx)\n",
    "\n",
    "\n",
    "# word2Idx = pickle.load(open(os.path.join(\"word2Idx.pkl\"), 'rb'))\n",
    "# Embedding_matrix = pickle.load(open(os.path.join(\"embedding.pkl\"), 'rb'))\n",
    "# logger.info(\"Loaded idx2Label, word2Idx and Embedding matrix pickle files\")\n",
    "\n",
    "# loading the model\n",
    "testmodel =  TFNer(\n",
    "    max_seq_len=max_seq_len, \n",
    "    embed_input_dim=len(word2Idx), \n",
    "    embed_output_dim=EMBEDDING_DIM, \n",
    "    weights=[embedding_matrix], \n",
    "    num_labels=num_labels)\n",
    "\n",
    "# testmodel.load_weights(f\"{args.model_dir}/model_weights\")\n",
    "testmodel.load_weights(\"./model_weights\")\n",
    "# logger.info(\"Model weights restored\")\n",
    "\n",
    "\n",
    "    \n",
    "\n"
   ]
  },
  {
   "cell_type": "markdown",
   "metadata": {},
   "source": [
    "### 3, Evaluation on the test set "
   ]
  },
  {
   "cell_type": "code",
   "execution_count": 45,
   "metadata": {},
   "outputs": [
    {
     "name": "stdout",
     "output_type": "stream",
     "text": [
      "\n",
      "<BatchDataset shapes: ((64, 128), (64, 128)), types: (tf.int32, tf.int32)>\n"
     ]
    }
   ],
   "source": [
    "### processing the test set \n",
    "\n",
    "# extract from the txt\n",
    "# split_test = split_text_label(\"test.txt\")\n",
    "\n",
    "# indexing \n",
    "test_sentences, test_labels = createMatrices(split_test, word2Idx, label2Idx)\n",
    "\n",
    "# padding\n",
    "test_features, test_labels = padding(test_sentences, test_labels, max_seq_len, padding='post' )\n",
    "\n",
    "# logger\n",
    "# logger.info(f\"Test features shape is {test_features.shape} and labels shape is{test_labels.shape}\")\n",
    "\n",
    "# input to tesorflow\n",
    "test_dataset = tf.data.Dataset.from_tensor_slices((test_features, test_labels))\n",
    "\n",
    "# batching\n",
    "batched_test_dataset = test_dataset.batch(test_batch_size, drop_remainder=True)\n",
    "\n",
    "###  checking \n",
    "\n",
    "# print(test_features[0:5], test_labels[0:5])\n",
    "print()\n",
    "print(batched_test_dataset)\n",
    "\n",
    "# print(test_sentences[0:5])"
   ]
  },
  {
   "cell_type": "code",
   "execution_count": 46,
   "metadata": {},
   "outputs": [
    {
     "name": "stdout",
     "output_type": "stream",
     "text": [
      "              precision    recall  f1-score   support\n",
      "\n",
      "         DIS       0.76      0.84      0.80        44\n",
      "         NUT       0.82      0.79      0.80        47\n",
      "\n",
      "   micro avg       0.79      0.81      0.80        91\n",
      "   macro avg       0.79      0.81      0.80        91\n",
      "weighted avg       0.79      0.81      0.80        91\n",
      "\n",
      "\n",
      "The length of label_pred:  64\n"
     ]
    }
   ],
   "source": [
    "### output the test set evaluation results \n",
    "\n",
    "\n",
    "from seqeval.metrics import f1_score\n",
    "\n",
    "\n",
    "### epoch_bar = master_bar(range(epochs))\n",
    "\n",
    "test_pb_max_len = math.ceil(float(len(test_features))/float(test_batch_size))\n",
    "\n",
    "true_labels = []\n",
    "pred_labels = []\n",
    "\n",
    "#for sentences_batch, labels_batch in progress_bar(batched_test_dataset, total=test_pb_max_len):\n",
    "\n",
    "logits = testmodel(sentences_batch)\n",
    "temp1 = tf.nn.softmax(logits)   \n",
    "preds = tf.argmax(temp1, axis=2)\n",
    "true_labels.append(np.asarray(labels_batch))\n",
    "pred_labels.append(np.asarray(preds))\n",
    "\n",
    "label_correct, label_pred = idx_to_label(pred_labels, true_labels, idx2Label)\n",
    "\n",
    "#print(preds)\n",
    "#print(pred_labels, true_labels)\n",
    "#print(label_correct, label_pred)\n",
    "# f1_score(pred_labels, true_labels)\n",
    "print(classification_report(label_correct, label_pred))\n",
    "#logger.info(f\"\\nResults for the test dataset\") \n",
    "# logger.info(f\"\\n{report}\")\n",
    "\n",
    "print()\n",
    "# print(label_pred[0:5])\n",
    "print(\"The length of label_pred: \", len(label_pred))"
   ]
  },
  {
   "cell_type": "markdown",
   "metadata": {},
   "source": [
    "### ===== Plotting cm"
   ]
  },
  {
   "cell_type": "code",
   "execution_count": 47,
   "metadata": {},
   "outputs": [],
   "source": [
    "# label_pred\n",
    "\n",
    "concat_pred = []\n",
    "for i in label_pred:\n",
    "    concat_pred += i\n",
    "    \n",
    "concat_correct = []\n",
    "for i in label_correct:\n",
    "    concat_correct += i"
   ]
  },
  {
   "cell_type": "code",
   "execution_count": 48,
   "metadata": {},
   "outputs": [],
   "source": [
    "from sklearn.metrics import plot_confusion_matrix, confusion_matrix\n",
    "import matplotlib.pyplot as plt  \n",
    "import seaborn as sns\n",
    "\n",
    "cm = confusion_matrix(concat_correct, concat_pred,  labels = ['O', 'B-DIS', 'I-DIS', 'B-NUT', 'I-NUT'])"
   ]
  },
  {
   "cell_type": "code",
   "execution_count": 49,
   "metadata": {},
   "outputs": [
    {
     "data": {
      "text/plain": [
       "[Text(0, 0.5, 'O'),\n",
       " Text(0, 1.5, 'B-DIS'),\n",
       " Text(0, 2.5, 'I-DIS'),\n",
       " Text(0, 3.5, 'B-NUT'),\n",
       " Text(0, 4.5, 'I-NUT')]"
      ]
     },
     "execution_count": 49,
     "metadata": {},
     "output_type": "execute_result"
    },
    {
     "data": {
      "image/png": "[encoded data removed]",
      "text/plain": [
       "<Figure size 432x288 with 2 Axes>"
      ]
     },
     "metadata": {
      "needs_background": "light"
     },
     "output_type": "display_data"
    }
   ],
   "source": [
    "ax= plt.subplot()\n",
    "sns.heatmap(cm, annot=True, fmt='g', ax=ax)\n",
    "ax.xaxis.set_ticklabels(['O', 'B-DIS', 'I-DIS', 'B-NUT', 'I-NUT'])\n",
    "ax.yaxis.set_ticklabels(['O', 'B-DIS', 'I-DIS', 'B-NUT', 'I-NUT'])"
   ]
  },
  {
   "cell_type": "code",
   "execution_count": null,
   "metadata": {},
   "outputs": [],
   "source": []
  },
  {
   "cell_type": "code",
   "execution_count": null,
   "metadata": {},
   "outputs": [],
   "source": []
  },
  {
   "cell_type": "code",
   "execution_count": null,
   "metadata": {},
   "outputs": [],
   "source": []
  },
  {
   "cell_type": "markdown",
   "metadata": {},
   "source": [
    "### 4, Predictions"
   ]
  },
  {
   "cell_type": "code",
   "execution_count": 37,
   "metadata": {},
   "outputs": [],
   "source": [
    "# import nltk\n",
    "# ! pip install nltk \n",
    "# nltk.download()\n",
    "# nltk.download('punkt')"
   ]
  },
  {
   "cell_type": "code",
   "execution_count": null,
   "metadata": {},
   "outputs": [],
   "source": []
  },
  {
   "cell_type": "code",
   "execution_count": null,
   "metadata": {},
   "outputs": [],
   "source": []
  },
  {
   "cell_type": "code",
   "execution_count": null,
   "metadata": {},
   "outputs": [],
   "source": []
  },
  {
   "cell_type": "code",
   "execution_count": null,
   "metadata": {},
   "outputs": [],
   "source": []
  },
  {
   "cell_type": "code",
   "execution_count": null,
   "metadata": {},
   "outputs": [],
   "source": []
  },
  {
   "cell_type": "markdown",
   "metadata": {},
   "source": [
    "### 5, Prediction for a single sentence"
   ]
  },
  {
   "cell_type": "code",
   "execution_count": 44,
   "metadata": {},
   "outputs": [
    {
     "name": "stdout",
     "output_type": "stream",
     "text": [
      "True\n",
      "\n",
      "['periparturient', 'diseases', 'such', 'as', 'milk', 'fever', 'ketosis', 'and', 'displaced', 'abomasums', 'can', 'all', 'be', 'associated', 'with', 'poor', 'transition']\n",
      "['O', 'O', 'O', 'O', 'O', 'O', 'O', 'O', 'B-DIS', 'I-DIS', 'O', 'O', 'O', 'O', 'O', 'O', 'O']\n"
     ]
    }
   ],
   "source": [
    "test_sentence = \"\"\"Periparturient diseases such as milk fever, ketosis, and displaced abomasums can all be associated with poor transition\"\"\"\n",
    "\n",
    "length, masks, padded_inputs = predict_single_sentence(test_sentence, word2Idx, max_seq_len)\n",
    "padded_inputs = tf.expand_dims(padded_inputs, 0)\n",
    "\n",
    "true_labels = None\n",
    "pred_labels = []\n",
    "pred_logits = []\n",
    "\n",
    "for sentence in padded_inputs:\n",
    "    logits = testmodel(sentence)\n",
    "    temp1 = tf.nn.softmax(logits) \n",
    "    max_values = tf.reduce_max(temp1,axis=-1)\n",
    "\n",
    "    masked_max_values = max_values * masks \n",
    "    preds = tf.argmax(temp1, axis=2)\n",
    "    pred_labels.append(np.asarray(preds))\n",
    "    pred_logits.extend(np.asarray(masked_max_values))\n",
    "_,label_pred  = idx_to_label(pred_labels, true_labels, idx2Label)\n",
    "\n",
    "\n",
    "\n",
    "label_pred = label_pred[0][:length] \n",
    "pred_logits = pred_logits[0][:length]\n",
    "\n",
    "\n",
    "\n",
    "### the splited sentences: words \n",
    "\n",
    "\n",
    "import re\n",
    "from nltk import word_tokenize \n",
    "\n",
    "# remove punct \n",
    "words = str(test_sentence)\n",
    "words = re.sub(r\"[^a-zA-Z0-9.?! ]+\", \"\", words)\n",
    "words = words.lower()\n",
    "\n",
    "# tokenize\n",
    "words = word_tokenize(words)\n",
    "\n",
    "# check for length \n",
    "print(len(words) == len(label_pred))\n",
    "print()\n",
    "print(words)\n",
    "print(label_pred)"
   ]
  },
  {
   "cell_type": "code",
   "execution_count": 43,
   "metadata": {},
   "outputs": [
    {
     "name": "stdout",
     "output_type": "stream",
     "text": [
      "ner_word:  ['displaced', 'abomasums']\n",
      "\n",
      "ner_label:  ['B-DIS', 'I-DIS']\n"
     ]
    }
   ],
   "source": [
    "### a pretter output \n",
    "\n",
    "ner_word = []\n",
    "ner_label = []\n",
    "for i, j in zip(words, label_pred): \n",
    "    if j != 'O':\n",
    "        ner_word.append(i)\n",
    "        ner_label.append(j)\n",
    "        \n",
    "# check and see \n",
    "print(\"ner_word: \", ner_word) \n",
    "print()\n",
    "print(\"ner_label: \", ner_label) "
   ]
  },
  {
   "cell_type": "code",
   "execution_count": null,
   "metadata": {},
   "outputs": [],
   "source": []
  }
 ],
 "metadata": {
  "kernelspec": {
   "display_name": "Python 3",
   "language": "python",
   "name": "python3"
  },
  "language_info": {
   "codemirror_mode": {
    "name": "ipython",
    "version": 3
   },
   "file_extension": ".py",
   "mimetype": "text/x-python",
   "name": "python",
   "nbconvert_exporter": "python",
   "pygments_lexer": "ipython3",
   "version": "3.8.8"
  }
 },
 "nbformat": 4,
 "nbformat_minor": 4
}
