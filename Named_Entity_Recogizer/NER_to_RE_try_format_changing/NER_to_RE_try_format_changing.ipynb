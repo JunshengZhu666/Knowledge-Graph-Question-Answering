{
 "cells": [
  {
   "cell_type": "markdown",
   "id": "eb6f0ede",
   "metadata": {},
   "source": [
    "### 1, Load and extract the data"
   ]
  },
  {
   "cell_type": "code",
   "execution_count": 1,
   "id": "06c58995",
   "metadata": {},
   "outputs": [],
   "source": [
    "### extracting the entities and tags\n",
    "\n",
    "import os \n",
    "from keras.preprocessing.sequence import pad_sequences\n",
    "\n",
    "\n",
    "def split_text_label(filename):\n",
    "    '''\n",
    "    Reads a file named filename, extracts the text and the labels and stores\n",
    "    them in an array.\n",
    "     \n",
    "    returns [ ['EU', 'B-ORG'], ['rejects', 'O'], ['German', 'B-MISC'], ['call', 'O'], ['to', 'O'], ['boycott', 'O'], ['British', 'B-MISC'], ['lamb', 'O'], ['.', 'O'] ] \n",
    "    '''\n",
    "    \n",
    "    # open file\n",
    "    f = open(filename)\n",
    "    \n",
    "    # initializing\n",
    "    split_labeled_text = []\n",
    "    sentence = []\n",
    "    \n",
    "    # processing line by line \n",
    "    for line in f:\n",
    "        if len(line)==0 or line.startswith('-DOCSTART') or line[0]==\"\\t\":\n",
    "            if len(sentence) > 0:\n",
    "                split_labeled_text.append(sentence)\n",
    "                sentence = []\n",
    "            continue\n",
    "        \n",
    "        # split by tab\n",
    "        splits = line.split('\t')\n",
    "        # rstrip: strip from the right \n",
    "        sentence.append([splits[0],splits[-1].rstrip(\"\\n\")])\n",
    "        \n",
    "        \n",
    "    if len(sentence) > 0:\n",
    "        split_labeled_text.append(sentence)\n",
    "        sentence = []\n",
    "    return split_labeled_text\n",
    "\n",
    "# change training set \n",
    "split_train = split_text_label(os.path.join(\"train_10_25.txt\"))\n",
    "split_valid = split_text_label(os.path.join(\"valid_10_25.txt\"))\n",
    "split_test = split_text_label(os.path.join(\"test_10_25.txt\"))"
   ]
  },
  {
   "cell_type": "code",
   "execution_count": 2,
   "id": "30b389c7",
   "metadata": {},
   "outputs": [
    {
     "name": "stdout",
     "output_type": "stream",
     "text": [
      "train.txt:  [[['literature', 'O'], ['linking', 'O'], ['the', 'O'], ['effects', 'O'], ['of', 'O'], ['prepartum', 'B-PER'], ['nutrition', 'B-NUT'], ['and', 'O'], ['subsequent', 'O'], ['fertility', 'O'], ['is', 'O'], ['scarce', 'O']], [['most', 'O'], ['of', 'O'], ['what', 'O'], ['is', 'O'], ['suggested', 'O'], ['to', 'O'], ['optimize', 'O'], ['future', 'O'], ['fertility', 'O'], ['is', 'O'], ['related', 'O'], ['to', 'O'], ['relationships', 'O'], ['between', 'O'], ['metabolic', 'B-DIS'], ['disorders', 'I-DIS'], ['and', 'O'], ['risk', 'O'], ['for', 'O'], ['delayed', 'B-DIS'], ['conception', 'I-DIS']]]\n",
      "\n",
      "valid.txt:  [[['we', 'O'], ['will', 'O'], ['see', 'O'], ['in', 'B-PER'], ['the', 'O'], ['next', 'O'], ['sections', 'O'], ['some', 'O'], ['of', 'O'], ['the', 'O'], ['etiology', 'O'], ['and', 'O'], ['preventive', 'O'], ['measures', 'O'], ['for', 'O'], ['these', 'O'], ['problems', 'O'], ['and', 'O'], ['the', 'O'], ['nutritional', 'O'], ['considerations', 'O'], ['related', 'O'], ['to', 'O'], ['these', 'O'], ['3', 'O'], ['axes', 'O']]]\n",
      "\n",
      "test.txt:  [[['literature', 'O'], ['linking', 'O'], ['the', 'O'], ['effects', 'O'], ['of', 'O'], ['prepartum', 'B-PER'], ['nutrition', 'B-NUT'], ['and', 'O'], ['subsequent', 'O'], ['fertility', 'O'], ['is', 'O'], ['scarce', 'O']]]\n",
      "\n"
     ]
    }
   ],
   "source": [
    "# print some list to see \n",
    "\n",
    "print(\"train.txt: \", split_train[0:2])\n",
    "print()\n",
    "\n",
    "print(\"valid.txt: \", split_valid[0:1])\n",
    "print()\n",
    "\n",
    "print(\"test.txt: \", split_test[0:1])\n",
    "print()"
   ]
  },
  {
   "cell_type": "code",
   "execution_count": 4,
   "id": "0f018bb2",
   "metadata": {},
   "outputs": [
    {
     "name": "stdout",
     "output_type": "stream",
     "text": [
      "[[['literature', 'O'], ['linking', 'O'], ['the', 'O'], ['effects', 'O'], ['of', 'O'], ['prepartum', 'B-PER'], ['nutrition', 'B-NUT'], ['and', 'O'], ['subsequent', 'O'], ['fertility', 'O'], ['is', 'O'], ['scarce', 'O']], [['most', 'O'], ['of', 'O'], ['what', 'O'], ['is', 'O'], ['suggested', 'O'], ['to', 'O'], ['optimize', 'O'], ['future', 'O'], ['fertility', 'O'], ['is', 'O'], ['related', 'O'], ['to', 'O'], ['relationships', 'O'], ['between', 'O'], ['metabolic', 'B-DIS'], ['disorders', 'I-DIS'], ['and', 'O'], ['risk', 'O'], ['for', 'O'], ['delayed', 'B-DIS'], ['conception', 'I-DIS']], [['common', 'O'], ['metabolic', 'B-DIS'], ['problems', 'I-DIS'], ['that', 'O'], ['affect', 'O'], ['early', 'O'], ['postpartum', 'B-PER'], ['cows', 'O'], ['such', 'O'], ['as', 'O'], ['retained', 'B-DIS'], ['fetal', 'I-DIS'], ['membranes', 'I-DIS'], ['milk', 'B-DIS'], ['fever', 'I-DIS'], ['ketosis', 'I-DIS'], ['and', 'O'], ['displaced', 'B-DIS'], ['abomasum', 'I-DIS'], ['are', 'O'], ['know', 'O'], ['to', 'O'], ['extend', 'O'], ['the', 'O'], ['period', 'B-PER'], ['of', 'O'], ['negative', 'O'], ['energy', 'B-NUT'], ['balance', 'O'], ['and', 'O'], ['delay', 'O'], ['resumption', 'O'], ['of', 'O'], ['ovarian', 'O'], ['cycles', 'O']], [['manipulation', 'O'], ['of', 'O'], ['the', 'O'], ['energy', 'B-NUT'], ['content', 'O'], ['of', 'O'], ['the', 'O'], ['diet', 'B-NUT'], ['prepartum', 'B-PER'], ['has', 'O'], ['been', 'O'], ['shown', 'O'], ['to', 'O'], ['affect', 'O'], ['dry', 'O'], ['matter', 'B-NUT'], ['intake', 'I-NUT'], ['hayirli', 'O'], ['et', 'O'], ['al', 'O']], [['2002', 'O'], ['and', 'O'], ['postpartum', 'B-PER'], ['lactational', 'O'], ['performance', 'O']]]\n"
     ]
    }
   ],
   "source": [
    "# only take five sentences for testing\n",
    "\n",
    "split_train = split_train[0:5]\n",
    "\n",
    "print(split_train)"
   ]
  },
  {
   "cell_type": "code",
   "execution_count": 5,
   "id": "47f27c48",
   "metadata": {},
   "outputs": [
    {
     "name": "stdout",
     "output_type": "stream",
     "text": [
      "literature O\n"
     ]
    }
   ],
   "source": [
    "# try to access nested list \n",
    "\n",
    "print(split_train[0][0][0], split_train[0][0][1])"
   ]
  },
  {
   "cell_type": "markdown",
   "id": "f7572141",
   "metadata": {},
   "source": [
    "### 2, Load and extract the data from the excel "
   ]
  },
  {
   "cell_type": "code",
   "execution_count": 13,
   "id": "2d16445a",
   "metadata": {},
   "outputs": [
    {
     "name": "stdout",
     "output_type": "stream",
     "text": [
      "words:  ['linking', 'the', 'effects', 'of', 'prepartum', 'nutrition', 'and', 'subsequent', 'fertility', 'is', 'scarce', nan, 'most', 'of', 'what', 'is', 'suggested', 'to', 'optimize', 'future']\n",
      "\n",
      "tag:  ['O', 'O', 'O', 'O', 'B-PER', 'B-NUT', 'O', 'O', 'O', 'O', 'O', nan, 'O', 'O', 'O', 'O', 'O', 'O', 'O', 'O']\n"
     ]
    }
   ],
   "source": [
    "import pandas as pd\n",
    "from pandas import ExcelWriter\n",
    "from pandas import ExcelFile\n",
    "\n",
    "import pandas as pd\n",
    "\n",
    "df = pd.read_excel('Tagged_Corpus.xlsx') #you could add index_col=0 if there's an index\n",
    "\n",
    "words = df['literature'].tolist()\n",
    "tags = df['O'].tolist()\n",
    "\n",
    "# print \n",
    "print(\"words: \", words[0:20])\n",
    "print()\n",
    "print(\"tags: \", tags[0:20])"
   ]
  },
  {
   "cell_type": "code",
   "execution_count": 21,
   "id": "3852c146",
   "metadata": {},
   "outputs": [
    {
     "name": "stdout",
     "output_type": "stream",
     "text": [
      "words_join:  [\"['linking', 'the', 'effects', 'of', 'prepartum', 'nutrition', 'and', 'subsequent', 'fertility', 'is', 'scarce', \", \", 'most', 'of', 'what', 'is', 'suggested', 'to', 'optimize', 'future', 'fertility', 'is', 'related', 'to', 'relationships', 'between', 'metabolic', 'disorders', 'and', 'risk', 'for', 'delayed', 'conception', \", \", 'common', 'metabolic', 'problems', 'that', 'affect', 'early', 'postpartum', 'cows', 'such', 'as', 'retained', 'fetal', 'membranes', 'milk', 'fever', 'ketosis', 'and', 'displaced', 'abomasum', 'are', 'know', 'to', 'extend', 'the', 'period', 'of', 'negative', 'energy', 'balance', 'and', 'delay', 'resumption', 'of', 'ovarian', 'cycles', \", \", 'manipulation', 'of', 'the', 'energy', 'content', 'of', 'the', 'diet', 'prepartum', 'has', 'been', 'shown', 'to', 'affect', 'dry', 'matter', 'intake', 'hayirli', 'et', 'al', \", \", '2002', 'and', 'postpartum', 'lactational', 'performance', \"]\n",
      "\n",
      "tagss_join:  [\"['O', 'O', 'O', 'O', 'B-PER', 'B-NUT', 'O', 'O', 'O', 'O', 'O', \", \", 'O', 'O', 'O', 'O', 'O', 'O', 'O', 'O', 'O', 'O', 'O', 'O', 'O', 'O', 'B-DIS', 'I-DIS', 'O', 'O', 'O', 'B-DIS', 'I-DIS', \", \", 'O', 'B-DIS', 'I-DIS', 'O', 'O', 'O', 'B-PER', 'O', 'O', 'O', 'B-DIS', 'I-DIS', 'I-DIS', 'B-DIS', 'I-DIS', 'I-DIS', 'O', 'B-DIS', 'I-DIS', 'O', 'O', 'O', 'O', 'O', 'B-PER', 'O', 'O', 'B-NUT', 'O', 'O', 'O', 'O', 'O', 'O', 'O', \", \", 'O', 'O', 'O', 'B-NUT', 'O', 'O', 'O', 'B-NUT', 'B-PER', 'O', 'O', 'O', 'O', 'O', 'O', 'B-NUT', 'I-NUT', 'O', 'O', 'O', \", \", 'O', 'O', 'B-PER', 'O', 'O', \"]\n"
     ]
    }
   ],
   "source": [
    "### try split by 'nan'\n",
    "\n",
    "# str and split\n",
    "words = str(words)\n",
    "words_join = words.split('nan')\n",
    "tags = str(tags)\n",
    "tags_join = tags.split('nan')\n",
    "\n",
    "\n",
    "# print and check \n",
    "print(\"words_join: \", words_join[0:5])\n",
    "print()\n",
    "print(\"tagss_join: \", tags_join[0:5])\n",
    "\n",
    "\n",
    "# turn to the list "
   ]
  },
  {
   "cell_type": "code",
   "execution_count": 23,
   "id": "abf91167",
   "metadata": {},
   "outputs": [
    {
     "data": {
      "text/plain": [
       "False"
      ]
     },
     "execution_count": 23,
     "metadata": {},
     "output_type": "execute_result"
    }
   ],
   "source": [
    "### turning into list \n",
    "\n",
    "len(words_join) == len(tags_join)"
   ]
  },
  {
   "cell_type": "code",
   "execution_count": 27,
   "id": "dd60bd95",
   "metadata": {},
   "outputs": [
    {
     "name": "stdout",
     "output_type": "stream",
     "text": [
      "sentences:  [[['literature'], ['linking'], ['the'], ['effects'], ['of'], ['prepartum'], ['nutrition'], ['and'], ['subsequent'], ['fertility'], ['is'], ['scarce']], [['most'], ['of'], ['what'], ['is'], ['suggested'], ['to'], ['optimize'], ['future'], ['fertility'], ['is'], ['related'], ['to'], ['relationships'], ['between'], ['metabolic'], ['disorders'], ['and'], ['risk'], ['for'], ['delayed'], ['conception']], [['common'], ['metabolic'], ['problems'], ['that'], ['affect'], ['early'], ['postpartum'], ['cows'], ['such'], ['as'], ['retained'], ['fetal'], ['membranes'], ['milk'], ['fever'], ['ketosis'], ['and'], ['displaced'], ['abomasum'], ['are'], ['know'], ['to'], ['extend'], ['the'], ['period'], ['of'], ['negative'], ['energy'], ['balance'], ['and'], ['delay'], ['resumption'], ['of'], ['ovarian'], ['cycles']], [['manipulation'], ['of'], ['the'], ['energy'], ['content'], ['of'], ['the'], ['diet'], ['prepartum'], ['has'], ['been'], ['shown'], ['to'], ['affect'], ['dry'], ['matter'], ['intake'], ['hayirli'], ['et'], ['al']], [['2002'], ['and'], ['postpartum'], ['lactational'], ['performance']]]\n",
      "\n",
      "tags:  [[['O'], ['O'], ['O'], ['O'], ['O'], ['B-PER'], ['B-NUT'], ['O'], ['O'], ['O'], ['O'], ['O']], [['O'], ['O'], ['O'], ['O'], ['O'], ['O'], ['O'], ['O'], ['O'], ['O'], ['O'], ['O'], ['O'], ['O'], ['B-DIS'], ['I-DIS'], ['O'], ['O'], ['O'], ['B-DIS'], ['I-DIS']], [['O'], ['B-DIS'], ['I-DIS'], ['O'], ['O'], ['O'], ['B-PER'], ['O'], ['O'], ['O'], ['B-DIS'], ['I-DIS'], ['I-DIS'], ['B-DIS'], ['I-DIS'], ['I-DIS'], ['O'], ['B-DIS'], ['I-DIS'], ['O'], ['O'], ['O'], ['O'], ['O'], ['B-PER'], ['O'], ['O'], ['B-NUT'], ['O'], ['O'], ['O'], ['O'], ['O'], ['O'], ['O']], [['O'], ['O'], ['O'], ['B-NUT'], ['O'], ['O'], ['O'], ['B-NUT'], ['B-PER'], ['O'], ['O'], ['O'], ['O'], ['O'], ['O'], ['B-NUT'], ['I-NUT'], ['O'], ['O'], ['O']], [['O'], ['O'], ['B-PER'], ['O'], ['O']]]\n"
     ]
    }
   ],
   "source": [
    "### 1, Try adapt the NER extraction code \n",
    "\n",
    "def split_text_label(filename):\n",
    "    '''\n",
    "    Reads a file named filename, extracts the text and the labels and stores\n",
    "    them in an array.\n",
    "     \n",
    "    returns [ ['EU', 'B-ORG'], ['rejects', 'O'], ['German', 'B-MISC'], ['call', 'O'], ['to', 'O'], ['boycott', 'O'], ['British', 'B-MISC'], ['lamb', 'O'], ['.', 'O'] ] \n",
    "    '''\n",
    "    \n",
    "    # open file\n",
    "    f = open(filename)\n",
    "    \n",
    "    # initializing\n",
    "    sentences = []\n",
    "    sentence = []\n",
    "    tag = []\n",
    "    tags = []\n",
    "    \n",
    "    # processing line by line \n",
    "    for line in f:\n",
    "        if len(line)==0 or line.startswith('-DOCSTART') or line[0]==\"\\t\":\n",
    "            if len(sentence) > 0:\n",
    "                sentences.append(sentence)\n",
    "                sentence = []\n",
    "                tags.append(tag)\n",
    "                tag = []\n",
    "            continue\n",
    "        \n",
    "        # split by tab\n",
    "        splits = line.split('\t')\n",
    "        # rstrip: strip from the right \n",
    "        sentence.append([splits[0].rstrip(\"\\n\")])\n",
    "        tag.append([splits[-1].rstrip(\"\\n\")])\n",
    "        \n",
    "    if len(sentence) > 0:\n",
    "        sentences.append(sentence)\n",
    "        sentence = []\n",
    "        tags.append(tag)\n",
    "        tag = []\n",
    "    return sentences, tags\n",
    "\n",
    "# change training set \n",
    "sentences, tags = split_text_label(os.path.join(\"train_10_25.txt\"))\n",
    "\n",
    "# print and check \n",
    "print(\"sentences: \", sentences[0:5])\n",
    "print()\n",
    "print(\"tags: \", tags[0:5])"
   ]
  },
  {
   "cell_type": "code",
   "execution_count": 34,
   "id": "4f51dee8",
   "metadata": {},
   "outputs": [
    {
     "name": "stdout",
     "output_type": "stream",
     "text": [
      "True\n",
      "301\n"
     ]
    }
   ],
   "source": [
    "### check and print the len\n",
    "\n",
    "print(len(sentences) == len(tags))\n",
    "\n",
    "print(len(sentences))"
   ]
  },
  {
   "cell_type": "markdown",
   "id": "2590fd7d",
   "metadata": {},
   "source": [
    "# 3, Try change the elements in sentences by tags: The indexing method "
   ]
  },
  {
   "cell_type": "markdown",
   "id": "38090465",
   "metadata": {},
   "source": [
    "### 1, Get vocab"
   ]
  },
  {
   "cell_type": "code",
   "execution_count": 38,
   "id": "3eaa4d33",
   "metadata": {},
   "outputs": [
    {
     "name": "stdout",
     "output_type": "stream",
     "text": [
      "\n",
      "labelSet:  8\n",
      "labelSet:  {'', 'B-DIS', 'B-PER', 'O', 'I-PER', 'B-NUT', 'I-DIS', 'I-NUT'}\n",
      "\n",
      "wordSet:  1535\n"
     ]
    }
   ],
   "source": [
    "### use labelSet() as label dictionary \n",
    "### use wordSet() as word dictionary \n",
    "\n",
    "labelSet = set()\n",
    "wordSet = set()\n",
    "\n",
    "# words and labels\n",
    "for sents in sentences:\n",
    "    for sent in sents:\n",
    "        for word in sent:\n",
    "            wordSet.add(word.lower())\n",
    "            \n",
    "# words and labels\n",
    "for sents in tags:\n",
    "    for sent in sents:\n",
    "        for label in sent:            \n",
    "            labelSet.add(label)\n",
    "            \n",
    "\n",
    "\n",
    "# modifying the label set \n",
    "print()\n",
    "#empty = labelSet.pop()\n",
    "#labelSet.remove('')\n",
    "#labelSet.remove('BI-DIS')\n",
    "#labelSet.remove('i-NUT')\n",
    "\n",
    "# check for the len \n",
    "print(\"labelSet: \", len(labelSet))\n",
    "print(\"labelSet: \", labelSet)\n",
    "print()\n",
    "print(\"wordSet: \", len(wordSet))\n"
   ]
  },
  {
   "cell_type": "markdown",
   "id": "eec0fd69",
   "metadata": {},
   "source": [
    "### 2, Assgining index "
   ]
  },
  {
   "cell_type": "code",
   "execution_count": 39,
   "id": "796a7aa3",
   "metadata": {},
   "outputs": [
    {
     "name": "stdout",
     "output_type": "stream",
     "text": [
      "idx2Label:  8\n",
      "idx2Label:  {0: '', 1: 'O', 2: 'B-DIS', 3: 'B-PER', 4: 'I-PER', 5: 'B-NUT', 6: 'I-DIS', 7: 'I-NUT'}\n",
      "\n",
      "word2Idx:  1537\n",
      "word2Idx:  {'PADDING_TOKEN': 0, 'UNKNOWN_TOKEN': 1, '': 2, 'content': 3, 'displacement': 4, 'urea': 5, 'extend': 6, 'dryoff': 7, 'ufl': 8, 'lactation': 9, 'libitum': 10, 'synthesis': 11, 'articles': 12, 'my': 13, 'want': 14, 'head': 15, 'abomasums ': 16, 'criteria': 17, 'explained': 18, 'prolonged': 19, 'effectiveness': 20, 'respectively': 21, 'step': 22, 'represent': 23, 'diameter': 24, 'accurate': 25, 'tried': 26, 'composed': 27, 'raizman': 28, 'five': 29, 'anionic': 30, 'culling': 31, 'alkalosis': 32, 'manipulation': 33, 'subsample': 34, 'responsible': 35, 'to': 36, 'gd': 37, 'summarized': 38, 'recommended': 39, 'ideally': 40, 'andor': 41, 'keeping': 42, 'calculated': 43, 'adult': 44, 'personnel': 45, 'but': 46, 'lameness': 47, 'aspects': 48, 'perform': 49, 'engagement': 50, 'be': 51, 'confirm': 52, 'through': 53, 'c': 54, 'clean': 55, 'may': 56, 'scientific': 57, 'acids': 58, 'moves': 59, 'control': 60, 'parasites': 61, 'monitor': 62, 'fat': 63, 'valacta': 64, 'nonfiber': 65, 'favor': 66, 'f': 67, 'estrogens': 68, 'generate': 69, 'planning': 70, 'thin': 71, 'us': 72, 'reestablishment': 73, 'veterinarian': 74, 'feeder': 75, 'yielding': 76, 'periods': 77, 'overcrowding': 78, 'northern': 79, 'correctly': 80, 'nevertheless': 81, 'overconditioned': 82, 'levels': 83, 'acquired': 84, 'literature': 85, 'offered': 86, 'rates': 87, 'ph': 88, 'conducted': 89, 'extent': 90, 'occurring': 91, 'think': 92, 'very': 93, 'last': 94, 'vaccinated': 95, 'defined': 96, 'formulating': 97, 'so': 98, 'correct': 99, 'forgotten': 100, 'led': 101, 'practical': 102, 'increases': 103, 'adipocytes': 104, '1994': 105, 'simulate': 106, 'approaches': 107, 'contributes': 108, 'take': 109, 'inflammatory': 110, 'main': 111, 'mcnamara': 112, 'withdraw': 113, 'numbers': 114, 'conservative': 115, 'constitutes': 116, '10': 117, 'off': 118, 'udder': 119, 'quality': 120, 'based': 121, 'hypocalcemia': 122, 'plus': 123, 'new': 124, 'thereby': 125, 'matter': 126, 'normal': 127, 'either': 128, 'complementary': 129, 'deeper': 130, 'two': 131, 'compromised': 132, 'wash': 133, 'nut': 134, 'include': 135, '535': 136, 'bw': 137, 'nonfirbrous': 138, 'pdi': 139, 'lowquality': 140, 'guarantee': 141, 'teat': 142, 'beginning': 143, 'entire': 144, 'modifies': 145, 'often': 146, 'peak': 147, 'parity': 148, 'above': 149, 'suffer': 150, 'recognition': 151, '35': 152, 'long': 153, 'solids': 154, 'underscore': 155, '70': 156, 'relates': 157, '2010': 158, 'a': 159, 'recently': 160, 'even': 161, 'allowing': 162, 'period': 163, 'top': 164, 'emergence': 165, 'many': 166, 'season': 167, 'liver': 168, 'degree': 169, 'strong': 170, 'explain': 171, 'separate': 172, 'protocol': 173, 'food': 174, 'inadvertently': 175, 'deliveries': 176, 'helping': 177, 'score': 178, 'precipitate': 179, 'pitfalls': 180, 'developing': 181, 'reliability': 182, 'player': 183, 'bunk': 184, 'supplementing': 185, 'overconditioning': 186, 'membranes': 187, 'consult': 188, 'these': 189, 'days': 190, 'magnesium': 191, 'operation': 192, 'freestall': 193, 'growth': 194, 'lame': 195, 'versa': 196, 'fetus': 197, 'ability': 198, 'consume': 199, '4000': 200, 'force': 201, 'common': 202, '21': 203, 'recorded': 204, 'health': 205, 'idea': 206, 'terms': 207, 'jorritsma': 208, 'difficulties': 209, 'integrated': 210, 'glucose': 211, 'out': 212, 'bovine': 213, '30': 214, 'possible': 215, '17': 216, 'failure': 217, 'applied': 218, 'reared': 219, 'fibrous': 220, 'longterm': 221, 'also': 222, 'every': 223, 'well': 224, 'conclude': 225, 'scale': 226, 'abdominal': 227, 'accompanied': 228, 'multiparous': 229, 'practice': 230, 'receiving': 231, 'scarce': 232, 'concentrates': 233, 'major': 234, 'dining': 235, 'stressors': 236, '2025g': 237, 'mobilization': 238, 'much': 239, 'p': 240, 'ndf': 241, 'arises': 242, 'relocations': 243, 'of': 244, 'inadequate': 245, 'questioned': 246, 'edema': 247, 'within': 248, 'requirements': 249, 'affect': 250, 'decent': 251, 'cation': 252, 'association': 253, 'where': 254, 'or': 255, 'push': 256, 'were': 257, 'management': 258, 'sck': 259, 'outcomes': 260, 'alibrahim': 261, 'proportion': 262, 'lactateutilizing': 263, 'experiencing': 264, 'goal': 265, 'no': 266, 'an': 267, 'frame': 268, 'producing': 269, 'completed': 270, 'penn': 271, 'practices': 272, 'must': 273, 'approach': 274, 'hepatic': 275, 'treatments': 276, 'greater': 277, 'techniques': 278, 'milking': 279, 'consuming': 280, 'bolus': 281, 'whatever': 282, 'minor': 283, 'ensuing': 284, 'results': 285, 'natural': 286, 'thus': 287, 'lost': 288, 'nonfibrous': 289, 'competition': 290, 'calving': 291, 'argue': 292, 'post': 293, 'immunity': 294, 'you': 295, '400': 296, 'breeding': 297, 'standards': 298, 'problem': 299, 'ratios': 300, 'delay': 301, 'gaitscored': 302, 'who': 303, 'productive': 304, 'described': 305, 'on': 306, 'the': 307, 'exists': 308, 'round': 309, 'central': 310, 'needed': 311, 'slippery': 312, 'huge': 313, 'bacteria': 314, 'pen': 315, 'rumen': 316, 'how': 317, 'chloride': 318, 'scientists': 319, 'organisations': 320, 'potassium': 321, 'optimizing': 322, 'nonesterified': 323, 'important': 324, 'standard': 325, 'aim': 326, 'ucd': 327, 'amounts': 328, 'four': 329, 'increased': 330, 'compared': 331, 'weekly': 332, 'older': 333, 'throughout': 334, 'access': 335, 'addressed': 336, 'under': 337, 'good': 338, 'cameron': 339, 'eg': 340, 'scc': 341, 'volume': 342, 'preventative': 343, 'likelihood': 344, 'ireland': 345, 'conduct': 346, 'severe': 347, 'march': 348, 'contribute': 349, 'regardless': 350, 'uncommon': 351, 'complicating': 352, 'bertics': 353, 'down': 354, 'waterers': 355, 'desired': 356, 'anion': 357, '1': 358, 'awareness': 359, 'glycogen': 360, 'your': 361, 'nfc': 362, 'industry': 363, 'dry': 364, 'however': 365, 'closeup': 366, 'exist': 367, 'require': 368, 'be ': 369, 'least': 370, 'influence': 371, 'developed': 372, 'home': 373, 'strategy': 374, 'potential': 375, '2020b': 376, 'almost': 377, 'insemination': 378, 'measure': 379, 'being': 380, 'once': 381, 'sound': 382, 'technician': 383, 'case': 384, 'most': 385, 'as': 386, 'always': 387, '1991': 388, '515': 389, 'pre': 390, 'remainder': 391, 'considerable': 392, 'available': 393, 'delivered': 394, 'yield': 395, 'availability': 396, 'looking': 397, 'nonfibous': 398, 'fiber': 399, 'begins': 400, 'vfa': 401, 'produced': 402, 'individual': 403, 'relatively': 404, 'minimize': 405, 'status': 406, '22': 407, 'manage': 408, 'driven': 409, 'population': 410, 'lactic': 411, 'begin': 412, 'satisfactory': 413, 'gkg': 414, 'requires': 415, 'date': 416, 'issue': 417, 'transitions': 418, 'drackley': 419, 'consumed': 420, 'especially': 421, 'particular': 422, '25': 423, 'space': 424, 'eight': 425, 'responses': 426, 'rate': 427, 'assess': 428, 'early': 429, 'dividing': 430, 'can': 431, 'output': 432, 'slow': 433, 'consider': 434, 'loss': 435, 'inappropriate': 436, 'adapt': 437, 'created': 438, 'formulated': 439, 'regions': 440, 'canada': 441, 'drop': 442, 'negative': 443, 'been': 444, 'caving': 445, 'goodquality': 446, 'predicted': 447, 'partially': 448, 'suggest': 449, 'valuable': 450, 'insulin': 451, 'odds': 452, 'acid': 453, 'variation': 454, 'maintaining': 455, 'risk': 456, 'delaying': 457, 'classified': 458, 'substantial': 459, 'choice': 460, 'earlylactation': 461, 'underestimated': 462, 'ration': 463, 'frequent': 464, 'carbohydrate': 465, 'momentous': 466, 'differentiate': 467, 'coming': 468, 'reports': 469, 'understand': 470, 'irish': 471, 'similar': 472, 'discuss': 473, 'subjective': 474, 'minimal': 475, 'prevention': 476, 'changed': 477, 'time': 478, 'glands': 479, 'mixed': 480, 'along': 481, 'big': 482, 'mastitis': 483, 'ups': 484, 'ruminal': 485, 'daily': 486, 'vitamins': 487, 'comparable': 488, 'environment': 489, 'relationships': 490, 'affecting': 491, 'result': 492, 'lactating': 493, 'thresholds': 494, 'composition': 495, 'measured': 496, 'mitigated': 497, 'system': 498, 'absence': 499, 'inflammation': 500, 'reason': 501, 'data': 502, 'wallace': 503, 'strategies': 504, 'balances': 505, 'high': 506, 'productivity': 507, 'and ': 508, 'immediate': 509, 'detrimental': 510, 'they': 511, 'salts': 512, 'deficit': 513, 'mcalkg': 514, 'induce': 515, 'decreases': 516, 'cohort': 517, 'challenging': 518, 'following': 519, 'insufficient': 520, 'with': 521, 'try': 522, 'factors': 523, 'into': 524, 'protein': 525, 'kg': 526, 'assessment': 527, 'prepartum': 528, 'table': 529, 'decreasing': 530, 'foot': 531, 'monitoring': 532, 'more': 533, 'size': 534, 'excellent': 535, 'implemented': 536, 'fermentable': 537, 'unusual': 538, 'made': 539, 'point': 540, 'wolter': 541, '71': 542, 'implementation': 543, 'turn': 544, 'plasma': 545, 'measures': 546, 'timely': 547, 'aspect': 548, 'periparturient ': 549, 'ideal': 550, 'appears': 551, 'supply': 552, 'restricted': 553, 'visits': 554, '2017': 555, 'sara': 556, 'example': 557, 'alleys': 558, 'mentioned': 559, 'shown': 560, 'complex': 561, 'walking': 562, 'mineral': 563, 'immense': 564, '2021': 565, 'cause': 566, 'his': 567, 'd': 568, 'blueprints': 569, 'identification': 570, 'drying': 571, 'accurately': 572, 'improved': 573, 'development': 574, 'glycol': 575, 'established': 576, 'included': 577, 'amylolytic': 578, 'holstein': 579, 'success': 580, 'average': 581, 'heifers': 582, 'ensure': 583, 'addressing': 584, 'has': 585, 'lactational': 586, 'rapid': 587, 'recommendation': 588, 'gradually': 589, 'absorb': 590, 'problems': 591, 'hay': 592, 'improve': 593, 'specific': 594, '2011': 595, '100': 596, 'undergoes': 597, 'calves': 598, 'behind': 599, 'interesting': 600, 'vet': 601, 'gravitate': 602, 'welfare': 603, 'forage': 604, 'selected': 605, 'supplemental': 606, 'masking': 607, 'expulsion': 608, 'infection': 609, 'acute': 610, 'selecting': 611, 'because': 612, 'used': 613, 'calcium': 614, 'provided': 615, 'kgday': 616, 'focused': 617, 'qualities': 618, 'necessary': 619, 'therefore': 620, 'leading': 621, 'direct': 622, 'cycle': 623, '60': 624, 'note': 625, 'typical': 626, 'interpreting': 627, 'foul': 628, '2003': 629, 'just': 630, 'grazing': 631, 'gestation': 632, 'protected': 633, '1997': 634, 'additionally': 635, 'work': 636, 'blood': 637, 'impacts': 638, 'bell': 639, 'full': 640, 'needs': 641, 'onfarm': 642, 'columbia': 643, 'exacerbated': 644, 'hours': 645, 'controlled': 646, 'combinations': 647, 'sorting': 648, 'demonstrated': 649, 'farms': 650, 'persists': 651, 'short': 652, 'mammary': 653, 'noted': 654, 'implicated': 655, 'validate': 656, 'her': 657, 'milkday': 658, 'evaluating': 659, 'change': 660, 'entirely': 661, 'metabolize': 662, 'metabolism': 663, 'training': 664, 'might': 665, 'vaccination': 666, 'software': 667, 'maximize': 668, 'digestive': 669, 'primigravid': 670, 'furthermore': 671, '2009': 672, 'received': 673, 'significantly': 674, 'immune': 675, 'endemic': 676, 'fed': 677, 'key': 678, 'too': 679, 'corrections': 680, 'attending': 681, 'type': 682, 'physiological': 683, 'dim': 684, 'reproductive': 685, 'window': 686, 'butler': 687, 'remit': 688, 'body': 689, 'pit': 690, 'coordinate': 691, 'elevation': 692, 'woweeks': 693, 'drinking': 694, 'evaluate': 695, 'nefa': 696, 'indicates': 697, 'monthn': 698, 'after': 699, 'postpartum': 700, 'higher': 701, 'acclimatizing': 702, 'adjusting': 703, 'housed': 704, 'depends': 705, 'ca': 706, 'impact': 707, 'watery': 708, 'cycles': 709, 'information': 710, 'small': 711, 'far': 712, 'minimum': 713, '1998': 714, 'not': 715, 'she': 716, 'clip': 717, '2002': 718, 'equally': 719, 'none': 720, '060': 721, 'depending': 722, 'unlikely': 723, 'utilize': 724, 'low': 725, 'linking': 726, 'and': 727, 'contain': 728, 'aggressive': 729, 'prepare': 730, 'rumination': 731, 'groups': 732, 'farmers': 733, 'foetal': 734, 'concentrate': 735, '2020a': 736, '33': 737, 'sufficiently': 738, 'supplementation': 739, 'parturition': 740, '2012': 741, 'actually': 742, 'pdie': 743, 'supplements': 744, 'knowledge': 745, 'minerals': 746, 'involved': 747, 'need': 748, 'losses': 749, 'hypocalcaemia': 750, 'delivery': 751, 'past': 752, 'gather': 753, 'displaced': 754, 'estimates': 755, 'nutrient': 756, 'effects': 757, 'leblanc': 758, 'set': 759, 'niacin': 760, 'accumulation': 761, 'about': 762, 'reported': 763, 'whether': 764, 'beneficial': 765, 'improvements': 766, 'supplied': 767, 'tools': 768, 'term': 769, 'regulation': 770, 'confusion': 771, 'fraser': 772, 'task': 773, 'importance': 774, 'different': 775, 'utilised': 776, 'practiced': 777, 'calculate': 778, 'bhb': 779, 'maintain': 780, 'mediated': 781, 'our': 782, 'variable': 783, 'first': 784, 'esterified': 785, 'generally': 786, 'barley': 787, 'valley': 788, 'chronically': 789, 'help': 790, 'carbohydrates': 791, 'posing': 792, '15': 793, 'strongly': 794, 'retrieved': 795, 'fail': 796, 'autumn': 797, 'hypothesis': 798, 'ferguson': 799, 'straw': 800, 'ventilated': 801, 'tested': 802, 'summary': 803, '12': 804, 'such': 805, 'abomasums': 806, 'addition': 807, 'dried': 808, 'site': 809, '605': 810, 'competence': 811, 'times': 812, 'until': 813, 'shortening': 814, 'meet': 815, 'ad': 816, 'weather': 817, 'immunosuppression': 818, 'managed': 819, 'profitability': 820, 'mcal': 821, 'between': 822, 'adapted': 823, 'using': 824, 'surprisingly': 825, 'economics': 826, 'optimize': 827, 'drink': 828, 'look': 829, 'later': 830, 'proceed': 831, 'consecutive': 832, 'feeds': 833, '14': 834, 'drastically': 835, 'lowprotein': 836, 'useful': 837, 'units': 838, 'function': 839, 'dm': 840, 'slowly': 841, 'arise': 842, 'already': 843, 'than': 844, 'iceberg': 845, 'approximately': 846, 'pregnant': 847, 'et': 848, 'lower': 849, 'closely': 850, 'ovarian': 851, 'increase': 852, 'stimulate': 853, 'declines': 854, 'systemic': 855, '2020': 856, 'next': 857, 'profound': 858, 'buckley': 859, 'principles': 860, 'popularbased': 861, 'triacylglycerol': 862, 'price': 863, 'heat': 864, 'allowance': 865, 'that': 866, 'testing': 867, 'portion': 868, 'benefit': 869, 'inconsistent': 870, 'facing': 871, 'diet': 872, 'initiation': 873, 'production': 874, 'week': 875, '7': 876, 'understanding': 877, 'named': 878, 'grummer': 879, 'minutes': 880, 'records': 881, '475': 882, 'which': 883, 'issues': 884, 'veterinary': 885, 'choline': 886, 'will': 887, 'reduced': 888, 'having': 889, 'way': 890, 'indicative': 891, '165': 892, 'silages': 893, 'particle': 894, 'surface': 895, 'reproduction': 896, 'gait': 897, 'place': 898, 'plays': 899, 'exceeds': 900, 'number': 901, 'review': 902, 'verify': 903, 'mild': 904, 'is': 905, 'magnify': 906, 'order': 907, 'smell': 908, 'lying': 909, 'offering': 910, 'placenta': 911, 'emery': 912, 'around': 913, 'determine': 914, 'leads': 915, 'occur': 916, 'disease': 917, 'prophylactic': 918, 'avoid': 919, 'sources': 920, 'making': 921, 'recording': 922, 'obligatory': 923, 'required': 924, 'incidence': 925, 'nutritional': 926, 'offn': 927, 'pertinent': 928, 'hormonal': 929, 'forages': 930, '1992': 931, 'somatotropin': 932, 'markers': 933, 'cull': 934, 'infiltration': 935, 'feeding': 936, 'regard': 937, 'ketosis': 938, 'such ': 939, 'at': 940, 'enough': 941, 'total': 942, 'accepted': 943, 'future': 944, 'antiinflammatory': 945, 'situation': 946, 'frequency': 947, 'tended': 948, 'sample': 949, 'allowances': 950, 'are': 951, 'conception': 952, 'should': 953, 'did': 954, 'primarily': 955, 'manner': 956, 'carriers': 957, 'avoiding': 958, 'phenomenon': 959, 'priority': 960, 'minimising': 961, 'cropwheat': 962, 'during': 963, '72': 964, 'setting': 965, 'depicted': 966, 'irrelevant': 967, 'm': 968, 'due': 969, 'positive': 970, 'was': 971, 'scoring': 972, 'consisted': 973, 'condition': 974, 'study': 975, 'receive': 976, '30325': 977, 'directly': 978, 'moving': 979, 'provide': 980, 'sealant': 981, 'adds': 982, 'relationship': 983, 'delayed': 984, 'go': 985, 'magnitude': 986, 'targets': 987, 'axes': 988, 'comparison': 989, 'performance': 990, 'further': 991, 'pounds': 992, 'as ': 993, 'attention': 994, 'dyk': 995, 'bone': 996, 'decrease': 997, 'maintained': 998, 'roche': 999, 'seasonal': 1000, 'optimum': 1001, 'stalls': 1002, 'i': 1003, 'movements': 1004, 'hydroxybutyrate': 1005, 'rationn': 1006, 'linear': 1007, 'could': 1008, 'without': 1009, 'fermentation': 1010, 'elements': 1011, 'little': 1012, 'stress': 1013, 'put': 1014, 'pregnancy': 1015, 'associated': 1016, 'subsequent': 1017, 'physiologic': 1018, 'large': 1019, 'now': 1020, 'month': 1021, 'close': 1022, '3': 1023, 'n': 1024, 'difference': 1025, 'goff': 1026, 'indeed': 1027, 'nonstructural': 1028, 'advised': 1029, 'pushups': 1030, 'jones': 1031, 'finally': 1032, 'weeks': 1033, 'half': 1034, 'clinical': 1035, 'risks': 1036, 'hypothesized': 1037, 'tip': 1038, 'less': 1039, 'characteristics': 1040, 'per': 1041, 'faced': 1042, '600': 1043, '2006': 1044, '1995': 1045, 'suggested': 1046, 'modulate': 1047, 'manipulating': 1048, 'infections': 1049, 'mertens': 1050, 'binary': 1051, 'experience': 1052, '64': 1053, 'fatty': 1054, 'spot': 1055, 'role': 1056, 'santos': 1057, '5': 1058, 'crucial': 1059, '1999': 1060, 'prevent': 1061, 'noticed': 1062, 'routine': 1063, 'performed': 1064, 'measuring': 1065, 'fill': 1066, 'advances': 1067, 'al': 1068, 'its': 1069, 'caused': 1070, 'we': 1071, 'research': 1072, 'perhaps': 1073, 'years': 1074, 'intermittent': 1075, 'processes': 1076, 'additional': 1077, 'only': 1078, 'value': 1079, 'nave': 1080, 'subclinical': 1081, '1996': 1082, 'mixing': 1083, 'nutrition': 1084, 'g': 1085, 'effective': 1086, 'papillae': 1087, 'affects': 1088, 'stocking': 1089, 'changes': 1090, 'maximise': 1091, 'better': 1092, '32': 1093, 'emanuelson': 1094, 'sections': 1095, 'net': 1096, 'true': 1097, 'propylene': 1098, 'hierarchy': 1099, '6': 1100, '1550': 1101, 'cellulolytic': 1102, 'diseases': 1103, 'increasing': 1104, 'nrc': 1105, 'nuance': 1106, 'flies': 1107, 'lose': 1108, 'reist': 1109, 'ensuring': 1110, 'achieve': 1111, 'containing': 1112, 'animals': 1113, '4': 1114, '8': 1115, 'fetal': 1116, 'start': 1117, 'given': 1118, 'attributed': 1119, 'preventing': 1120, 'newby': 1121, 'transitory': 1122, 'burke': 1123, 'likely': 1124, 'duration': 1125, 'some': 1126, 'agrisearch': 1127, 'regards': 1128, '8085': 1129, 'partial': 1130, '50': 1131, 'cyclicity': 1132, 'by': 1133, 'van': 1134, 'inches': 1135, 'hayirli': 1136, 'going': 1137, '159': 1138, 'encountered': 1139, 'british': 1140, 'managing': 1141, 'below': 1142, 'successful': 1143, 'underreported': 1144, 'recent': 1145, '9': 1146, 'abruptly': 1147, 'efficiency': 1148, 'acidosis': 1149, 'protocols': 1150, 'analysed': 1151, 'cannot': 1152, 'glucocorticoids': 1153, 'starch': 1154, 'oltenacu': 1155, 'cows': 1156, 'facilitate': 1157, 'advantage': 1158, 'lipidosis': 1159, 'before': 1160, 'late': 1161, 'prior': 1162, 'challenges': 1163, '280': 1164, 'cleaning': 1165, 'physically': 1166, 'great': 1167, 'taken': 1168, 'care': 1169, 'for': 1170, 'find': 1171, 'proven': 1172, 'up': 1173, 'decreased': 1174, 'best': 1175, 'have': 1176, 'standardised': 1177, 'silage': 1178, 'services': 1179, 'whole': 1180, 'evaluated': 1181, 'stages': 1182, 'recommend': 1183, 'herds': 1184, 'acclimatise': 1185, 'citing': 1186, 'uterine': 1187, 'vital': 1188, 'longitudinal': 1189, 'commercial': 1190, 'said': 1191, 'phase': 1192, 'robert': 1193, 'requirement': 1194, 'conventional': 1195, 'adequate': 1196, 'other': 1197, '1012': 1198, 'capacity': 1199, '200': 1200, '461': 1201, 'range': 1202, 'there': 1203, 'milk ': 1204, 'passage': 1205, 'nutrients': 1206, 'demands': 1207, 'scenario': 1208, 'limit': 1209, 'option': 1210, 'consideration': 1211, 'dietary': 1212, 'dangerous': 1213, 'estimated': 1214, 'analysis': 1215, 'few': 1216, 'observe': 1217, 'deliver': 1218, 'had': 1219, 'doubt': 1220, 'grass': 1221, 'identified': 1222, 'response': 1223, 'compound': 1224, 'including': 1225, 'subsequently': 1226, 'income': 1227, 'occurrence': 1228, '2000': 1229, 'maize': 1230, '305': 1231, 'density': 1232, 'cowearly': 1233, 'any': 1234, 'manipulate': 1235, 'elaborate': 1236, 'effect': 1237, 'intakes': 1238, '350': 1239, 'provision': 1240, 'screening': 1241, 'decline': 1242, 'successfully': 1243, 'it': 1244, 'nonlactating': 1245, 'balance': 1246, 'test': 1247, 'extension': 1248, 'although': 1249, 'mmoll': 1250, 'cown': 1251, 'transition': 1252, 'expected': 1253, 'periparturient': 1254, 'wk': 1255, 'flora': 1256, 'zealand': 1257, '2': 1258, 'causing': 1259, 'conditioning': 1260, 'ingredients': 1261, 'helps': 1262, 'microbes': 1263, 'dairy': 1264, 'aptly': 1265, 'equivalent': 1266, 'assume': 1267, 'lipids': 1268, 'drug': 1269, 'farmer': 1270, 'in': 1271, 'amount': 1272, 'level': 1273, '81ufl': 1274, 'disorders': 1275, 'phenomena': 1276, 'balanced': 1277, 'silagefed': 1278, 'diagnostic': 1279, 'what': 1280, 'difficult': 1281, 'day': 1282, '5000l': 1283, 'critical': 1284, 'accommodation': 1285, 'precalving': 1286, 'treatment': 1287, 'according': 1288, 'combination': 1289, 'turning': 1290, '40': 1291, 'know': 1292, 'intake': 1293, 'reserves': 1294, 'studies': 1295, 'contributing': 1296, 'metabolizable': 1297, 'commingling': 1298, 'non': 1299, 'herd': 1300, 'postcalving': 1301, 'supplementary': 1302, 'eat': 1303, 'vaginal': 1304, 'farm': 1305, 'theories': 1306, 'end': 1307, 'animal': 1308, 'retained': 1309, 'experienced': 1310, 'vary': 1311, 'laminitis': 1312, '325': 1313, 'dystocia': 1314, 'falls': 1315, 'offers': 1316, 'minimizing': 1317, 'consequences': 1318, 'all': 1319, 'consumption': 1320, 'various': 1321, 'commonly': 1322, 'significant': 1323, 'year': 1324, 'considered': 1325, 'principal': 1326, 'pillars': 1327, 'water': 1328, 'ventilation': 1329, 'cases': 1330, 'trace': 1331, 'summarize': 1332, 'dmi': 1333, 'fundamental': 1334, '19': 1335, 'anovulatory': 1336, 'represents': 1337, 'areas': 1338, 'several': 1339, 'advocate': 1340, 'abrupt': 1341, 'previous': 1342, 'progesterone': 1343, 'elevated': 1344, 'this': 1345, 'them': 1346, 'milk': 1347, 'photoperiod': 1348, 'clearly': 1349, 'steen': 1350, 'safest': 1351, 'cow': 1352, 'why': 1353, 'silagebased': 1354, 'dmd': 1355, '75': 1356, 'cubicle': 1357, 'topic': 1358, 'bcs': 1359, 'concentrations': 1360, 'tool': 1361, 'target': 1362, 'labour': 1363, 'appropriate': 1364, 'months': 1365, 'calve': 1366, 'neb': 1367, 'outside': 1368, 'lactate': 1369, 'method': 1370, 'same': 1371, 'murphy': 1372, 'final': 1373, 'transfer': 1374, 'see': 1375, 'fever': 1376, 'meaningless': 1377, 'would': 1378, 'report': 1379, 'develop': 1380, 'difficulty': 1381, 'area': 1382, 'mobilisation': 1383, 'three': 1384, 'assistance': 1385, 'when': 1386, 'comprehensive': 1387, 'discharge': 1388, 'sizes': 1389, 'modulating': 1390, 'dcad': 1391, 'essential': 1392, 'letting': 1393, 'mark': 1394, 'saun': 1395, 'discussion': 1396, 'carried': 1397, '20': 1398, 'collectively': 1399, 'while': 1400, 'achieved': 1401, 'another': 1402, 'betahydroxybutyrate': 1403, 'td': 1404, 'known': 1405, 'eaten': 1406, 'cows10': 1407, 'state': 1408, 'stillborn': 1409, 'simple': 1410, 'options': 1411, 'sufficient': 1412, 'subacute': 1413, 'policy': 1414, 'culminate': 1415, 'form': 1416, 'sentences': 1417, 'recognised': 1418, 'digestibility': 1419, 'fertility': 1420, 'optimal': 1421, 'allow': 1422, 'factor': 1423, 'gain': 1424, 'consequence': 1425, 'meeting': 1426, 'converts': 1427, 'itself': 1428, 'pdin': 1429, 'front': 1430, 'enrolled': 1431, 'similarly': 1432, 'monensin': 1433, 'careful': 1434, 'homeostasis': 1435, 'resulting': 1436, 'related': 1437, 'fresh': 1438, 'leukosis': 1439, 'fatprotein': 1440, 'induces': 1441, 'relocate': 1442, 'broad': 1443, 'resumption': 1444, '23': 1445, 'widely': 1446, 'right': 1447, 'rise': 1448, 'concentration': 1449, 'meaningful': 1450, 'use': 1451, 'maximizing': 1452, 'economic': 1453, 'whelan': 1454, 'logistically': 1455, 'do': 1456, '275': 1457, 'unrealized': 1458, 'urinary': 1459, 'components': 1460, 'lot': 1461, 'placental': 1462, 'extremely': 1463, 'healthy': 1464, 'displacing': 1465, 'abomasum': 1466, 'indoors': 1467, 'one': 1468, 'weight': 1469, 'linked': 1470, 'treated': 1471, 'taking': 1472, 'poor': 1473, 'occasionally': 1474, 'lipid': 1475, 'group': 1476, 'ponter': 1477, 'scores': 1478, 'goals': 1479, 'found': 1480, 'barragan': 1481, 'pound': 1482, 'diets': 1483, 'ways': 1484, 'biology': 1485, 'each': 1486, 'social': 1487, 'energy': 1488, 'unsuitable': 1489, 'vice': 1490, 'feed': 1491, 'tmr': 1492, '2001': 1493, 'proper': 1494, 'displaced ': 1495, 'can ': 1496, 'metabolic': 1497, 'diseases ': 1498, 'problematic': 1499, 'omara': 1500, 'concerns': 1501, 'antioxidant': 1502, 'accommodate': 1503, 'observed': 1504, 'producers': 1505, 'physiology': 1506, 'simianer': 1507, 'rumensin': 1508, 'service': 1509, 'roughly': 1510, 'principally': 1511, 'seriously': 1512, 'formulation': 1513, 'redbrown': 1514, 'firstlactation': 1515, 'programs': 1516, '68': 1517, 'lb': 1518, 'highly': 1519, 'tissue': 1520, 'if': 1521, 'conditions': 1522, 'metritis': 1523, 'timing': 1524, 'locking': 1525, '360': 1526, 'their': 1527, 'stressful': 1528, 'classically': 1529, 'understood': 1530, 'continually': 1531, 'dr': 1532, '24': 1533, '18': 1534, 'from': 1535, 'rapidly': 1536}\n"
     ]
    }
   ],
   "source": [
    "### label2Idx  word2Idx\n",
    "\n",
    "\n",
    "# sort the set to ensure '0' is assigned to 0\n",
    "sorted_labels = sorted(list(labelSet), key=len)\n",
    "\n",
    "\n",
    "# create mapping for labels\n",
    "label2Idx = {}\n",
    "for label in sorted_labels:\n",
    "    label2Idx[label] = len(label2Idx)\n",
    "idx2Label = {v: k for k, v in label2Idx.items()}\n",
    "\n",
    "\n",
    "# create mapping for words\n",
    "word2Idx = {}\n",
    "if len(word2Idx) == 0:\n",
    "    word2Idx[\"PADDING_TOKEN\"] = len(word2Idx) # as 0\n",
    "    word2Idx[\"UNKNOWN_TOKEN\"] = len(word2Idx) # as 1\n",
    "for word in wordSet:\n",
    "    word2Idx[word] = len(word2Idx)\n",
    "    \n",
    "# print some mapping \n",
    "\n",
    "print(\"idx2Label: \", len(idx2Label))\n",
    "print(\"idx2Label: \", idx2Label)\n",
    "print()\n",
    "print(\"word2Idx: \", len(word2Idx))\n",
    "print(\"word2Idx: \", word2Idx)"
   ]
  },
  {
   "cell_type": "markdown",
   "id": "dfe795f2",
   "metadata": {},
   "source": [
    "### 3, Changing words into indexs"
   ]
  },
  {
   "cell_type": "code",
   "execution_count": 46,
   "id": "6f1893d0",
   "metadata": {},
   "outputs": [
    {
     "name": "stdout",
     "output_type": "stream",
     "text": [
      "train_sentences:  [[85, 726, 307, 757, 244, 528, 1084, 727, 1017, 1420, 905, 232, 385, 244, 1280, 905, 1046, 36, 827, 944, 1420, 905, 1437, 36, 490, 822, 1497, 1275, 727, 456, 1170, 984, 952, 202, 1497, 591, 866, 250, 429, 700, 1156, 805, 386, 1309, 1116, 187, 1347, 1376, 938, 727, 754, 1466, 951, 1292, 36, 6, 307, 163, 244, 443, 1488, 1246, 727, 301, 1444, 244, 851, 709, 33, 244, 307, 1488, 3, 244, 307, 872, 528, 585, 444, 560, 36, 250, 364, 126, 1293, 1136, 848, 1068, 718, 727, 700, 586, 990, 1156, 677, 506, 537, 1488, 1483, 528, 1176, 573, 1488, 1246, 888, 1360, 244, 545, 323, 1054, 58, 727, 1005, 727, 888, 862, 935, 1271, 307, 275, 1520, 275, 1159, 429, 700, 585, 444, 1470, 521, 267, 1248, 1271, 307, 700, 1336, 163, 1109, 848, 1068, 1229, 727, 888, 685, 990, 1271, 493, 1264, 1156, 208, 848, 1068, 1229, 1244, 905, 1281, 36, 914, 764, 307, 443, 1237, 244, 862, 935, 1271, 307, 275, 1520, 306, 700, 1444, 244, 851, 709, 905, 622, 255, 630, 159, 1425, 244, 443, 1488, 1246, 81, 1483, 866, 405, 307, 456, 1170, 275, 1159, 727, 938, 951, 1253, 36, 593, 700, 1488, 1246, 727, 1444, 244, 1132, 283, 848, 1068, 714, 677, 1131, 229, 727, 423, 670, 579, 1156, 1468, 244, 29, 1483, 866, 973, 244, 159, 325, 398, 465, 872, 143, 940, 1335, 568, 528, 159, 506, 289, 465, 872, 143, 940, 1335, 568, 528, 159, 325, 289, 465, 872, 123, 804, 37, 244, 760, 143, 940, 1335, 568, 528, 159, 506, 289, 465, 872, 123, 804, 37, 244, 760, 143, 940, 1335, 568, 528, 727, 159, 325, 289, 465, 872, 143, 940, 1335, 568, 528, 123, 760, 143, 940, 834, 568, 700, 276, 257, 218, 963, 307, 784, 1291, 1033, 244, 9, 936, 159, 506, 138, 465, 872, 528, 330, 364, 126, 727, 1488, 1293, 883, 573, 1488, 1246, 244, 1156, 334, 307, 1252, 163, 545, 211, 1360, 948, 36, 51, 701, 727, 323, 1054, 58, 727, 1005, 1360, 257, 849, 1170, 1156, 677, 307, 506, 289, 465, 872, 612, 244, 307, 970, 757, 306, 1475, 663, 1483, 506, 1271, 289, 791, 330, 1360, 244, 168, 360, 727, 888, 1360, 244, 275, 862, 307, 970, 757, 244, 506, 537, 1488, 1483, 677, 528, 951, 1253, 36, 405, 307, 925, 244, 1081, 938, 727, 275, 1159, 883, 665, 1176, 970, 757, 306, 700, 1420, 1249, 1483, 506, 1271, 289, 791, 593, 1488, 406, 244, 1252, 1156, 1240, 244, 1196, 328, 244, 1166, 1086, 241, 905, 324, 36, 780, 316, 1066, 125, 177, 1271, 307, 476, 244, 4, 244, 1466, 1156, 866, 1380, 4, 244, 1466, 1176, 984, 700, 378, 28, 727, 1057, 718, 883, 665, 997, 685, 1148, 1483, 521, 159, 1096, 1488, 1170, 9, 277, 844, 892, 514, 257, 1016, 521, 330, 456, 1170, 4, 244, 1466, 339, 848, 1068, 1060, 1012, 57, 710, 905, 393, 1170, 307, 399, 249, 244, 364, 1156, 36, 780, 1196, 316, 205, 727, 405, 307, 925, 244, 4, 244, 1466, 1050, 634, 438, 159, 498, 36, 914, 307, 20, 244, 241, 36, 853, 731, 727, 36, 780, 1347, 63, 1360, 1288, 36, 567, 502, 399, 920, 951, 458, 1288, 36, 1527, 198, 36, 853, 731, 883, 971, 978, 1437, 36, 307, 534, 244, 894, 727, 1046, 866, 493, 579, 1156, 953, 976, 1483, 1112, 940, 370, 203, 1166, 1086, 241, 1271, 907, 36, 780, 1347, 63, 3, 149, 152, 385, 528, 1483, 728, 822, 214, 36, 1291, 241, 727, 33, 244, 307, 399, 3, 244, 307, 463, 953, 51, 539, 36, 1503, 307, 641, 244, 307, 594, 1300, 1271, 650, 521, 729, 1438, 1352, 1516, 925, 244, 4, 244, 1466, 905, 1142, 1258, 244, 307, 942, 1156, 291, 1041, 1324, 727, 189, 1184, 431, 1491, 528, 1483, 521, 1039, 844, 152, 241, 620, 701, 1488, 1483, 386, 1003, 559, 1271, 1468, 244, 13, 1342, 12, 1481, 736, 307, 1252, 163, 905, 1468, 244, 1521, 715, 307, 385, 518, 163, 1170, 1264, 1156, 963, 1527, 874, 623, 963, 1345, 478, 1156, 1052, 329, 111, 683, 1163, 159, 442, 1271, 364, 126, 1293, 267, 852, 1271, 756, 1207, 818, 727, 855, 1013, 727, 500, 421, 913, 291, 620, 307, 1175, 274, 36, 408, 1345, 1476, 244, 1113, 905, 1133, 584, 189, 1163, 1521, 1071, 92, 762, 307, 442, 1271, 1293, 727, 307, 852, 1271, 756, 641, 307, 111, 443, 757, 951, 1113, 1137, 524, 159, 443, 1488, 1246, 612, 511, 951, 824, 533, 1206, 844, 1280, 511, 951, 280, 727, 181, 1497, 1103, 805, 386, 938, 727, 1054, 168, 1020, 1071, 1152, 997, 307, 756, 1207, 866, 1156, 1176, 940, 1345, 478, 46, 1071, 431, 997, 307, 442, 1271, 364, 126, 1293, 53, 1494, 258, 1249, 1156, 887, 1052, 1126, 169, 244, 818, 963, 1345, 478, 350, 244, 258, 267, 644, 1528, 41, 110, 1223, 56, 906, 1345, 818, 1104, 307, 456, 244, 1156, 181, 1103, 307, 749, 1170, 1264, 1156, 1016, 521, 1103, 951, 224, 1405, 46, 306, 164, 244, 491, 307, 603, 244, 1156, 727, 826, 244, 307, 1305, 189, 1522, 1176, 159, 221, 1237, 306, 307, 507, 727, 1420, 244, 1156, 530, 1347, 874, 727, 952, 87, 727, 1104, 31, 244, 1113, 1133, 1390, 1013, 727, 500, 699, 291, 307, 1036, 244, 181, 1103, 727, 1473, 990, 56, 51, 1174, 1024, 307, 258, 272, 1170, 1252, 1156, 273, 51, 617, 306, 1452, 364, 126, 1293, 727, 1390, 1013, 727, 500, 36, 668, 364, 126, 1293, 872, 495, 421, 399, 727, 1488, 1360, 905, 1468, 244, 307, 385, 1284, 523, 1532, 1193, 1134, 1395, 1349, 18, 1271, 782, 1342, 12, 1126, 244, 307, 678, 48, 1170, 97, 1252, 1352, 1483, 1134, 1395, 856, 1249, 872, 495, 905, 324, 1003, 1378, 292, 866, 1280, 1071, 1456, 521, 866, 872, 905, 719, 324, 1071, 1008, 1176, 307, 1175, 439, 872, 521, 307, 1175, 1261, 46, 1521, 1156, 1456, 715, 1176, 335, 36, 1244, 307, 872, 495, 1378, 51, 967, 963, 1345, 163, 1156, 953, 1176, 335, 36, 1438, 1491, 940, 370, 1445, 645, 159, 1282, 727, 1078, 1176, 266, 1491, 393, 1400, 1165, 307, 1491, 184, 1271, 822, 1491, 176, 1203, 951, 131, 111, 272, 866, 853, 1156, 36, 985, 36, 307, 1491, 184, 727, 1303, 1491, 1030, 727, 1491, 751, 947, 1244, 905, 39, 36, 256, 1491, 1173, 223, 131, 36, 329, 645, 521, 533, 464, 256, 484, 223, 214, 880, 963, 307, 784, 131, 645, 699, 1438, 1491, 905, 394, 521, 937, 36, 1491, 751, 947, 1072, 585, 560, 866, 1386, 1064, 146, 1173, 36, 329, 812, 159, 1282, 1345, 230, 887, 853, 1156, 36, 985, 36, 307, 1491, 184, 727, 1303, 365, 936, 1156, 329, 812, 159, 1282, 431, 51, 1455, 561, 1271, 159, 1305, 965, 727, 307, 588, 905, 36, 1218, 1438, 1491, 940, 370, 131, 812, 159, 1282, 40, 1384, 1170, 1345, 1476, 244, 1113, 1020, 720, 244, 307, 272, 149, 887, 636, 1521, 1156, 951, 715, 86, 159, 1055, 940, 307, 235, 529, 883, 915, 36, 267, 324, 1423, 1494, 1089, 1232, 1249, 1345, 905, 159, 1443, 1358, 1003, 887, 522, 36, 1332, 1244, 1271, 159, 1216, 1417, 1203, 951, 131, 1484, 36, 379, 1089, 1232, 1468, 244, 1346, 905, 121, 306, 307, 909, 895, 255, 1002, 727, 307, 1197, 1468, 905, 121, 306, 307, 1491, 184, 424, 307, 1351, 890, 36, 428, 1345, 36, 141, 1491, 396, 905, 36, 1451, 307, 1491, 184, 424, 1370, 1133, 1065, 307, 1491, 184, 424, 1271, 1135, 727, 430, 866, 1133, 901, 244, 1156, 1271, 307, 315, 307, 424, 940, 307, 1491, 184, 866, 1486, 1352, 585, 335, 36, 431, 51, 1214, 40, 214, 1135, 244, 1491, 184, 424, 905, 924, 1041, 1352, 1271, 307, 315, 883, 887, 51, 1266, 36, 889, 159, 1089, 1232, 244, 1129, 121, 306, 901, 244, 1002, 1271, 307, 315, 1197, 272, 866, 431, 852, 364, 126, 1293, 727, 1047, 1013, 951, 42, 307, 901, 244, 315, 1004, 940, 307, 713, 215, 36, 997, 307, 1013, 1016, 521, 307, 73, 244, 315, 1487, 1099, 727, 958, 1298, 1515, 1156, 521, 333, 1156, 166, 244, 307, 272, 305, 149, 56, 1047, 1013, 727, 500, 36, 1126, 169, 365, 1203, 951, 594, 272, 913, 291, 866, 56, 1176, 159, 277, 1237, 1271, 1468, 244, 782, 1295, 1071, 1480, 866, 1156, 866, 1310, 159, 1281, 291, 1219, 267, 1344, 110, 1223, 1271, 307, 190, 699, 291, 727, 1226, 159, 701, 456, 244, 181, 1103, 331, 36, 1156, 866, 1310, 159, 127, 291, 620, 547, 570, 727, 1494, 1385, 244, 1156, 264, 159, 1281, 291, 905, 1284, 36, 997, 500, 727, 1013, 963, 1345, 478, 386, 1003, 1176, 559, 1271, 166, 244, 13, 1342, 12, 1481, 376, 45, 664, 905, 307, 93, 784, 727, 1073, 307, 385, 324, 22, 36, 1111, 1345, 1271, 307, 1371, 975, 1071, 1480, 866, 1156, 866, 1310, 1314, 727, 257, 1471, 521, 159, 904, 945, 1269, 402, 377, 117, 992, 1041, 1282, 533, 1347, 963, 307, 784, 214, 190, 699, 291, 331, 36, 1156, 866, 1310, 1314, 46, 257, 715, 1471, 1481, 848, 1068, 736, 1432, 229, 1156, 350, 244, 291, 1381, 866, 257, 1471, 521, 1345, 945, 1269, 1219, 849, 855, 500, 727, 402, 377, 1114, 992, 1041, 1282, 533, 1347, 963, 307, 784, 624, 190, 1271, 1347, 331, 36, 1156, 866, 257, 715, 1471, 1481, 848, 1068, 856, 54, 1271, 159, 533, 1145, 975, 1071, 1480, 866, 1156, 866, 673, 1345, 904, 945, 1287, 274, 1219, 888, 925, 244, 1187, 1103, 805, 386, 1523, 727, 222, 573, 1420, 1481, 848, 1068, 565, 620, 1203, 56, 51, 267, 1158, 36, 1390, 500, 699, 291, 1521, 295, 654, 1003, 1191, 1390, 727, 715, 530, 307, 501, 599, 1345, 905, 866, 1156, 748, 307, 1013, 727, 110, 426, 1170, 286, 1076, 805, 386, 740, 873, 727, 608, 244, 307, 911, 1271, 159, 975, 254, 1156, 257, 1471, 521, 159, 170, 945, 1269, 963, 727, 699, 291, 1471, 1156, 1219, 159, 701, 427, 244, 1409, 598, 700, 1376, 1309, 911, 1523, 727, 1174, 1347, 874, 1121, 848, 1068, 555, 258, 244, 1252, 1156, 905, 1468, 244, 307, 385, 324, 48, 244, 1305, 258, 866, 887, 759, 1173, 1264, 1156, 1170, 580, 963, 307, 9, 163, 307, 111, 1479, 244, 189, 272, 273, 51, 1452, 364, 126, 1293, 727, 1390, 1013, 727, 500, 535, 872, 1513, 727, 1491, 184, 258, 951, 1284, 1170, 530, 307, 442, 1271, 364, 126, 1293, 365, 1521, 1156, 1456, 715, 1176, 335, 36, 307, 872, 189, 272, 887, 51, 1377, 291, 532, 727, 1494, 1385, 481, 521, 904, 945, 1287, 431, 51, 765, 36, 1047, 1013, 727, 500, 699, 291, 727, 997, 307, 749, 1016, 521, 1345, 163, 940, 571, 118, 611, 1156, 36, 364, 118, 429, 255, 934, 49, 1347, 874, 70, 364, 118, 255, 934, 1156, 866, 951, 195, 1176, 506, 341, 255, 866, 951, 917, 957, 340, 1439, 52, 1015, 1160, 571, 118, 326, 1170, 159, 689, 974, 178, 822, 1457, 727, 1093, 1209, 525, 727, 1488, 1293, 980, 592, 255, 1221, 1178, 866, 905, 725, 1271, 525, 727, 113, 233, 980, 267, 1196, 563, 552, 1442, 307, 1251, 780, 1328, 335, 1451, 1341, 364, 118, 1170, 1156, 269, 793, 526, 244, 658, 255, 1039, 1451, 1075, 279, 1521, 1319, 244, 307, 1197, 1411, 796, 36, 997, 1347, 874, 36, 793, 616, 255, 1039, 1209, 1075, 279, 36, 1445, 190, 434, 824, 159, 142, 981, 307, 1451, 244, 159, 142, 981, 905, 794, 39, 1386, 1203, 887, 51, 159, 153, 364, 163, 188, 361, 74, 762, 703, 307, 666, 173, 1521, 307, 1156, 951, 95, 940, 571, 927, 903, 307, 364, 118, 1438, 532, 1379, 1521, 1203, 951, 159, 1461, 244, 1438, 1156, 521, 506, 341, 473, 364, 1352, 258, 521, 361, 74, 612, 1049, 1504, 963, 307, 784, 1131, 190, 244, 9, 1176, 146, 444, 84, 963, 307, 364, 163, 405, 1013, 919, 78, 980, 159, 55, 364, 727, 224, 801, 489, 583, 866, 1203, 905, 1196, 1329, 36, 405, 864, 1013, 980, 159, 713, 244, 214, 1271, 15, 244, 424, 940, 307, 1491, 184, 1170, 557, 159, 309, 592, 75, 521, 267, 1115, 531, 24, 727, 1534, 1095, 887, 1422, 793, 1156, 36, 1303, 940, 307, 1371, 478, 1024, 60, 1107, 727, 61, 980, 1438, 1328, 727, 55, 355, 689, 974, 178, 953, 40, 51, 998, 822, 1457, 727, 1313, 62, 689, 974, 381, 159, 698, 730, 1156, 423, 190, 1160, 291, 727, 582, 1093, 190, 1160, 291, 1024, 307, 581, 1125, 244, 159, 1015, 905, 1164, 190, 64, 856, 656, 307, 1015, 1125, 613, 1133, 361, 667, 1024, 1476, 1352, 243, 36, 1078, 109, 898, 381, 159, 875, 1024, 1442, 1156, 940, 370, 203, 190, 1160, 1527, 447, 291, 416, 255, 1447, 1160, 1363, 400, 583, 866, 307, 558, 951, 715, 312, 1386, 979, 1156, 695, 307, 1210, 244, 824, 307, 1508, 281, 521, 361, 74, 717, 727, 133, 307, 119, 1160, 291, 1451, 159, 594, 463, 1170, 1438, 1156, 1521, 215, 980, 335, 36, 307, 463, 1445, 645, 212, 244, 1533, 919, 463, 648, 656, 521, 271, 1408, 980, 488, 833, 1271, 307, 366, 463, 727, 307, 1438, 1233, 9, 1006, 521, 1195, 936, 852, 233, 1133, 913, 1239, 1085, 1041, 1282, 1374, 1156, 1535, 307, 1438, 1352, 1476, 36, 1476, 358, 699, 846, 876, 684, 1386, 307, 1293, 874, 727, 205, 951, 413, 307, 1252, 163, 905, 1510, 96, 386, 1384, 1033, 1162, 36, 291, 813, 1384, 1033, 699, 291, 1345, 163, 905, 1265, 878, 234, 1497, 418, 916, 1271, 159, 1156, 689, 386, 716, 1427, 1535, 159, 1245, 36, 159, 493, 1408, 727, 597, 307, 1013, 244, 740, 258, 418, 805, 386, 315, 59, 727, 463, 1090, 951, 635, 91, 1156, 146, 796, 36, 437, 36, 189, 1497, 727, 258, 1090, 1436, 1271, 1356, 244, 1264, 1352, 917, 925, 963, 307, 784, 1021, 699, 291, 727, 459, 1453, 749, 36, 307, 1264, 363, 758, 848, 1068, 1044, 715, 825, 392, 1072, 905, 380, 89, 36, 1092, 470, 1252, 1352, 1506, 727, 36, 1380, 573, 278, 1170, 1252, 1352, 258, 1345, 902, 887, 412, 521, 159, 1396, 244, 307, 442, 1271, 1293, 963, 307, 1252, 163, 727, 317, 866, 442, 157, 36, 1352, 205, 857, 1384, 1252, 1352, 258, 504, 887, 51, 336, 358, 185, 1433, 1258, 814, 364, 77, 727, 1023, 1048, 528, 1348, 1486, 244, 189, 1338, 585, 673, 459, 994, 1271, 307, 752, 1339, 1074, 727, 1486, 1316, 124, 768, 36, 1264, 1505, 1141, 1156, 963, 1345, 1281, 478, 1032, 1345, 902, 887, 225, 521, 159, 803, 244, 1252, 1352, 258, 1479, 307, 1252, 163, 905, 1322, 943, 386, 307, 163, 1535, 1384, 1033, 390, 36, 1384, 1033, 293, 291, 365, 307, 144, 364, 163, 905, 324, 727, 1027, 307, 784, 624, 190, 699, 291, 905, 222, 159, 1284, 686, 350, 244, 307, 498, 764, 159, 1000, 849, 76, 498, 255, 159, 1324, 309, 701, 432, 498, 307, 860, 244, 1252, 1352, 258, 951, 307, 1371, 1254, 1103, 805, 386, 1347, 1376, 938, 727, 754, 806, 431, 1319, 51, 1016, 521, 1473, 1252, 1375, 529, 358, 307, 564, 443, 1318, 306, 307, 663, 244, 307, 429, 9, 1352, 969, 36, 217, 244, 307, 1252, 163, 951, 1167, 1468, 244, 307, 234, 443, 638, 244, 1473, 1252, 1352, 258, 905, 818, 1473, 1252, 1352, 258, 431, 707, 1319, 244, 307, 1327, 244, 159, 1143, 9, 805, 386, 888, 507, 1420, 260, 255, 205, 244, 307, 1352, 889, 1156, 1271, 307, 99, 689, 1260, 178, 1359, 940, 1319, 1182, 244, 307, 9, 623, 953, 387, 51, 159, 960, 307, 385, 324, 548, 244, 364, 1352, 1084, 905, 36, 583, 307, 99, 291, 1359, 287, 1521, 1359, 680, 951, 924, 1271, 1161, 9, 255, 940, 364, 118, 159, 926, 374, 953, 51, 1014, 1271, 898, 36, 583, 267, 1364, 1488, 865, 905, 86, 307, 39, 1359, 1170, 1264, 1156, 940, 1486, 540, 244, 307, 9, 623, 905, 966, 1271, 529, 1258, 307, 1362, 689, 974, 178, 940, 291, 905, 977, 1359, 905, 159, 474, 773, 727, 905, 267, 1382, 254, 159, 450, 1509, 431, 51, 615, 1133, 307, 681, 601, 230, 764, 1133, 601, 255, 383, 307, 1476, 244, 1156, 866, 1366, 1535, 348, 306, 951, 385, 940, 456, 244, 186, 386, 1345, 1476, 146, 1176, 159, 19, 364, 163, 1244, 585, 444, 1172, 866, 1386, 1264, 1156, 1366, 354, 1271, 267, 82, 1408, 1359, 1291, 226, 793, 511, 1176, 159, 701, 1273, 244, 1359, 435, 1301, 159, 132, 1497, 1408, 727, 159, 888, 1491, 1293, 1271, 461, 1271, 989, 36, 1156, 521, 267, 1364, 1359, 940, 291, 1359, 1313, 226, 793, 940, 291, 261, 848, 1068, 158, 364, 1156, 1043, 526, 368, 1053, 542, 727, 1274, 1041, 1282, 1386, 704, 1384, 1365, 1162, 36, 131, 1365, 1162, 36, 727, 1271, 307, 94, 1021, 1162, 36, 291, 21, 189, 249, 1267, 866, 1156, 951, 808, 118, 521, 1359, 306, 1362, 1375, 529, 1258, 1221, 893, 951, 1463, 783, 1271, 1527, 234, 926, 618, 159, 93, 1387, 975, 244, 690, 893, 1397, 212, 1271, 79, 345, 1350, 848, 1068, 714, 763, 313, 454, 1271, 1221, 1178, 120, 1386, 420, 940, 159, 626, 1320, 1273, 1133, 364, 1156, 1534, 36, 1398, 244, 689, 1469, 687, 848, 1068, 595, 1126, 1221, 893, 887, 980, 267, 520, 1272, 244, 1488, 1170, 847, 364, 1156, 727, 1126, 887, 980, 679, 239, 1488, 1521, 1221, 1178, 120, 905, 1473, 1156, 56, 1108, 1359, 1271, 307, 364, 163, 671, 1271, 1074, 244, 725, 1347, 863, 727, 255, 1473, 631, 1522, 1271, 307, 797, 1156, 56, 7, 521, 159, 725, 1359, 1271, 1345, 384, 1169, 273, 51, 1168, 36, 583, 866, 1156, 1307, 1173, 521, 267, 1364, 1359, 244, 214, 36, 1313, 940, 291, 999, 848, 1068, 672, 71, 1156, 1176, 444, 1172, 36, 1176, 159, 674, 330, 456, 244, 47, 1187, 205, 884, 727, 1309, 734, 187, 1521, 307, 725, 1359, 651, 36, 307, 297, 167, 725, 1420, 990, 887, 492, 859, 848, 1068, 629, 1521, 307, 1300, 905, 71, 1271, 1161, 9, 340, 1131, 244, 1156, 940, 1359, 423, 727, 1039, 307, 1210, 308, 36, 364, 118, 1156, 429, 421, 1271, 1074, 244, 725, 1347, 863, 1521, 808, 118, 429, 340, 159, 834, 875, 364, 163, 1156, 677, 581, 120, 1221, 1178, 1517, 1355, 953, 1176, 267, 852, 1271, 1359, 244, 846, 1058, 838, 1160, 291, 1521, 307, 725, 1359, 905, 1078, 1062, 940, 364, 118, 425, 1033, 1286, 816, 10, 446, 255, 93, 446, 1221, 1178, 905, 941, 36, 852, 1359, 1133, 1058, 838, 1221, 1178, 120, 964, 1355, 727, 149, 521, 140, 1221, 1178, 255, 254, 1359, 905, 93, 725, 940, 364, 118, 340, 1398, 735, 739, 56, 51, 924, 1170, 364, 1156, 1203, 951, 166, 1306, 306, 1353, 1028, 465, 953, 51, 677, 36, 1161, 847, 364, 1156, 805, 386, 181, 316, 1087, 702, 316, 1263, 727, 958, 1054, 168, 1244, 905, 222, 600, 36, 625, 866, 1105, 1493, 1340, 159, 156, 852, 1271, 1488, 1232, 1271, 307, 366, 364, 1352, 872, 1203, 905, 715, 159, 1461, 244, 1072, 659, 307, 1194, 1170, 189, 504, 1271, 1221, 1278, 364, 1156, 1137, 36, 1221, 1301, 365, 502, 1535, 1123, 848, 1068, 158, 1170, 124, 1257, 1264, 1156, 697, 866, 936, 289, 465, 1271, 307, 1161, 847, 1264, 1352, 872, 1219, 266, 1237, 306, 896, 1271, 631, 1264, 1156, 1271, 471, 502, 112, 848, 1068, 718, 763, 19, 443, 1488, 1246, 1271, 429, 9, 386, 159, 492, 244, 936, 1023, 526, 244, 735, 1170, 329, 1033, 1286, 1244, 905, 600, 866, 159, 1019, 642, 975, 160, 270, 1271, 79, 345, 954, 715, 1171, 1234, 869, 306, 1347, 874, 1420, 255, 31, 386, 159, 492, 244, 185, 233, 1170, 307, 1373, 1384, 1033, 1286, 1170, 1156, 521, 1359, 1271, 307, 356, 1202, 365, 1170, 71, 1156, 185, 233, 1271, 307, 1373, 1384, 1033, 1286, 888, 307, 31, 427, 940, 624, 190, 1301, 1127, 158, 287, 307, 1194, 1170, 735, 1271, 307, 364, 1352, 872, 244, 385, 471, 1156, 706, 1283, 244, 1347, 296, 526, 67, 727, 240, 953, 51, 409, 955, 1133, 1501, 762, 1359, 727, 1178, 120, 307, 1194, 1170, 307, 574, 244, 316, 1087, 727, 36, 1185, 316, 1263, 1170, 364, 1156, 468, 118, 159, 1221, 1354, 872, 727, 231, 1114, 526, 255, 1039, 244, 735, 1491, 1271, 159, 631, 1208, 905, 723, 36, 51, 1323, 1521, 1359, 905, 306, 1362, 1170, 1156, 866, 887, 51, 677, 1115, 526, 244, 735, 255, 533, 1271, 429, 9, 159, 115, 274, 1271, 42, 521, 307, 127, 669, 1506, 244, 307, 1352, 1378, 51, 36, 1491, 358, 526, 244, 1154, 1271, 307, 94, 693, 1286, 1345, 1008, 51, 1258, 526, 244, 159, 364, 1352, 134, 1258, 526, 244, 787, 255, 1023, 526, 244, 1230, 1178, 255, 1180, 962, 1178, 1345, 735, 1154, 936, 940, 1345, 478, 56, 51, 244, 330, 774, 1170, 71, 1156, 307, 1194, 1170, 525, 139, 1271, 307, 94, 1384, 1365, 244, 307, 1015, 1170, 364, 1156, 905, 846, 882, 136, 727, 810, 37, 1170, 159, 1043, 526, 1352, 1500, 1082, 541, 727, 1477, 741, 1271, 385, 1330, 521, 1221, 1178, 1078, 1483, 1345, 1272, 244, 139, 887, 51, 767, 365, 1381, 242, 1521, 128, 307, 1429, 255, 307, 743, 1079, 244, 1221, 1178, 905, 1039, 844, 624, 414, 244, 840, 209, 521, 139, 1240, 887, 222, 842, 254, 800, 255, 725, 525, 930, 665, 51, 577, 1271, 307, 872, 244, 307, 364, 1352, 1244, 905, 324, 866, 1178, 905, 1151, 36, 914, 307, 748, 1170, 1302, 525, 1249, 1197, 936, 298, 320, 1105, 1493, 1183, 701, 525, 950, 844, 307, 139, 950, 1072, 636, 1397, 212, 1271, 345, 1480, 266, 869, 36, 185, 506, 83, 244, 525, 36, 364, 1156, 677, 1221, 1178, 121, 1483, 365, 1170, 1483, 121, 306, 1221, 1178, 727, 800, 677, 1271, 553, 328, 766, 1271, 1347, 525, 1449, 257, 654, 1271, 429, 9, 519, 1302, 525, 936, 1271, 307, 364, 163, 1372, 1060, 287, 139, 505, 953, 51, 43, 121, 306, 307, 1305, 594, 930, 613, 1271, 307, 364, 1352, 872, 1244, 905, 1124, 866, 1302, 525, 56, 51, 924, 1170, 364, 1352, 1483, 1112, 800, 836, 930, 805, 386, 1230, 1178, 255, 725, 139, 1221, 893, 307, 429, 9, 1352, 905, 715, 36, 51, 100, 727, 307, 1117, 244, 9, 905, 159, 678, 478, 1386, 1071, 273, 583, 970, 1497, 406, 36, 583, 1421, 205, 727, 507, 727, 830, 1420, 905, 1401, 1221, 364, 126, 1293, 431, 1311, 1446, 1535, 389, 526, 840, 722, 306, 307, 478, 244, 1324, 338, 631, 258, 905, 619, 36, 1176, 267, 206, 1280, 307, 1221, 396, 905, 727, 1280, 905, 742, 380, 1406, 1271, 907, 866, 307, 99, 739, 1273, 905, 86, 635, 307, 682, 244, 735, 677, 1271, 429, 9, 431, 1176, 267, 707, 306, 1497, 406, 1454, 848, 1068, 741, 763, 866, 631, 1156, 677, 1100, 526, 244, 834, 525, 1224, 121, 306, 1230, 1219, 159, 674, 849, 637, 5, 727, 1403, 331, 36, 631, 1156, 677, 267, 1534, 525, 1224, 121, 306, 787, 1009, 1234, 1323, 1237, 306, 307, 874, 244, 1347, 525, 727, 63, 386, 166, 1156, 887, 51, 819, 1467, 1170, 307, 509, 429, 9, 163, 1244, 905, 1392, 350, 244, 317, 482, 255, 711, 307, 1305, 866, 307, 429, 9, 1352, 872, 905, 43, 36, 815, 1488, 1194, 1170, 307, 1364, 1273, 244, 874, 1203, 951, 159, 313, 901, 244, 523, 866, 914, 1488, 865, 1170, 557, 1491, 424, 817, 631, 1522, 727, 1178, 618, 951, 1319, 324, 282, 374, 905, 613, 36, 1491, 307, 429, 9, 1352, 1126, 1211, 953, 51, 1118, 36, 914, 1521, 756, 552, 905, 1426, 756, 1207, 940, 1345, 1059, 478, 1271, 307, 874, 623, 620, 1221, 727, 735, 950, 953, 222, 51, 331, 36, 307, 1156, 1488, 1194, 824, 307, 8, 498, 234, 746, 1331, 1011, 727, 487, 951, 222, 324, 727, 307, 364, 1352, 872, 953, 135, 159, 594, 364, 1352, 563, 40, 1305, 746, 951, 121, 306, 604, 1215, 727, 951, 605, 121, 306, 1280, 905, 129, 1170, 307, 403, 1305, 1249, 715, 202, 307, 327, 1300, 205, 1476, 1176, 1139, 591, 254, 1474, 1126, 650, 56, 1491, 307, 1371, 563, 36, 279, 727, 364, 1156, 175, 255, 256, 307, 279, 1352, 942, 480, 463, 1492, 1271, 36, 364, 1156, 1345, 905, 324, 36, 829, 940, 386, 307, 1273, 244, 614, 1170, 557, 887, 51, 661, 775, 727, 431, 51, 93, 1213, 521, 937, 36, 1347, 1376, 60, 1347, 1376, 905, 159, 917, 866, 431, 51, 146, 1144, 969, 36, 307, 1451, 244, 918, 614, 727, 307, 1073, 607, 244, 307, 1097, 83, 244, 307, 917, 1310, 1133, 1126, 650, 614, 1435, 585, 159, 678, 1056, 1271, 307, 205, 244, 307, 1352, 940, 291, 1035, 307, 1038, 244, 307, 845, 1237, 727, 1081, 750, 1176, 159, 234, 510, 1237, 306, 307, 429, 9, 1352, 1271, 207, 244, 205, 727, 874, 1244, 905, 715, 351, 1386, 246, 762, 307, 60, 374, 613, 306, 650, 36, 1061, 750, 866, 1203, 905, 720, 1081, 750, 905, 1470, 36, 675, 498, 811, 999, 629, 649, 866, 161, 1271, 440, 244, 631, 1156, 254, 1347, 1376, 905, 224, 646, 866, 1173, 36, 737, 244, 1156, 56, 150, 1535, 1081, 750, 1271, 907, 36, 1247, 1170, 750, 307, 1524, 244, 307, 949, 905, 324, 386, 1244, 641, 36, 51, 1168, 248, 1533, 645, 244, 291, 921, 251, 949, 1389, 1281, 1198, 1407, 244, 307, 1476, 307, 784, 678, 1382, 843, 336, 1271, 307, 60, 244, 1347, 1376, 905, 307, 60, 244, 689, 974, 178, 455, 1359, 1271, 307, 356, 1202, 940, 291, 905, 159, 1334, 540, 1271, 1120, 1347, 1376, 191, 739, 905, 222, 324, 237, 244, 606, 191, 905, 146, 924, 1271, 1354, 364, 1352, 1483, 191, 899, 159, 678, 1056, 1271, 307, 614, 1435, 244, 307, 1352, 1402, 1334, 183, 1271, 1347, 1376, 476, 905, 321, 506, 321, 386, 905, 1480, 1271, 166, 1221, 893, 905, 655, 1271, 307, 1212, 252, 357, 1025, 1391, 255, 1271, 1410, 207, 506, 321, 1441, 159, 1408, 244, 1497, 32, 1497, 32, 431, 179, 1347, 1376, 53, 457, 614, 1383, 1535, 996, 913, 291, 727, 307, 1497, 1318, 1415, 1271, 750, 635, 321, 905, 747, 1271, 1525, 1173, 191, 883, 905, 311, 1271, 614, 770, 287, 1244, 905, 1188, 866, 307, 1273, 244, 321, 1271, 307, 364, 1352, 872, 905, 1530, 883, 415, 563, 1215, 244, 930, 1271, 1184, 254, 321, 1271, 307, 604, 900, 423, 244, 364, 126, 159, 172, 1347, 1376, 60, 374, 953, 51, 1271, 898, 1432, 1221, 121, 364, 1352, 1483, 951, 1281, 36, 60, 563, 1293, 727, 620, 431, 51, 1499, 521, 1128, 36, 1347, 1376, 60, 287, 805, 1184, 521, 591, 953, 434, 40, 889, 1156, 1384, 1033, 1467, 306, 159, 646, 463, 1286, 161, 1521, 1221, 905, 776, 1271, 307, 712, 118, 364, 163, 307, 1056, 244, 746, 1271, 307, 872, 1296, 36, 1391, 431, 51, 613, 36, 1158, 727, 192, 244, 159, 1130, 255, 640, 1391, 374, 1271, 307, 60, 244, 1347, 1376, 905, 613, 1243, 306, 166, 650, 1170, 1345, 36, 636, 307, 1391, 1079, 244, 1319, 364, 1352, 872, 1460, 905, 1530, 727, 807, 244, 30, 512, 36, 307, 364, 1352, 872, 805, 386, 191, 318, 431, 790, 1235, 307, 872, 36, 515, 307, 1497, 1149, 866, 905, 924, 1170, 1001, 614, 770, 913, 307, 478, 244, 291, 1130, 1391, 905, 1402, 1210, 1170, 60, 244, 1347, 1376, 1521, 536, 80, 282, 307, 374, 1244, 905, 324, 36, 434, 1280, 343, 546, 1521, 1234, 951, 1271, 898, 307, 936, 489, 905, 715, 36, 51, 462, 1271, 307, 1056, 1271, 307, 580, 244, 307, 1252, 163, 1491, 424, 905, 159, 313, 417, 727, 953, 51, 572, 496, 1271, 1234, 364, 1352, 1285, 1491, 424, 1194, 705, 306, 307, 1469, 244, 307, 1352, 727, 307, 1272, 244, 290, 1170, 174, 755, 244, 475, 249, 244, 1100, 968, 1041, 1352, 1170, 159, 364, 1352, 244, 1043, 526, 137, 255, 1115, 968, 1170, 159, 493, 1352, 335, 36, 55, 1328, 905, 1392, 727, 267, 1196, 1382, 254, 1156, 431, 828, 866, 905, 1412, 1170, 307, 534, 244, 307, 364, 1352, 1382, 1438, 694, 1328, 905, 1392, 36, 1091, 1491, 1293, 910, 1438, 1491, 486, 727, 715, 1393, 1491, 864, 1173, 255, 985, 118, 1262, 521, 1238, 222, 910, 1491, 1271, 307, 291, 1382, 727, 1022, 1173, 1285, 905, 837, 1271, 1347, 1376, 60, 1110, 307, 1352, 585, 1491, 1271, 1430, 244, 657, 940, 1319, 812, 1357, 258, 727, 1089, 427, 905, 222, 93, 324, 1271, 429, 9, 961, 1476, 1090, 727, 236, 805, 386, 979, 36, 307, 373, 1305, 306, 307, 540, 244, 445, 905, 1402, 1382, 1170, 1211, 1083, 244, 582, 303, 951, 146, 1080, 36, 307, 44, 1300, 676, 1103, 1521, 219, 118, 809, 905, 159, 1434, 1211, 727, 287, 1271, 805, 1330, 1083, 244, 582, 224, 1160, 291, 255, 1141, 386, 159, 172, 1476, 813, 699, 291, 1008, 51, 1325, 1244, 905, 1392, 866, 1521, 1071, 1512, 14, 36, 428, 1252, 866, 1071, 428, 1319, 1338, 248, 782, 688, 98, 1234, 375, 180, 431, 51, 1222, 562, 307, 1305, 1065, 1491, 424, 397, 940, 307, 1156, 689, 974, 972, 905, 93, 324, 1071, 431, 222, 62, 1126, 678, 1338, 521, 1077, 867, 1126, 1418, 987, 1170, 917, 925, 951, 577, 1271, 529, 358, 1197, 678, 1338, 1170, 532, 135, 532, 244, 933, 244, 1488, 1246, 1244, 905, 1029, 36, 379, 159, 517, 940, 370, 1198, 255, 117, 244, 1019, 732, 244, 364, 1156, 822, 29, 36, 793, 190, 1286, 1170, 696, 254, 1114, 1250, 727, 779, 254, 876, 1250, 905, 891, 244, 159, 299, 521, 1367, 1301, 307, 550, 686, 1170, 1300, 532, 1170, 1367, 905, 1271, 307, 190, 1101, 1271, 1347, 293, 291, 307, 494, 951, 775, 727, 696, 876, 1250, 727, 779, 834, 1250, 951, 891, 244, 1367, 1347, 154, 431, 51, 613, 1521, 1063, 1347, 922, 905, 777, 36, 829, 940, 725, 1347, 525, 727, 506, 1440, 300, 1271, 307, 429, 9, 1476, 721, 684, 386, 267, 1077, 1300, 1241, 1361, 1170, 1367, 266, 533, 844, 117, 244, 1156, 721, 1271, 1347, 953, 1176, 1347, 63, 525, 793, 727, 266, 533, 844, 117, 429, 9, 1156, 953, 1176, 159, 1347, 525, 1231, 1271, 907, 36, 852, 182, 244, 532, 159, 1289, 244, 1300, 532, 768, 953, 51, 613, 36, 1424, 267, 25, 1379, 244, 403, 1305, 1252, 1352, 258, 1252, 1352, 258, 905, 310, 36, 307, 507, 1420, 205, 727, 603, 244, 307, 1264, 1352, 727, 905, 267, 1382, 254, 1450, 50, 521, 733, 431, 1176, 234, 970, 603, 1318, 1170, 307, 1156, 727, 982, 466, 1079, 36, 307, 885, 1179, 615, 1170, 307, 1270, 874, 1103, 244, 307, 1264, 1352, 951, 1070, 1133, 159, 1273, 244, 874, 870, 521, 756, 1293, 1240, 244, 267, 245, 872, 267, 1489, 489, 267, 436, 297, 1414, 255, 1321, 647, 244, 189, 523, 1249, 307, 1252, 163, 244, 1023, 1033, 1286, 813, 1023, 1033, 1301, 905, 1016, 521, 159, 147, 925, 244, 874, 917, 307, 757, 244, 189, 1103, 306, 1264, 1352, 205, 727, 507, 6, 712, 524, 307, 519, 9, 1145, 1067, 1271, 877, 244, 874, 1103, 135, 307, 165, 244, 1098, 575, 727, 316, 633, 886, 386, 307, 744, 244, 460, 1170, 1120, 1054, 168, 727, 307, 499, 244, 1234, 343, 1237, 244, 330, 1488, 1232, 1271, 307, 366, 364, 163, 872, 306, 1345, 974, 307, 1007, 443, 371, 244, 1212, 252, 357, 1025, 1391, 306, 307, 925, 244, 1347, 1376, 350, 244, 1459, 88, 255, 307, 1362, 1273, 244, 1212, 1391, 1401, 307, 110, 1223, 1016, 521, 1413, 316, 1149, 727, 1069, 1237, 306, 1491, 1293, 267, 330, 359, 244, 307, 375, 1170, 1502, 406, 36, 593, 294, 727, 205, 1271, 307, 1252, 163, 307, 574, 244, 533, 1177, 1279, 17, 727, 1287, 1150, 1170, 1187, 609, 159, 1323, 689, 244, 745, 843, 308, 883, 953, 1422, 1170, 307, 1421, 258, 727, 476, 244, 213, 874, 1103, 1468, 244, 307, 324, 1163, 871, 307, 1264, 363, 905, 307, 574, 543, 727, 1453, 527, 244, 102, 210, 569, 244, 1175, 230, 1170, 476, 244, 307, 874, 1103, 727, 1197, 1103, 244, 307, 1264, 1352, 307, 1252, 163, 1170, 159, 1264, 1352, 905, 1535, 1023, 36, 1258, 1255, 528, 813, 1258, 36, 1023, 1255, 700, 307, 769, 1252, 905, 36, 155, 307, 324, 683, 1497, 727, 926, 1090, 91, 1271, 1345, 478, 268, 1244, 116, 159, 1290, 540, 1271, 307, 304, 623, 244, 307, 1352, 1535, 1468, 9, 36, 307, 857, 307, 956, 1271, 883, 189, 1090, 916, 727, 317, 511, 951, 819, 951, 244, 1167, 774, 386, 511, 951, 850, 1470, 36, 9, 990, 1035, 727, 1081, 700, 1103, 727, 685, 990, 866, 431, 674, 250, 820, 1252, 1352, 1084, 727, 258, 1176, 673, 239, 994, 1271, 307, 1072, 727, 861, 85, 1271, 1145, 1074, 612, 244, 307, 151, 244, 1069, 774, 1271, 307, 507, 727, 205, 244, 1156, 307, 299, 866, 782, 1072, 319, 951, 871, 905, 1527, 198, 36, 753, 941, 1156, 244, 472, 507, 1040, 1271, 1468, 898, 36, 346, 307, 1072, 619, 36, 790, 72, 36, 470, 1345, 1308, 612, 244, 1345, 1381, 1071, 1176, 613, 1113, 1368, 244, 1345, 652, 478, 268, 727, 26, 36, 106, 307, 1371, 1522, 866, 367, 1271, 307, 1097, 1252, 1352, 1345, 1370, 585, 1118, 72, 159, 130, 877, 244, 307, 591, 1042, 1133, 189, 1156, 46, 585, 222, 101, 36, 1126, 771, 1271, 627, 502, 166, 469, 367, 1186, 307, 1497, 727, 205, 591, 866, 916, 521, 1104, 507, 1507, 848, 1068, 388, 1031, 848, 1068, 105, 1094, 727, 1155, 714, 727, 521, 307, 1453, 749, 1016, 521, 189, 419, 1060, 307, 1228, 244, 205, 591, 963, 307, 1252, 163, 905, 1349, 159, 234, 352, 1423, 1170, 1017, 685, 990, 799, 1493, 1436, 1271, 1077, 1453, 749, 1473, 418, 222, 492, 1271, 1347, 1227, 749, 223, 1482, 244, 1347, 288, 1535, 147, 874, 1337, 159, 435, 244, 1200, 1518, 244, 1347, 1170, 307, 9, 1473, 1252, 77, 146, 492, 1271, 307, 435, 244, 117, 36, 1398, 1518, 244, 147, 1347, 340, 503, 848, 1068, 1082, 883, 1008, 23, 1229, 36, 200, 1518, 244, 1458, 1347, 395, 1244, 905, 620, 928, 36, 1236, 926, 504, 36, 1157, 307, 1205, 244, 307, 1352, 53, 1345, 1252, 1192, 1400, 1317, 205, 591, 727, 322, 507, 820, 1170, 307, 391, 244, 307, 284, 9, 1071, 887, 831, 521, 159, 902, 244, 307, 1485, 244, 307, 1252, 1352, 727, 307, 1276, 866, 1394, 1345, 163, 521, 307, 265, 244, 181, 926, 504, 1244, 905, 1020, 224, 576, 866, 364, 126, 1293, 1333, 516, 386, 291, 107, 364, 126, 1293, 431, 997, 1535, 1258, 244, 689, 1469, 137, 1271, 307, 784, 1216, 1033, 244, 307, 364, 163, 36, 834, 137, 1271, 307, 876, 36, 117, 568, 163, 1160, 291, 1345, 214, 997, 1271, 1333, 551, 36, 916, 93, 1536, 1271, 307, 1252, 163, 307, 997, 1271, 528, 1333, 585, 1529, 444, 1119, 36, 307, 587, 194, 244, 307, 197, 1472, 1173, 227, 424, 727, 1465, 316, 342, 365, 1203, 905, 266, 1220, 866, 929, 727, 1197, 683, 523, 1176, 307, 385, 324, 707, 306, 1345, 959, 159, 901, 244, 858, 1018, 1090, 916, 1271, 307, 1252, 1352, 866, 145, 657, 663, 835, 307, 1536, 1104, 1207, 244, 307, 197, 727, 307, 574, 244, 307, 653, 479, 1225, 307, 873, 244, 11, 244, 1347, 1460, 951, 1259, 189, 1090, 639, 1045, 1214, 866, 307, 486, 1207, 1170, 1116, 727, 1462, 194, 1271, 307, 94, 1023, 1255, 244, 632, 951, 1526, 1085, 244, 1297, 525, 727, 1023, 36, 1058, 821, 244, 1096, 1488, 307, 1449, 244, 545, 451, 1531, 854, 1271, 307, 1252, 163, 813, 291, 727, 866, 244, 932, 103, 1536, 822, 307, 1307, 244, 632, 727, 307, 873, 244, 9, 1449, 244, 545, 1343, 883, 905, 506, 1271, 632, 1536, 1315, 940, 291, 727, 1203, 905, 159, 1122, 692, 1271, 68, 727, 1153, 1271, 307, 1254, 163, 189, 929, 1090, 715, 1078, 349, 36, 307, 1242, 1271, 1333, 46, 222, 691, 307, 1497, 1090, 866, 66, 1521, 715, 201, 307, 238, 244, 689, 63, 1294, 1535, 104, 879, 1045, 1436, 1535, 1345, 238, 244, 1268, 1071, 1217, 267, 852, 1271, 1449, 244, 545, 1299, 785, 1054, 58, 696, 883, 1448, 589, 1271, 307, 528, 1252, 163, 46, 1536, 1271, 307, 94, 1023, 568, 244, 632, 159, 868, 244, 1345, 852, 1271, 696, 905, 923, 727, 905, 337, 929, 60, 1400, 1402, 868, 905, 307, 492, 244, 267, 1488, 513, 443, 1488, 1246, 255, 1367, 353, 848, 1068, 931, 879, 1045, 995, 727, 912, 1082, 307, 986, 244, 307, 1367, 528, 620, 551, 36, 51, 159, 783, 866, 431, 51, 497, 53, 926, 258, 635, 307, 1367, 727, 1436, 852, 1271, 545, 696, 1521, 738, 506, 108, 36, 307, 574, 244, 1054, 168, 883, 1428, 905, 159, 1296, 1423, 36, 1197, 205, 591, 1271, 307, 700, 163, 879, 1045, 995, 727, 912, 1082, 1244, 905, 715, 538, 1170, 159, 506, 269, 1352, 1271, 307, 784, 596, 568, 1271, 1347, 684, 36, 199, 407, 526, 244, 1355, 244, 883, 533, 844, 1034, 905, 1271, 307, 1416, 244, 233, 1009, 792, 1234, 422, 591, 36, 307, 1352, 1521, 307, 872, 905, 224, 1277, 365, 1345, 1371, 872, 420, 1133, 159, 1438, 1352, 431, 566, 159, 347, 485, 1149, 307, 234, 1025, 1271, 316, 839, 822, 189, 1258, 1182, 244, 9, 431, 171, 307, 775, 426, 36, 307, 1371, 872, 963, 307, 364, 163, 1156, 786, 199, 159, 872, 866, 905, 1511, 27, 244, 930, 727, 1133, 1425, 905, 533, 220, 844, 307, 682, 244, 872, 86, 1271, 9, 1345, 1106, 1088, 316, 839, 1271, 1258, 1484, 784, 307, 316, 1256, 905, 823, 36, 159, 872, 866, 905, 725, 1271, 65, 791, 362, 963, 307, 364, 163, 162, 1170, 159, 1019, 410, 244, 1102, 314, 727, 159, 725, 410, 244, 578, 314, 386, 307, 578, 314, 222, 69, 411, 453, 1527, 997, 905, 228, 1133, 159, 997, 1271, 307, 314, 866, 724, 411, 453, 1026, 1060, 1521, 307, 463, 905, 477, 1147, 940, 291, 307, 1199, 244, 307, 316, 1256, 36, 662, 1369, 307, 1326, 453, 35, 1170, 610, 316, 1149, 905, 940, 159, 713, 940, 307, 873, 244, 9, 307, 1369, 269, 314, 852, 1271, 114, 1536, 386, 307, 1272, 244, 362, 1271, 307, 872, 103, 46, 307, 263, 314, 437, 533, 841, 1023, 36, 1114, 1255, 620, 307, 456, 244, 1369, 761, 1271, 307, 316, 905, 506, 521, 1341, 1090, 1535, 506, 36, 725, 399, 1483, 991, 1244, 905, 159, 1405, 959, 866, 386, 1333, 103, 427, 244, 1205, 1535, 307, 316, 103, 386, 224, 699, 291, 1386, 1333, 905, 404, 725, 427, 244, 1205, 905, 433, 162, 1170, 277, 90, 244, 1010, 727, 453, 761, 1271, 307, 316, 1521, 1212, 362, 103, 1147, 940, 291, 521, 506, 83, 244, 537, 791, 307, 1272, 244, 401, 402, 712, 900, 307, 1199, 244, 307, 316, 36, 590, 1346, 621, 36, 1344, 1360, 244, 401, 1271, 307, 316, 1345, 946, 915, 36, 307, 959, 1405, 386, 1413, 316, 1149, 556, 727, 108, 36, 888, 1333, 727, 1491, 1419, 386, 224, 386, 1312, 1271, 307, 429, 700, 163, 307, 1522, 305, 149, 66, 307, 1228, 244, 205, 591, 963, 307, 1252, 163, 307, 1326, 1497, 591, 602, 913, 1023, 1326, 988, 1275, 1437, 36, 1488, 663, 1054, 168, 938, 1413, 727, 610, 485, 1149, 1275, 1437, 36, 563, 663, 1347, 1376, 1081, 122, 119, 247, 727, 591, 1437, 36, 307, 675, 498, 1309, 911, 1523, 483, 2, 1271, 1345, 1189, 975, 1071, 802, 307, 798, 866, 1156, 866, 951, 195, 913, 7, 951, 940, 330, 456, 244, 1252, 1103, 1404, 1225, 1523, 1081, 938, 259, 1309, 1116, 187, 122, 255, 754, 1466, 1071, 222, 1037, 866, 307, 983, 822, 47, 727, 1404, 1378, 51, 781, 53, 888, 936, 478, 1071, 1431, 1201, 1156, 940, 1146, 1255, 1160, 1527, 1253, 291, 416, 306, 1100, 1190, 193, 650, 1271, 307, 849, 772, 788, 1140, 643, 441, 1156, 257, 302, 332, 824, 159, 226, 244, 358, 36, 1058, 47, 406, 971, 458, 121, 306, 832, 897, 1478, 386, 195, 1258, 832, 897, 1478, 1023, 255, 358, 178, 1114, 255, 382, 1258, 832, 897, 1478, 1258, 47, 406, 971, 38, 386, 358, 47, 940, 7, 382, 255, 195, 1258, 47, 1476, 387, 382, 382, 306, 1319, 554, 789, 195, 195, 306, 1319, 554, 727, 1197, 477, 1535, 382, 36, 195, 255, 1490, 196, 727, 1023, 262, 244, 1033, 195, 963, 307, 364, 163, 689, 974, 1478, 257, 204, 940, 7, 727, 940, 291, 727, 1399, 613, 36, 778, 660, 1271, 689, 974, 1170, 1486, 1352, 159, 34, 244, 1156, 1024, 1138, 971, 1181, 1170, 936, 478, 381, 159, 875, 963, 307, 364, 163, 1319, 1156, 257, 1181, 1170, 259, 970, 1005, 804, 1250, 727, 1523, 970, 628, 908, 1514, 708, 1304, 1388, 223, 1023, 36, 1114, 568, 822, 568, 1023, 727, 216, 699, 291, 1071, 795, 502, 306, 1287, 244, 1309, 1116, 187, 122, 727, 754, 1466, 963, 307, 784, 216, 568, 699, 291, 1352, 148, 727, 1347, 874, 1271, 307, 1342, 9, 1535, 1305, 881, 1071, 438, 159, 1051, 783, 1404, 1234, 244, 259, 1523, 1309, 1116, 187, 122, 255, 754, 1466, 36, 467, 822, 1464, 1156, 727, 1156, 866, 372, 1404, 47, 940, 7, 971, 1016, 521, 307, 1228, 244, 1523, 727, 1404, 46, 715, 521, 259, 1156, 866, 257, 789, 195, 727, 1156, 866, 1219, 267, 330, 262, 244, 1033, 195, 963, 307, 364, 163, 1219, 701, 1228, 244, 1523, 727, 1404, 47, 971, 222, 1016, 521, 888, 936, 478, 883, 1271, 544, 971, 1016, 521, 330, 344, 244, 259, 727, 1404, 46, 715, 521, 1523, 47, 971, 715, 1016, 521, 660, 1271, 689, 974, 365, 1156, 866, 288, 689, 974, 178, 963, 307, 364, 163, 1219, 330, 452, 244, 181, 259, 1523, 727, 1404, 660, 1271, 689, 974, 971, 1519, 1016, 521, 689, 974, 178, 940, 7, 189, 285, 449, 866, 253, 822, 47, 727, 1404, 905, 448, 781, 53, 888, 936, 478, 385, 244, 1280, 905, 1046, 36, 827, 944, 1420, 905, 1437, 36, 490, 822, 1497, 1275, 727, 456, 1170, 984, 952, 202, 1497, 591, 866, 250, 429, 700, 1156, 805, 386, 1309, 1116, 187, 1347, 1376, 938, 727, 754, 1466, 951, 1292, 36, 6, 307, 163, 244, 443, 1488, 1246, 727, 301, 1444, 244, 851, 709, 33, 244, 307, 1488, 3, 244, 307, 872, 528, 585, 444, 560, 36, 250, 364, 126, 1293, 1136, 848, 1068, 718, 727, 700, 586, 990, 1156, 677, 506, 537, 1488, 1483, 528, 1176, 573, 1488, 1246, 888, 1360, 244, 545, 323, 1054, 58, 727, 1005, 727, 888, 862, 935, 1271, 307, 275, 1520, 275, 1159, 429, 700, 585, 444, 1470, 521, 267, 1248, 1271, 307, 700, 1336, 163, 1109, 848, 1068, 1229, 727, 888, 685, 990, 1271, 493, 1264, 1156, 208, 848, 1068, 1229, 1244, 905, 1281, 36, 914, 764, 307, 443, 1237, 244, 862, 935, 1271, 307, 275, 1520, 306, 700, 1444, 244, 851, 709, 905, 622, 255, 630, 159, 1425, 244, 443, 1488, 1246, 81, 1483, 866, 405, 307, 456, 1170, 275, 1159, 727, 938, 951, 1253, 36, 593, 700, 1488, 1246, 727, 1444, 244, 1132, 283, 848, 1068, 714, 677, 1131, 229, 727, 423, 670, 579, 1156, 1468, 244, 29, 1483, 866, 973, 244, 159, 325, 398, 465, 872, 143, 940, 1335, 568, 528, 159, 506, 289, 465, 872, 143, 940, 1335, 568, 528, 159, 325, 289, 465, 872, 123, 804, 37, 244, 760, 143, 940, 1335, 568, 528, 159, 506, 289, 465, 872, 123, 804, 37, 244, 760, 143, 940, 1335, 568, 528, 727, 159, 325, 289, 465, 872, 143, 940, 1335, 568, 528, 123, 760, 143, 940, 834, 568, 700, 276, 257, 218, 963, 307, 784, 1291, 1033, 244, 9, 936, 159, 506, 138, 465, 872, 528, 330, 364, 126, 727, 1488, 1293, 883, 573, 1488, 1246, 244, 1156, 334, 307, 1252, 163, 545, 211, 1360, 948, 36, 51, 701, 727, 323, 1054, 58, 727, 1005, 1360, 257, 849, 1170, 1156, 677, 307, 506, 289, 465, 872, 612, 244, 307, 970, 757, 306, 1475, 663, 1483, 506, 1271, 289, 791, 330, 1360, 244, 168, 360, 727, 888, 1360, 244, 275, 862, 307, 970, 757, 244, 506, 537, 1488, 1483, 677, 528, 951, 1253, 36, 405, 307, 925, 244, 1081, 938, 727, 275, 1159, 883, 665, 1176, 970, 757, 306, 700, 1420, 1249, 1483, 506, 1271, 289, 791, 593, 1488, 406, 244, 1252, 1156, 1240, 244, 1196, 328, 244, 1166, 1086, 241, 905, 324, 36, 780, 316, 1066, 125, 177, 1271, 307, 476, 244, 4, 244, 1466, 1156, 866, 1380, 4, 244, 1466, 1176, 984, 700, 378, 28, 727, 1057, 718, 883, 665, 997, 685, 1148, 1483, 521, 159, 1096, 1488, 1170, 9, 277, 844, 892, 514, 257, 1016, 521, 330, 456, 1170, 4, 244, 1466, 339, 848, 1068, 1060, 1012, 57, 710, 905, 393, 1170, 307, 399, 249, 244, 364, 1156, 36, 780, 1196, 316, 205, 727, 405, 307, 925, 244, 4, 244, 1466, 385, 528, 1483, 728, 822, 214, 36, 1291, 241, 727, 33, 244, 307, 399, 3, 244, 307, 463, 953, 51, 539, 36, 1503, 307, 641, 244, 307, 594, 1300, 1271, 650, 521, 729, 1438, 1352, 1516, 925, 244, 4, 244, 1466, 905, 1142, 1258, 244, 307, 942, 1156, 291, 1041, 1324, 727, 189, 1184, 431, 1491, 528, 1483, 521, 1039, 844, 152, 241, 620, 701, 1488, 1483, 963, 1345, 478, 1156, 1052, 329, 111, 683, 1163, 159, 442, 1271, 364, 126, 1293, 267, 852, 1271, 756, 1207, 818, 727, 855, 1013, 727, 500, 421, 913, 291, 1521, 1071, 92, 762, 307, 442, 1271, 1293, 727, 307, 852, 1271, 756, 641, 307, 111, 443, 757, 951, 1113, 1137, 524, 159, 443, 1488, 1246, 612, 511, 951, 824, 533, 1206, 844, 1280, 511, 951, 280, 727, 181, 1497, 1103, 805, 386, 938, 727, 1054, 168, 549, 1498, 939, 993, 1204, 1376, 938, 508, 1495, 16, 1496, 1319, 369, 1016, 549, 1498, 939, 993, 1204, 1376, 938, 508, 1495, 16, 1496, 1319, 369, 1016, 549, 1498, 939, 993, 1204, 1376, 938, 508, 1495, 16, 1496, 1319, 369, 1016, 549, 1498, 939, 993, 1204, 1376, 938, 508, 1495, 16, 1496, 1319, 369, 1016, 549, 1498, 939, 993, 1204, 1376, 938, 508, 1495, 16, 1496, 1319, 369, 1016, 549, 1498, 939, 993, 1204, 1376, 938, 508, 1495, 16, 1496, 1319, 369, 1016, 549, 1498, 939, 993, 1204, 1376, 938, 508, 1495, 16, 1496, 1319, 369, 1016, 549, 1498, 939, 993, 1204, 1376, 938, 508, 1495, 16, 1496, 1319, 369, 1016, 549, 1498, 939, 993, 1204, 1376, 938, 508, 1495, 16, 1496, 1319, 369, 1016, 549, 1498, 939, 993, 1204, 1376, 938, 508, 1495, 16, 1496, 1319, 369, 1016, 2, 938, 2, 938, 2, 938, 2, 938, 2, 938, 2, 938, 2, 938, 2, 938, 2, 938, 2, 938]]\n",
      "\n",
      "train_labels:  [[7, 7, 7, 7, 7, 7, 7, 7, 7, 7, 7]]\n"
     ]
    }
   ],
   "source": [
    "def createMatrices(line, tag, word2Idx, label2Idx):\n",
    "    sentences = []\n",
    "    labels = []\n",
    "    \n",
    "    wordIndices = []\n",
    "    labelIndices = []\n",
    "    \n",
    "    # for the sentences\n",
    "    for sents in line:\n",
    "        for sent in sents:\n",
    "            for word in sent:\n",
    "                # if is in the vocabulary\n",
    "                if word in word2Idx:\n",
    "                    wordIdx = word2Idx[word]\n",
    "                # if the lower case version is in the vocabulary\n",
    "                elif word.lower() in word2Idx:\n",
    "                    wordIdx = word2Idx[word.lower()]\n",
    "                # if not, assign to the unknown token \n",
    "                else:                \n",
    "                    wordIdx = word2Idx['UNKNOWN_TOKEN']\n",
    "                # assign to the corrsponding index\n",
    "                wordIndices.append(wordIdx)\n",
    "                \n",
    "                \n",
    "    # for the labels\n",
    "    for sents in tag:\n",
    "        for sent in sents:\n",
    "            for word in sent:\n",
    "                # if is in the vocabulary\n",
    "                if word in word2Idx:\n",
    "                    # fixing a bug of '' \n",
    "                    if label != '':\n",
    "                        labelIndices.append(label2Idx[label])\n",
    "    \n",
    "\n",
    "                \n",
    "    # append the index to sentences\n",
    "    sentences.append(wordIndices)\n",
    "    labels.append(labelIndices)\n",
    "    return sentences, labels\n",
    "\n",
    "train_sentences, train_labels = createMatrices(sentences, tags, word2Idx, label2Idx)\n",
    "\n",
    "# print to check \n",
    "print(\"train_sentences: \", train_sentences[0:1])\n",
    "print()\n",
    "print(\"train_labels: \", train_labels[0:1])"
   ]
  },
  {
   "cell_type": "markdown",
   "id": "aeb71f70",
   "metadata": {},
   "source": [
    "### why don't just use the previous code "
   ]
  },
  {
   "cell_type": "markdown",
   "id": "574c3795",
   "metadata": {},
   "source": [
    "# 3.2, Try change the elements in sentences by tags: The indexing method "
   ]
  },
  {
   "cell_type": "code",
   "execution_count": 47,
   "id": "466d34bb",
   "metadata": {},
   "outputs": [],
   "source": [
    "### extracting the entities and tags\n",
    "\n",
    "import os \n",
    "from keras.preprocessing.sequence import pad_sequences\n",
    "\n",
    "\n",
    "def split_text_label(filename):\n",
    "    '''\n",
    "    Reads a file named filename, extracts the text and the labels and stores\n",
    "    them in an array.\n",
    "     \n",
    "    returns [ ['EU', 'B-ORG'], ['rejects', 'O'], ['German', 'B-MISC'], ['call', 'O'], ['to', 'O'], ['boycott', 'O'], ['British', 'B-MISC'], ['lamb', 'O'], ['.', 'O'] ] \n",
    "    '''\n",
    "    \n",
    "    # open file\n",
    "    f = open(filename)\n",
    "    \n",
    "    # initializing\n",
    "    split_labeled_text = []\n",
    "    sentence = []\n",
    "    \n",
    "    # processing line by line \n",
    "    for line in f:\n",
    "        if len(line)==0 or line.startswith('-DOCSTART') or line[0]==\"\\t\":\n",
    "            if len(sentence) > 0:\n",
    "                split_labeled_text.append(sentence)\n",
    "                sentence = []\n",
    "            continue\n",
    "        \n",
    "        # split by tab\n",
    "        splits = line.split('\t')\n",
    "        # rstrip: strip from the right \n",
    "        sentence.append([splits[0],splits[-1].rstrip(\"\\n\")])\n",
    "        \n",
    "        \n",
    "    if len(sentence) > 0:\n",
    "        split_labeled_text.append(sentence)\n",
    "        sentence = []\n",
    "    return split_labeled_text\n",
    "\n",
    "# change training set \n",
    "split_train = split_text_label(os.path.join(\"train_10_25.txt\"))\n",
    "split_valid = split_text_label(os.path.join(\"valid_10_25.txt\"))\n",
    "split_test = split_text_label(os.path.join(\"test_10_25.txt\"))"
   ]
  },
  {
   "cell_type": "code",
   "execution_count": 48,
   "id": "ff060454",
   "metadata": {},
   "outputs": [
    {
     "name": "stdout",
     "output_type": "stream",
     "text": [
      "\n",
      "labelSet:  7\n",
      "labelSet:  {'B-DIS', 'B-PER', 'O', 'I-PER', 'B-NUT', 'I-DIS', 'I-NUT'}\n",
      "\n",
      "wordSet:  2012\n"
     ]
    }
   ],
   "source": [
    "### use labelSet() as label dictionary \n",
    "### use wordSet() as word dictionary \n",
    "\n",
    "labelSet = set()\n",
    "wordSet = set()\n",
    "# words and labels\n",
    "for data in [split_train, split_valid, split_test]:\n",
    "    for labeled_text in data:\n",
    "        for word, label in labeled_text:\n",
    "            \n",
    "            # modifying unwanted mistag\n",
    "            if label == 'i-NUT':\n",
    "                label = 'I-NUT'\n",
    "            if label == '':\n",
    "                label = 'O'\n",
    "            \n",
    "            \n",
    "            labelSet.add(label)\n",
    "            wordSet.add(word.lower())\n",
    "            \n",
    "\n",
    "\n",
    "# modifying the label set \n",
    "print()\n",
    "#empty = labelSet.pop()\n",
    "#labelSet.remove('')\n",
    "#labelSet.remove('BI-DIS')\n",
    "#labelSet.remove('i-NUT')\n",
    "\n",
    "# check for the len \n",
    "print(\"labelSet: \", len(labelSet))\n",
    "print(\"labelSet: \", labelSet)\n",
    "print()\n",
    "print(\"wordSet: \", len(wordSet))"
   ]
  },
  {
   "cell_type": "code",
   "execution_count": 49,
   "id": "ce663355",
   "metadata": {},
   "outputs": [
    {
     "name": "stdout",
     "output_type": "stream",
     "text": [
      "idx2Label:  7\n",
      "idx2Label:  {0: 'O', 1: 'B-DIS', 2: 'B-PER', 3: 'I-PER', 4: 'B-NUT', 5: 'I-DIS', 6: 'I-NUT'}\n",
      "\n",
      "word2Idx:  2014\n",
      "word2Idx:  {'PADDING_TOKEN': 0, 'UNKNOWN_TOKEN': 1, 'content': 2, 'displacement': 3, 'urea': 4, 'extend': 5, 'dryoff': 6, 'ufl': 7, '\\n': 8, 'lactation': 9, 'libitum': 10, 'vs': 11, 'maternal': 12, 'overall': 13, 'synthesis': 14, 'articles': 15, 'reduces': 16, 'my': 17, 'supplying': 18, 'want': 19, 'head': 20, 'abomasums ': 21, 'seeing': 22, 'criteria': 23, 'explained': 24, 'prolonged': 25, 'effectiveness': 26, 'respectively': 27, 'step': 28, 'those': 29, 'accrued': 30, 'represent': 31, 'diameter': 32, 'accurate': 33, 'tried': 34, 'composed': 35, 'raizman': 36, 'five': 37, 'anionic': 38, 'culling': 39, 'curve': 40, 'alkalosis': 41, '34': 42, 'recognize': 43, 'halt': 44, 'manipulation': 45, 'subsample': 46, 'responsible': 47, 'to': 48, 'gd': 49, 'summarized': 50, 'recommended': 51, 'ideally': 52, 'dynamics': 53, 'andor': 54, 'keeping': 55, 'calculated': 56, 'adult': 57, 'personnel': 58, 'schultz': 59, 'but': 60, 'lameness': 61, 'others': 62, 'aspects': 63, 'perform': 64, 'engagement': 65, 'be': 66, 'gestating': 67, 'confirm': 68, 'through': 69, 'c': 70, 'clean': 71, 'severity': 72, 'may': 73, 'scientific': 74, 'acids': 75, 'moves': 76, 'control': 77, 'parasites': 78, 'marcos': 79, 'monitor': 80, 'fat': 81, 'valacta': 82, 'nonfiber': 83, 'favor': 84, '146': 85, 'f': 86, 'estrogens': 87, 'generate': 88, 'planning': 89, 'thin': 90, 'secretion': 91, 'us': 92, 'reestablishment': 93, 'veterinarian': 94, 'mitigate': 95, 'feeder': 96, 'yielding': 97, 'periods': 98, 'overcrowding': 99, 'retrospective': 100, 'northern': 101, 'general': 102, 'correctly': 103, 'nevertheless': 104, 'overconditioned': 105, 'levels': 106, 'acquired': 107, 'literature': 108, 'offered': 109, '28': 110, 'presented': 111, 'rates': 112, 'published': 113, 'believed': 114, 'predisposes': 115, 'ph': 116, 'cornell': 117, 'conducted': 118, 'absorbed': 119, 'midlactation': 120, 'extent': 121, 'occurring': 122, 'think': 123, 'statusoriented': 124, 'very': 125, 'last': 126, 'experimental': 127, 'vaccinated': 128, 'defined': 129, 'formulating': 130, 'so': 131, 'correct': 132, 'forgotten': 133, 'alternative': 134, 'led': 135, 'practical': 136, 'increases': 137, 'rabiee': 138, 'adipocytes': 139, '1994': 140, 'simulate': 141, 'approaches': 142, 'contributes': 143, 'take': 144, 'inflammatory': 145, 'main': 146, 'mcnamara': 147, 'withdraw': 148, 'numbers': 149, 'conservative': 150, 'constitutes': 151, 'interval': 152, '10': 153, 'off': 154, 'udder': 155, 'modification': 156, 'quality': 157, 'based': 158, 'interdisciplinary': 159, 'hypocalcemia': 160, 'plus': 161, 'new': 162, 'thereby': 163, 'matter': 164, 'normal': 165, 'either': 166, 'complementary': 167, 'deeper': 168, 'two': 169, 'compromised': 170, 'wash': 171, 'nut': 172, 'include': 173, '535': 174, 'publications': 175, 'bw': 176, 'unfortunately': 177, 'nonfirbrous': 178, 'pdi': 179, 'lowquality': 180, 'guarantee': 181, 'teat': 182, 'combined': 183, 'beginning': 184, 'entire': 185, 'modifies': 186, 'often': 187, 'peak': 188, 'parity': 189, 'mass': 190, 'above': 191, 'aid': 192, 'suffer': 193, 'recognition': 194, '35': 195, 'long': 196, 'solids': 197, 'underscore': 198, '70': 199, 'occurs': 200, 'predispose': 201, 'relates': 202, 'documented': 203, '2010': 204, 'a': 205, 'recently': 206, 'even': 207, 'allowing': 208, 'period': 209, 'top': 210, 'emergence': 211, 'many': 212, 'season': 213, 'etiology': 214, 'liver': 215, 'trimester': 216, 'degree': 217, 'strong': 218, 'explain': 219, 'separate': 220, 'protocol': 221, 'food': 222, 'inadvertently': 223, 'deliveries': 224, 'helping': 225, 'score': 226, 'precipitate': 227, 'pitfalls': 228, 'developing': 229, 'peripheral': 230, 'reliability': 231, 'player': 232, 'bunk': 233, 'supplementing': 234, 'overconditioning': 235, 'membranes': 236, 'consult': 237, 'these': 238, 'days': 239, 'magnesium': 240, 'propionate': 241, 'operation': 242, 'securing': 243, 'freestall': 244, 'growth': 245, 'lame': 246, 'versa': 247, 'adaptation': 248, 'accumulate': 249, 'fetus': 250, 'ability': 251, 'things': 252, 'consume': 253, '4000': 254, 'prudent': 255, 'force': 256, '1993': 257, 'common': 258, '21': 259, 'coenzyme': 260, 'recorded': 261, 'health': 262, 'idea': 263, 'terms': 264, 'jorritsma': 265, 'difficulties': 266, 'integrated': 267, 'glucose': 268, 'out': 269, 'bovine': 270, '30': 271, 'possible': 272, '17': 273, 'points': 274, 'failure': 275, 'applied': 276, 'reared': 277, 'fibrous': 278, 'longterm': 279, 'also': 280, 'every': 281, 'well': 282, 'conclude': 283, 'scale': 284, 'abdominal': 285, 'unit': 286, 'accompanied': 287, 'multiparous': 288, 'deposited': 289, 'practice': 290, 'receiving': 291, 'challenge': 292, 'lipoproteins': 293, 'scarce': 294, 'potentially': 295, 'concentrates': 296, 'major': 297, 'fats': 298, 'dining': 299, 'stressors': 300, 'logically': 301, '2025g': 302, 'mobilization': 303, 'much': 304, 'mammogenesis': 305, 'p': 306, 'bunks': 307, 'ndf': 308, 'arises': 309, 'adverse': 310, 'relocations': 311, 'of': 312, 'inadequate': 313, 'stores': 314, 'questioned': 315, 'edema': 316, 'within': 317, 'requirements': 318, 'affect': 319, 'decent': 320, 'catabolic': 321, 'cation': 322, 'association': 323, 'concomitant': 324, 'where': 325, 'coordinated': 326, 'or': 327, 'push': 328, 'were': 329, 'management': 330, 'sck': 331, 'outcomes': 332, 'alibrahim': 333, 'lipase': 334, 'proportion': 335, 'lactateutilizing': 336, 'indicator': 337, 'experiencing': 338, 'goal': 339, 'no': 340, 'lacks': 341, 'pathophysiology': 342, 'an': 343, 'frame': 344, 'producing': 345, 'completed': 346, 'obese': 347, 'penn': 348, 'substances': 349, 'undesirable': 350, 'practices': 351, 'must': 352, 'approach': 353, 'hepatic': 354, 'treatments': 355, 'greater': 356, 'functions': 357, 'techniques': 358, 'protozoa': 359, 'milking': 360, 'consuming': 361, 'bolus': 362, 'whatever': 363, 'minor': 364, 'ensuing': 365, 'results': 366, 'natural': 367, 'thus': 368, 'buffers': 369, '1400': 370, 'lost': 371, 'focus': 372, 'nonfibrous': 373, 'competition': 374, 'remains': 375, '123': 376, 'calving': 377, 'argue': 378, 'variety': 379, 'post': 380, 'immunity': 381, 'you': 382, '400': 383, 'breeding': 384, 'standards': 385, 'problem': 386, 'ratios': 387, 'delay': 388, 'geishauser': 389, 'gaitscored': 390, 'who': 391, 'productive': 392, 'described': 393, 'on': 394, 'lipoprotein': 395, 'the': 396, 'exists': 397, 'round': 398, 'central': 399, 'needed': 400, 'overloaded': 401, 'attempts': 402, 'slippery': 403, 'huge': 404, 'bacteria': 405, 'pen': 406, 'rumen': 407, 'equivocally': 408, 'how': 409, 'drewry': 410, 'beede': 411, 'chloride': 412, 'proportionately': 413, 'scientists': 414, 'favors': 415, 'organisations': 416, 'potassium': 417, 'optimizing': 418, 'nonesterified': 419, 'important': 420, 'standard': 421, 'aim': 422, 'livers': 423, 'ucd': 424, 'amounts': 425, 'four': 426, 'increased': 427, 'compared': 428, 'weekly': 429, 'russell': 430, 'indicated': 431, 'older': 432, 'throughout': 433, 'access': 434, 'addressed': 435, 'under': 436, 'good': 437, 'cameron': 438, 'eg': 439, 'scc': 440, 'divided': 441, 'volume': 442, 'preventative': 443, 'source': 444, 'likelihood': 445, 'ireland': 446, 'conduct': 447, 'severe': 448, 'extract': 449, 'march': 450, 'contribute': 451, 'regardless': 452, 'uncommon': 453, 'complicating': 454, 'bertics': 455, 'rukkwamsuk': 456, 'nordlund': 457, 'component': 458, 'down': 459, 'quantity': 460, 'waterers': 461, 'desired': 462, 'release': 463, 'anion': 464, '38': 465, 'shaver': 466, '1': 467, 'contents': 468, 'awareness': 469, 'ask': 470, 'glycogen': 471, 'deposition': 472, 'your': 473, 'nfc': 474, 'studied': 475, 'industry': 476, 'dry': 477, 'however': 478, 'closeup': 479, 'exist': 480, 'require': 481, 'be ': 482, 'least': 483, 'influence': 484, 'developed': 485, 'home': 486, 'strategy': 487, 'adequately': 488, 'potential': 489, 'preventive': 490, '2020b': 491, 'almost': 492, '514': 493, 'insemination': 494, 'measure': 495, 'being': 496, 'once': 497, 'sound': 498, 'grum': 499, 'follows': 500, 'technician': 501, 'utilized': 502, 'becomes': 503, 'case': 504, 'synthesized': 505, 'break': 506, 'placentas': 507, 'most': 508, 'scope': 509, 'as': 510, 'always': 511, '1991': 512, 'speculation': 513, '515': 514, 'pre': 515, 'remainder': 516, 'considerable': 517, 'available': 518, 'delivered': 519, 'lactose': 520, 'yield': 521, 'availability': 522, 'looking': 523, 'version': 524, 'nonfibous': 525, 'fiber': 526, 'begins': 527, 'vfa': 528, 'produced': 529, 'individual': 530, 'relatively': 531, 'minimize': 532, '61': 533, 'assessing': 534, 'status': 535, '22': 536, 'impaired': 537, 'manage': 538, 'driven': 539, 'population': 540, 'lactic': 541, 'begin': 542, 'ratio': 543, 'satisfactory': 544, 'gkg': 545, 'requires': 546, 'date': 547, 'issue': 548, 'differently': 549, 'transitions': 550, 'acetoacetic': 551, 'background': 552, 'drackley': 553, 'markusfeld': 554, 'consumed': 555, 'especially': 556, 'particular': 557, '25': 558, 'space': 559, 'eight': 560, 'responses': 561, 'rate': 562, 'assess': 563, 'early': 564, 'extrapolated': 565, 'dividing': 566, 'can': 567, 'shunted': 568, 'output': 569, 'slow': 570, 'consider': 571, 'da': 572, 'loss': 573, 'inappropriate': 574, 'adapt': 575, 'created': 576, 'formulated': 577, '46': 578, 'ketotic': 579, 'regions': 580, 'grains': 581, 'canada': 582, 'drop': 583, 'negative': 584, 'continues': 585, 'been': 586, 'caving': 587, 'goodquality': 588, 'predominantly': 589, 'species': 590, 'predicted': 591, 'allen': 592, 'indicators': 593, 'partially': 594, 'suggest': 595, 'depression': 596, 'valuable': 597, 'beyond': 598, 'insulin': 599, 'behavior': 600, 'odds': 601, 'acid': 602, 'nonnutritional': 603, 'variation': 604, 'maintaining': 605, 'liberated': 606, 'risk': 607, 'delaying': 608, 'classified': 609, 'substantial': 610, 'choice': 611, 'earlylactation': 612, 'underestimated': 613, 'intestine': 614, 'ration': 615, 'consequently': 616, 'produce': 617, 'frequent': 618, 'carbohydrate': 619, 'momentous': 620, 'differentiate': 621, 'coming': 622, 'reports': 623, 'understand': 624, 'irish': 625, 'similar': 626, 'discuss': 627, 'among': 628, 'subjective': 629, 'prolong': 630, 'surveillance': 631, 'minimal': 632, 'prevention': 633, 'changed': 634, 'time': 635, 'glands': 636, 'mixed': 637, 'along': 638, 'big': 639, 'mastitis': 640, 'ups': 641, 'ruminal': 642, 'daily': 643, 'vitamins': 644, 'comparable': 645, 'environment': 646, 'relationships': 647, 'affecting': 648, 'result': 649, 'recommendations': 650, 'profile': 651, 'lactating': 652, 'thresholds': 653, 'composition': 654, 'measured': 655, 'termed': 656, 'mitigated': 657, 'system': 658, 'absence': 659, 'inflammation': 660, 'reason': 661, 'near': 662, 'data': 663, 'describe': 664, 'wallace': 665, 'strategies': 666, 'balances': 667, 'high': 668, 'productivity': 669, 'and ': 670, 'immediate': 671, 'detrimental': 672, 'they': 673, 'salts': 674, 'moreover': 675, 'deficit': 676, 'mcalkg': 677, 'prepared': 678, 'cattle': 679, 'induce': 680, 'lactogenesis': 681, 'decreases': 682, 'conducive': 683, 'cohort': 684, 'challenging': 685, 'following': 686, 'insufficient': 687, 'adjust': 688, 'contributed': 689, 'with': 690, 'try': 691, 'present': 692, 'rations': 693, 'factors': 694, 'into': 695, 'protein': 696, 'values': 697, 'kg': 698, 'assessment': 699, 'prepartum': 700, 'table': 701, 'decreasing': 702, 'foot': 703, 'monitoring': 704, 'fenceline': 705, '26': 706, 'more': 707, 'size': 708, 'speed': 709, 'complete': 710, 'excellent': 711, 'implemented': 712, 'fermentable': 713, 'unusual': 714, 'made': 715, 'point': 716, 'wolter': 717, '71': 718, 'implementation': 719, 'make': 720, 'turn': 721, 'adipose': 722, 'plasma': 723, 'measures': 724, 'timely': 725, 'aspect': 726, 'cortisol': 727, 'periparturient ': 728, 'oxidation': 729, 'ideal': 730, 'den': 731, 'appears': 732, 'hydrolyze': 733, 'supply': 734, 'garnsworthy': 735, 'restricted': 736, 'abomasumfactors': 737, 'visits': 738, '2017': 739, 'reducing': 740, 'sara': 741, 'example': 742, 'ovulation': 743, 'alleys': 744, 'mentioned': 745, 'shown': 746, 'complex': 747, 'walking': 748, 'mineral': 749, 'immense': 750, '2021': 751, 'cause': 752, 'his': 753, 'ruminating': 754, 'd': 755, 'via': 756, 'permit': 757, 'blueprints': 758, '1974': 759, 'identification': 760, 'drying': 761, 'presentation': 762, 'accurately': 763, 'improved': 764, 'development': 765, 'longheld': 766, 'glycol': 767, 'established': 768, 'included': 769, 'amylolytic': 770, 'motility': 771, 'holstein': 772, 'success': 773, 'average': 774, 'activity': 775, 'microbial': 776, 'heifers': 777, 'ensure': 778, 'addressing': 779, 'phases': 780, 'restriction': 781, 'has': 782, 'lactational': 783, 'marked': 784, 'rapid': 785, 'recommendation': 786, 'gradually': 787, 'absorb': 788, 'position': 789, 'foragetograin': 790, 'problems': 791, 'reesterified': 792, 'hay': 793, 'improve': 794, 'met': 795, 'specific': 796, '2011': 797, '100': 798, 'equivocal': 799, 'ovary': 800, 'longevity': 801, 'undergoes': 802, 'calves': 803, 'behind': 804, 'interesting': 805, 'vet': 806, 'gravitate': 807, 'welfare': 808, 'forage': 809, 'selected': 810, 'supplemental': 811, 'masking': 812, 'expulsion': 813, 'infection': 814, 'acute': 815, 'kronfeld': 816, 'selecting': 817, 'theoretically': 818, 'vldl': 819, 'because': 820, 'categories': 821, 'used': 822, 'calcium': 823, 'provided': 824, 'kgday': 825, 'focused': 826, 'curtis': 827, 'qualities': 828, 'necessary': 829, 'phosphate': 830, 'therefore': 831, 'leading': 832, 'direct': 833, 'cycle': 834, '60': 835, 'note': 836, 'appreciable': 837, 'typical': 838, 'interpreting': 839, 'foul': 840, '2003': 841, 'gets': 842, 'indirectly': 843, 'informed': 844, 'probably': 845, 'just': 846, 'grazing': 847, 'amass': 848, 'gestation': 849, 'protected': 850, '1997': 851, 'additionally': 852, 'utilization': 853, 'bicarbonate': 854, 'work': 855, 'skaar': 856, 'blood': 857, 'exported': 858, 'impacts': 859, 'bell': 860, 'full': 861, 'needs': 862, 'imperative': 863, 'onfarm': 864, 'columbia': 865, 'exacerbated': 866, 'hours': 867, 'controlled': 868, 'combinations': 869, 'sorting': 870, 'demonstrated': 871, 'farms': 872, 'persists': 873, 'short': 874, 'mammary': 875, 'noted': 876, 'implicated': 877, 'validate': 878, 'her': 879, 'presents': 880, 'milkday': 881, 'glycerol': 882, 'evaluating': 883, 'address': 884, 'change': 885, 'entirely': 886, 'metabolize': 887, 'metabolism': 888, 'training': 889, 'might': 890, 'vaccination': 891, 'software': 892, 'maximize': 893, 'digestive': 894, 'primigravid': 895, 'furthermore': 896, '2009': 897, 'received': 898, 'significantly': 899, 'immune': 900, 'endemic': 901, 'fed': 902, 'key': 903, 'too': 904, 'kronfelds': 905, 'controlling': 906, 'corrections': 907, 'attending': 908, 'type': 909, 'degradabilities': 910, 'modulators': 911, 'physiological': 912, 'dim': 913, 'reproductive': 914, 'window': 915, 'butler': 916, 'remit': 917, 'body': 918, 'pit': 919, 'coordinate': 920, 'elevation': 921, 'woweeks': 922, 'drinking': 923, 'evaluate': 924, 'nefa': 925, 'indicates': 926, 'monthn': 927, 'after': 928, 'respond': 929, 'dealing': 930, 'postpartum': 931, 'higher': 932, 'acclimatizing': 933, 'adjusting': 934, 'lipolysis': 935, 'johnson': 936, 'housed': 937, 'depends': 938, 'ca': 939, 'impact': 940, 'watery': 941, 'cycles': 942, 'information': 943, 'small': 944, 'far': 945, 'minimum': 946, '1998': 947, 'speculated': 948, 'not': 949, 'she': 950, 'clip': 951, 'sodium': 952, '2002': 953, 'equally': 954, 'none': 955, 'identify': 956, 'neutralized': 957, '060': 958, 'depending': 959, 'unlikely': 960, 'utilize': 961, 'low': 962, 'linking': 963, 'and': 964, 'contain': 965, 'aggressive': 966, 'propionic': 967, 'prepare': 968, 'rumination': 969, 'groups': 970, 'serve': 971, 'farmers': 972, 'foetal': 973, 'endotoxins': 974, 'fermentability': 975, 'concentrate': 976, '2020a': 977, '33': 978, 'sufficiently': 979, 'supplementation': 980, 'parturition': 981, '2012': 982, 'actually': 983, 'pdie': 984, 'fates': 985, 'supplements': 986, 'knowledge': 987, 'designed': 988, 'minerals': 989, 'involved': 990, 'flowing': 991, 'need': 992, 'losses': 993, 'show': 994, 'hypocalcaemia': 995, 'delivery': 996, 'past': 997, 'gather': 998, 'veterinarians': 999, 'displaced': 1000, 'numerous': 1001, 'estimates': 1002, 'nutrient': 1003, 'effects': 1004, 'leblanc': 1005, 'offer': 1006, 'set': 1007, 'stimulates': 1008, 'niacin': 1009, 'producer': 1010, 'predisposition': 1011, 'accumulation': 1012, 'about': 1013, 'correlation': 1014, 'reported': 1015, 'mgdl': 1016, 'whether': 1017, 'co': 1018, 'beneficial': 1019, 'improvements': 1020, 'supplied': 1021, 'tools': 1022, 'poses': 1023, 'third': 1024, 'apoprotein': 1025, 'drive': 1026, 'krebs': 1027, 'kung': 1028, 'term': 1029, 'regulation': 1030, 'confusion': 1031, 'fraser': 1032, 'task': 1033, 'importance': 1034, 'different': 1035, 'utilised': 1036, 'practiced': 1037, 'calculate': 1038, 'bhb': 1039, 'maintain': 1040, 'mediated': 1041, 'our': 1042, '1981': 1043, 'adaptations': 1044, 'fast': 1045, 'epidemiological': 1046, 'variable': 1047, 'first': 1048, 'esterified': 1049, 'generally': 1050, 'barley': 1051, 'valley': 1052, 'chronically': 1053, 'help': 1054, 'carbohydrates': 1055, 'speculate': 1056, 'posing': 1057, '15': 1058, 'strongly': 1059, 'backbone': 1060, '208': 1061, 'retrieved': 1062, 'fail': 1063, 'autumn': 1064, 'hypothesis': 1065, 'certain': 1066, 'ferguson': 1067, 'category': 1068, 'straw': 1069, 'ventilated': 1070, 'tested': 1071, 'summary': 1072, 'enzyme': 1073, '12': 1074, 'such': 1075, 'abomasums': 1076, 'addition': 1077, 'dried': 1078, 'site': 1079, '605': 1080, 'competence': 1081, 'times': 1082, 'until': 1083, 'shortening': 1084, 'meet': 1085, 'ad': 1086, 'weather': 1087, 'immunosuppression': 1088, 'managed': 1089, 'profitability': 1090, 'mcal': 1091, 'between': 1092, 'adapted': 1093, 'differ': 1094, 'using': 1095, 'surprisingly': 1096, 'economics': 1097, 'histamine': 1098, 'optimize': 1099, 'improvement': 1100, 'modify': 1101, 'detoxification': 1102, 'drink': 1103, 'generates': 1104, 'look': 1105, 'later': 1106, 'proceed': 1107, 'consecutive': 1108, 'feeds': 1109, 'gland': 1110, '14': 1111, 'drastically': 1112, 'paper': 1113, 'lowprotein': 1114, 'useful': 1115, 'precursors': 1116, 'units': 1117, 'function': 1118, 'dm': 1119, 'slowly': 1120, 'arise': 1121, 'already': 1122, 'than': 1123, 'called': 1124, 'iceberg': 1125, 'sacrificing': 1126, 'approximately': 1127, 'pregnant': 1128, 'et': 1129, 'muscular': 1130, 'massive': 1131, 'sensitive': 1132, 'meal': 1133, 'lower': 1134, 'compromises': 1135, 'genetic': 1136, 'sequence': 1137, 'dynamic': 1138, 'robb': 1139, 'closely': 1140, 'ovarian': 1141, 'patterns': 1142, 'increase': 1143, 'stimulate': 1144, 'declines': 1145, 'systemic': 1146, '2020': 1147, 'next': 1148, 'profound': 1149, 'buckley': 1150, 'principles': 1151, 'hutjens': 1152, 'epithelia': 1153, 'popularbased': 1154, 'triacylglycerol': 1155, 'price': 1156, 'heat': 1157, 'allowance': 1158, 'enzymes': 1159, 'that': 1160, 'testing': 1161, 'portion': 1162, 'benefit': 1163, 'inconsistent': 1164, 'facing': 1165, 'uses': 1166, 'obvious': 1167, 'diet': 1168, 'initiation': 1169, 'previously': 1170, 'production': 1171, 'week': 1172, '7': 1173, 'negatively': 1174, 'massey': 1175, 'remain': 1176, 'frequently': 1177, 'rosseler': 1178, 'understanding': 1179, 'named': 1180, 'grummer': 1181, 'minutes': 1182, 'mobilized': 1183, 'records': 1184, '475': 1185, 'which': 1186, 'issues': 1187, 'veterinary': 1188, 'erdman': 1189, 'acetone': 1190, 'choline': 1191, 'will': 1192, 'reduced': 1193, 'having': 1194, 'way': 1195, '1968': 1196, 'indicative': 1197, '165': 1198, 'silages': 1199, 'particle': 1200, 'efficacy': 1201, 'bauman': 1202, 'dates': 1203, 'surface': 1204, 'reproduction': 1205, 'gait': 1206, 'place': 1207, 'plays': 1208, 'exceeds': 1209, 'number': 1210, 'review': 1211, 'verify': 1212, 'mild': 1213, 'is': 1214, 'magnify': 1215, 'order': 1216, 'smell': 1217, 'lying': 1218, 'description': 1219, 'offering': 1220, 'placenta': 1221, 'emery': 1222, 'around': 1223, 'determine': 1224, 'leads': 1225, 'occur': 1226, 'curious': 1227, 'disease': 1228, 'prophylactic': 1229, 'revealed': 1230, 'assumption': 1231, 'avoid': 1232, 'sources': 1233, 'making': 1234, 'recording': 1235, 'obligatory': 1236, 'required': 1237, 'uterus': 1238, 'incidence': 1239, 'breed': 1240, 'nutritional': 1241, 'offn': 1242, 'pertinent': 1243, '1990': 1244, 'hormonal': 1245, 'forages': 1246, 'h': 1247, '1992': 1248, 'somatotropin': 1249, 'markers': 1250, 'cull': 1251, 'process': 1252, 'infiltration': 1253, 'feeding': 1254, 'anabolic': 1255, 'regard': 1256, 'ketosis': 1257, 'such ': 1258, 'at': 1259, 'enough': 1260, 'discussed': 1261, 'total': 1262, 'accepted': 1263, 'future': 1264, 'antiinflammatory': 1265, 'situation': 1266, 'frequency': 1267, 'tended': 1268, 'concert': 1269, 'quantities': 1270, 'holistic': 1271, 'sample': 1272, 'allowances': 1273, 'are': 1274, 'conception': 1275, 'should': 1276, 'mention': 1277, 'did': 1278, 'primarily': 1279, 'manner': 1280, 'carriers': 1281, 'avoiding': 1282, 'phenomenon': 1283, 'priority': 1284, 'constable': 1285, 'minimising': 1286, 'cropwheat': 1287, 'during': 1288, 'organic': 1289, '72': 1290, 'setting': 1291, 'depicted': 1292, 'irrelevant': 1293, 'm': 1294, 'due': 1295, 'positive': 1296, 'was': 1297, 'scoring': 1298, 'consisted': 1299, 'condition': 1300, 'study': 1301, 'receive': 1302, '30325': 1303, 'upon': 1304, 'beings': 1305, 'directly': 1306, 'gluconeogenic': 1307, 'moving': 1308, 'provide': 1309, 'sealant': 1310, 'insidious': 1311, 'adds': 1312, 'relationship': 1313, 'delayed': 1314, 'go': 1315, 'magnitude': 1316, 'disorder': 1317, 'targets': 1318, 'axes': 1319, 'comparison': 1320, 'performance': 1321, 'age': 1322, 'further': 1323, 'pounds': 1324, 'as ': 1325, 'currently': 1326, 'does': 1327, 'attention': 1328, 'organs': 1329, 'dyk': 1330, 'bone': 1331, 'decrease': 1332, 'maintained': 1333, 'circulation': 1334, 'roche': 1335, 'seasonal': 1336, 'synthesize': 1337, 'optimum': 1338, 'stalls': 1339, 'i': 1340, 'movements': 1341, 'grouping': 1342, 'hydroxybutyrate': 1343, 'rationn': 1344, 'linear': 1345, 'element': 1346, 'could': 1347, 'without': 1348, 'fermentation': 1349, 'hall': 1350, 'managementrelated': 1351, 'elements': 1352, 'interrelated': 1353, 'little': 1354, 'stress': 1355, 'let': 1356, 'put': 1357, 'pregnancy': 1358, 'b': 1359, 'associated': 1360, 'objective': 1361, 'subsequent': 1362, 'physiologic': 1363, 'large': 1364, 'triglyceride': 1365, 'now': 1366, 'month': 1367, 'close': 1368, '3': 1369, 'n': 1370, 'difference': 1371, 'goff': 1372, 'pronounced': 1373, 'indeed': 1374, 'nonstructural': 1375, 'advised': 1376, 'both': 1377, 'pushups': 1378, 'tissues': 1379, 'jones': 1380, 'dramatically': 1381, 'finally': 1382, 'able': 1383, 'weeks': 1384, 'half': 1385, 'clinical': 1386, 'risks': 1387, 'hypothesized': 1388, 'tip': 1389, 'less': 1390, 'reaches': 1391, 'characteristics': 1392, 'trial': 1393, 'per': 1394, 'faced': 1395, '600': 1396, '2006': 1397, '1995': 1398, '13': 1399, 'tonicity': 1400, 'suggested': 1401, 'modulate': 1402, 'desirable': 1403, 'quigley': 1404, 'manipulating': 1405, 'infections': 1406, 'mertens': 1407, 'suitable': 1408, 'binary': 1409, 'experience': 1410, '64': 1411, 'fatty': 1412, 'spot': 1413, 'role': 1414, 'cncps': 1415, 'santos': 1416, '5': 1417, 'crucial': 1418, '1999': 1419, 'prevent': 1420, 'noticed': 1421, 'relative': 1422, 'routine': 1423, 'performed': 1424, 'measuring': 1425, 'fill': 1426, 'advances': 1427, 'incorporated': 1428, 'al': 1429, 'its': 1430, 'caused': 1431, 'we': 1432, 'research': 1433, 'perhaps': 1434, 'years': 1435, 'intermittent': 1436, 'greatest': 1437, 'processes': 1438, 'additional': 1439, 'only': 1440, 'value': 1441, 'nave': 1442, 'logical': 1443, 'advisors': 1444, 'subclinical': 1445, '1996': 1446, '1988': 1447, 'mixing': 1448, 'nutrition': 1449, 'g': 1450, 'effective': 1451, 'papillae': 1452, 'affects': 1453, 'stocking': 1454, 'changes': 1455, 'maximise': 1456, 'better': 1457, '32': 1458, 'lead': 1459, 'living': 1460, 'emanuelson': 1461, 'sections': 1462, 'net': 1463, '97': 1464, 'damage': 1465, 'true': 1466, 'propylene': 1467, 'owens': 1468, 'hierarchy': 1469, '6': 1470, '1550': 1471, 'cellulolytic': 1472, 'diseases': 1473, 'increasing': 1474, 'demand': 1475, 'nrc': 1476, 'nuance': 1477, 'flies': 1478, 'lose': 1479, 'accumulated': 1480, 'maintenance': 1481, 'reist': 1482, 'ensuring': 1483, 'achieve': 1484, 'containing': 1485, 'animals': 1486, '4': 1487, 'specifically': 1488, '8': 1489, 'fetal': 1490, 'start': 1491, 'given': 1492, 'attributed': 1493, 'preventing': 1494, 'newby': 1495, 'transitory': 1496, 'burke': 1497, 'likely': 1498, 'duration': 1499, 'some': 1500, 'react': 1501, 'agrisearch': 1502, 'regards': 1503, '8085': 1504, 'partial': 1505, '50': 1506, 'cyclicity': 1507, 'by': 1508, 'van': 1509, 'inches': 1510, 'hayirli': 1511, 'going': 1512, 'obviously': 1513, '159': 1514, 'subject': 1515, 'encountered': 1516, 'british': 1517, 'managing': 1518, 'below': 1519, 'successful': 1520, 'underreported': 1521, 'recent': 1522, '9': 1523, 'abruptly': 1524, 'efficiency': 1525, 'acidosis': 1526, 'protocols': 1527, 'milkd': 1528, 'analysed': 1529, 'cannot': 1530, 'consistent': 1531, 'then': 1532, 'glucocorticoids': 1533, 'export': 1534, 'reach': 1535, 'starch': 1536, 'oltenacu': 1537, 'cows': 1538, 'facilitate': 1539, 'advantage': 1540, 'lipidosis': 1541, 'before': 1542, 'late': 1543, 'prior': 1544, 'challenges': 1545, '280': 1546, 'cleaning': 1547, 'physically': 1548, 'great': 1549, 'taken': 1550, 'care': 1551, 'for': 1552, 'find': 1553, 'proven': 1554, 'nadir': 1555, 'up': 1556, 'decreased': 1557, 'cells': 1558, 'best': 1559, 'have': 1560, 'standardised': 1561, 'silage': 1562, 'services': 1563, 'whole': 1564, 'evaluated': 1565, 'stages': 1566, 'recommend': 1567, 'herds': 1568, 'acclimatise': 1569, 'citing': 1570, 'uterine': 1571, 'vital': 1572, 'longitudinal': 1573, 'commercial': 1574, 'said': 1575, 'phase': 1576, 'robert': 1577, 'acetyl': 1578, 'requirement': 1579, 'conventional': 1580, 'adequate': 1581, 'highproducing': 1582, 'other': 1583, 'absorption': 1584, '1012': 1585, 'coppock': 1586, 'capacity': 1587, '200': 1588, '461': 1589, 'enormous': 1590, 'ruminants': 1591, 'range': 1592, 'there': 1593, 'milk ': 1594, 'passage': 1595, 'gluconeogenesis': 1596, 'nutrients': 1597, 'demands': 1598, 'saliva': 1599, 'reverse': 1600, 'scenario': 1601, 'limit': 1602, 'option': 1603, 'consideration': 1604, 'dietary': 1605, 'exponential': 1606, 'dangerous': 1607, 'estimated': 1608, 'analysis': 1609, 'few': 1610, 'observe': 1611, 'deliver': 1612, 'had': 1613, 'doubt': 1614, 'grass': 1615, 'identified': 1616, 'response': 1617, 'compound': 1618, 'including': 1619, 'subsequently': 1620, 'income': 1621, 'occurrence': 1622, '2000': 1623, 'maize': 1624, '305': 1625, 'density': 1626, 'cowearly': 1627, 'any': 1628, 'manipulate': 1629, 'elaborate': 1630, 'effect': 1631, 'intakes': 1632, '350': 1633, 'provision': 1634, 'screening': 1635, 'relevant': 1636, 'decline': 1637, 'successfully': 1638, 'considerations': 1639, 'it': 1640, 'nonlactating': 1641, 'balance': 1642, 'test': 1643, 'extension': 1644, 'although': 1645, 'mmoll': 1646, 'ketones': 1647, 'cown': 1648, 'hormones': 1649, 'transition': 1650, 'expected': 1651, 'periparturient': 1652, 'wk': 1653, 'flora': 1654, 'zealand': 1655, 'makes': 1656, '2': 1657, 'causing': 1658, 'conditioning': 1659, 'ingredients': 1660, 'omnipresent': 1661, 'helps': 1662, 'reaction': 1663, 'microbes': 1664, 'dairy': 1665, 'aptly': 1666, 'equivalent': 1667, 'here': 1668, 'assume': 1669, 'lipids': 1670, 'drug': 1671, 'farmer': 1672, 'in': 1673, 'amount': 1674, 'level': 1675, '81ufl': 1676, 'disorders': 1677, 'phenomena': 1678, 'balanced': 1679, 'silagefed': 1680, 'diagnostic': 1681, 'outcome': 1682, 'what': 1683, 'perfect': 1684, 'difficult': 1685, 'day': 1686, '5000l': 1687, 'critical': 1688, 'accommodation': 1689, 'precalving': 1690, 'models': 1691, 'distinct': 1692, 'treatment': 1693, 'according': 1694, 'particularly': 1695, 'catabolism': 1696, 'combination': 1697, 'turning': 1698, 'duffield': 1699, 'excessive': 1700, '40': 1701, 'know': 1702, 'intake': 1703, 'reserves': 1704, 'formulate': 1705, 'yokoyoma': 1706, 'studies': 1707, 'contributing': 1708, 'metabolizable': 1709, 'commingling': 1710, 'reduction': 1711, 'non': 1712, 'herd': 1713, 'postcalving': 1714, 'supplementary': 1715, 'eat': 1716, 'vaginal': 1717, 'farm': 1718, 'theories': 1719, 'end': 1720, 'animal': 1721, 'sense': 1722, 'retained': 1723, 'experienced': 1724, 'vary': 1725, 'laminitis': 1726, '325': 1727, 'dystocia': 1728, 'falls': 1729, '1989': 1730, '446': 1731, 'offers': 1732, 'minimizing': 1733, 'consequences': 1734, 'spending': 1735, 'showed': 1736, 'all': 1737, 'consumption': 1738, 'various': 1739, 'commonly': 1740, 'significant': 1741, 'year': 1742, 'considered': 1743, 'principal': 1744, 'pillars': 1745, 'water': 1746, 'definitive': 1747, 'detection': 1748, 'environmental': 1749, 'ventilation': 1750, 'cases': 1751, 'reduce': 1752, 'trace': 1753, 'summarize': 1754, 'dmi': 1755, 'fundamental': 1756, '19': 1757, 'anovulatory': 1758, 'represents': 1759, 'areas': 1760, 'several': 1761, 'house': 1762, 'advocate': 1763, 'wall': 1764, 'abrupt': 1765, '1987': 1766, 'previous': 1767, 'progesterone': 1768, 'exercise': 1769, '1986': 1770, 'elevated': 1771, 'this': 1772, 'them': 1773, 'milk': 1774, 'photoperiod': 1775, 'clearly': 1776, 'steen': 1777, 'safest': 1778, 'cow': 1779, 'why': 1780, 'professionals': 1781, 'silagebased': 1782, 'dmd': 1783, '75': 1784, 'onset': 1785, 'basis': 1786, 'characterized': 1787, 'accommodates': 1788, 'cubicle': 1789, 'topic': 1790, '0': 1791, 'bcs': 1792, 'concentrations': 1793, 'tool': 1794, 'target': 1795, 'labour': 1796, 'appropriate': 1797, 'months': 1798, 'calve': 1799, 'neb': 1800, 'meals': 1801, 'outside': 1802, 'lactate': 1803, 'aims': 1804, 'method': 1805, 'same': 1806, 'murphy': 1807, 'final': 1808, 'transfer': 1809, 'see': 1810, 'fever': 1811, 'meaningless': 1812, 'would': 1813, 'report': 1814, 'lanna': 1815, 'develop': 1816, 'difficulty': 1817, 'milieu': 1818, 'area': 1819, 'mobilisation': 1820, 'three': 1821, 'reesterifying': 1822, 'assistance': 1823, 'when': 1824, 'comprehensive': 1825, 'discharge': 1826, 'sizes': 1827, 'amino': 1828, 'modulating': 1829, 'dcad': 1830, '1982': 1831, 'suggests': 1832, 'essential': 1833, 'letting': 1834, 'mark': 1835, 'saun': 1836, 'discussion': 1837, 'carried': 1838, 'ones': 1839, 'substance': 1840, '20': 1841, 'moderate': 1842, 'collectively': 1843, 'while': 1844, 'nature': 1845, 'achieved': 1846, 'another': 1847, 'betahydroxybutyrate': 1848, 'e': 1849, 'td': 1850, 'tied': 1851, 'known': 1852, 'eaten': 1853, 'cows10': 1854, 'state': 1855, 'stillborn': 1856, 'simple': 1857, 'options': 1858, 'limited': 1859, 'sufficient': 1860, 'optimising': 1861, 'subacute': 1862, 'douglas': 1863, 'spite': 1864, 'aetiology': 1865, 'policy': 1866, 'culminate': 1867, 'form': 1868, 'sentences': 1869, 'recognised': 1870, 'digestibility': 1871, 'fertility': 1872, 'optimal': 1873, 'allow': 1874, 'disequilibrated': 1875, 'factor': 1876, 'gain': 1877, 'triglycerides': 1878, 'consequence': 1879, 'meeting': 1880, 'converts': 1881, 'itself': 1882, 'pdin': 1883, 'front': 1884, 'enrolled': 1885, 'similarly': 1886, 'monensin': 1887, 'careful': 1888, 'homeostasis': 1889, 'resulting': 1890, 'related': 1891, 'support': 1892, 'metabolites': 1893, 'fresh': 1894, 'leukosis': 1895, 'fatprotein': 1896, 'induces': 1897, 'relocate': 1898, 'broad': 1899, 'resumption': 1900, '23': 1901, 'exhibited': 1902, 'widely': 1903, 'mobilize': 1904, 'right': 1905, 'rise': 1906, 'concentration': 1907, 'meaningful': 1908, 'use': 1909, '1985': 1910, 'added': 1911, 'maximizing': 1912, 'economic': 1913, 'whelan': 1914, 'logistically': 1915, 'do': 1916, '275': 1917, 'unrealized': 1918, 'urinary': 1919, 'components': 1920, 'lot': 1921, 'placental': 1922, 'extremely': 1923, 'healthy': 1924, 'displacing': 1925, 'abomasum': 1926, 'indoors': 1927, 'one': 1928, 'weight': 1929, 'linked': 1930, 'treated': 1931, 'taking': 1932, 'poor': 1933, 'occasionally': 1934, 'lipid': 1935, 'group': 1936, 'ponter': 1937, 'robertson': 1938, 'scores': 1939, 'goals': 1940, 'found': 1941, 'appearing': 1942, 'barragan': 1943, 'pound': 1944, 'diets': 1945, 'thoughts': 1946, 'ways': 1947, 'biology': 1948, 'done': 1949, 'each': 1950, 'social': 1951, 'energy': 1952, 'unsuitable': 1953, 'vice': 1954, 'feed': 1955, 'tmr': 1956, '2001': 1957, 'proper': 1958, 'displaced ': 1959, 'fewer': 1960, 'controllable': 1961, 'eating': 1962, 'can ': 1963, 'moll': 1964, 'inevitable': 1965, 'metabolic': 1966, 'diseases ': 1967, 'problematic': 1968, 'omara': 1969, 'sensitivity': 1970, 'investigated': 1971, 'concerns': 1972, 'energetic': 1973, 'antioxidant': 1974, 'disodium': 1975, 'pay': 1976, 'accommodate': 1977, 'observed': 1978, 'producers': 1979, 'physiology': 1980, 'simianer': 1981, 'rumensin': 1982, 'service': 1983, 'roughly': 1984, 'principally': 1985, 'seriously': 1986, 'formulation': 1987, 'redbrown': 1988, 'firstlactation': 1989, 'programs': 1990, '68': 1991, 'lb': 1992, 'exaggerated': 1993, 'highly': 1994, 'tissue': 1995, 'if': 1996, 'conditions': 1997, 'metritis': 1998, 'timing': 1999, 'locking': 2000, 'normally': 2001, '360': 2002, 'their': 2003, 'stressful': 2004, 'classically': 2005, 'nocek': 2006, 'understood': 2007, 'continually': 2008, 'dr': 2009, '24': 2010, '18': 2011, 'from': 2012, 'rapidly': 2013}\n"
     ]
    }
   ],
   "source": [
    "### label2Idx  word2Idx\n",
    "\n",
    "\n",
    "# sort the set to ensure '0' is assigned to 0\n",
    "sorted_labels = sorted(list(labelSet), key=len)\n",
    "\n",
    "\n",
    "# create mapping for labels\n",
    "label2Idx = {}\n",
    "for label in sorted_labels:\n",
    "    label2Idx[label] = len(label2Idx)\n",
    "idx2Label = {v: k for k, v in label2Idx.items()}\n",
    "\n",
    "\n",
    "# create mapping for words\n",
    "word2Idx = {}\n",
    "if len(word2Idx) == 0:\n",
    "    word2Idx[\"PADDING_TOKEN\"] = len(word2Idx) # as 0\n",
    "    word2Idx[\"UNKNOWN_TOKEN\"] = len(word2Idx) # as 1\n",
    "for word in wordSet:\n",
    "    word2Idx[word] = len(word2Idx)\n",
    "    \n",
    "# print some mapping \n",
    "\n",
    "print(\"idx2Label: \", len(idx2Label))\n",
    "print(\"idx2Label: \", idx2Label)\n",
    "print()\n",
    "print(\"word2Idx: \", len(word2Idx))\n",
    "print(\"word2Idx: \", word2Idx)"
   ]
  },
  {
   "cell_type": "code",
   "execution_count": 84,
   "id": "ef814223",
   "metadata": {},
   "outputs": [
    {
     "name": "stdout",
     "output_type": "stream",
     "text": [
      "train_sentences, train_labels:  [[108, 963, 396, 1004, 312, 700, 1449, 964, 1362, 1872, 1214, 294], [508, 312, 1683, 1214, 1401, 48, 1099, 1264, 1872, 1214, 1891, 48, 647, 1092, 1966, 1677, 964, 607, 1552, 1314, 1275], [258, 1966, 791, 1160, 319, 564, 931, 1538, 1075, 510, 1723, 1490, 236, 1774, 1811, 1257, 964, 1000, 1926, 1274, 1702, 48, 5, 396, 209, 312, 584, 1952, 1642, 964, 388, 1900, 312, 1141, 942], [45, 312, 396, 1952, 2, 312, 396, 1168, 700, 782, 586, 746, 48, 319, 477, 164, 1703, 1511, 1129, 1429], [953, 964, 931, 783, 1321]] [[0, 0, 0, 0, 0, 2, 4, 0, 0, 0, 0, 0], [0, 0, 0, 0, 0, 0, 0, 0, 0, 0, 0, 0, 0, 0, 1, 5, 0, 0, 0, 1, 5], [0, 1, 5, 0, 0, 0, 2, 0, 0, 0, 1, 5, 5, 1, 5, 5, 0, 1, 5, 0, 0, 0, 0, 0, 2, 0, 0, 4, 0, 0, 0, 0, 0, 0, 0], [0, 0, 0, 4, 0, 0, 0, 4, 2, 0, 0, 0, 0, 0, 0, 4, 6, 0, 0, 0], [0, 0, 2, 0, 0]]\n",
      "\n",
      "\n"
     ]
    }
   ],
   "source": [
    "def createMatrices(data, word2Idx, label2Idx):\n",
    "    sentences = []\n",
    "    labels = []\n",
    "    \n",
    "    # get data \n",
    "    for split_labeled_text in data:\n",
    "        wordIndices = []\n",
    "        labelIndices = []\n",
    "        \n",
    "        # get word and data\n",
    "        for word, label in split_labeled_text:\n",
    "            \n",
    "            # if is in the vocabulary\n",
    "            if word in word2Idx:\n",
    "                wordIdx = word2Idx[word]\n",
    "                \n",
    "            # if the lower case version is in the vocabulary\n",
    "            elif word.lower() in word2Idx:\n",
    "                wordIdx = word2Idx[word.lower()] \n",
    "                \n",
    "            # if not, assign to the unknown token \n",
    "            else:                \n",
    "                wordIdx = word2Idx['UNKNOWN_TOKEN']\n",
    "                \n",
    "            # assign to the corrsponding index\n",
    "            wordIndices.append(wordIdx)\n",
    "            \n",
    "            # fixing a bug of '' \n",
    "            if label != '':\n",
    "                labelIndices.append(label2Idx[label])\n",
    "    \n",
    "        # append the index to sentences\n",
    "        sentences.append(wordIndices)\n",
    "        labels.append(labelIndices)\n",
    "    return sentences, labels\n",
    "\n",
    "train_sentences, train_labels = createMatrices(split_train, word2Idx, label2Idx)\n",
    "valid_sentences, valid_labels = createMatrices(split_valid, word2Idx, label2Idx)\n",
    "test_sentences, test_labels = createMatrices(split_test, word2Idx, label2Idx)\n",
    "\n",
    "# print to check \n",
    "\n",
    "print(\"train_sentences, train_labels: \", train_sentences[0:5], train_labels[0:5])\n",
    "print()\n",
    "# print(\"valid_sentences, valid_labels: \", valid_sentences[0:5], valid_labels[0:5])\n",
    "print()\n",
    "# print(\"test_sentences, test_labels: \", test_sentences[0:5], test_labels[0:5])"
   ]
  },
  {
   "cell_type": "code",
   "execution_count": 81,
   "id": "884681e4",
   "metadata": {},
   "outputs": [
    {
     "name": "stdout",
     "output_type": "stream",
     "text": [
      "idx2Label:  7\n",
      "idx2Label:  {0: 'O', 1: 'B-DIS', 2: 'B-PER', 3: 'I-PER', 4: 'B-NUT', 5: 'I-DIS', 6: 'I-NUT'}\n",
      "\n",
      "word2Idx:  2014\n"
     ]
    }
   ],
   "source": [
    "### reshow some info of about the training set \n",
    "\n",
    "# about the label\n",
    "print(\"idx2Label: \", len(idx2Label))\n",
    "print(\"idx2Label: \", idx2Label)\n",
    "print()\n",
    "\n",
    "# the length of total word vocab\n",
    "print(\"word2Idx: \", len(word2Idx))"
   ]
  },
  {
   "cell_type": "code",
   "execution_count": 86,
   "id": "a8fa4fe1",
   "metadata": {},
   "outputs": [
    {
     "ename": "IndexError",
     "evalue": "list assignment index out of range",
     "output_type": "error",
     "traceback": [
      "\u001b[1;31m---------------------------------------------------------------------------\u001b[0m",
      "\u001b[1;31mIndexError\u001b[0m                                Traceback (most recent call last)",
      "\u001b[1;32m<ipython-input-86-6baee4aede83>\u001b[0m in \u001b[0;36m<module>\u001b[1;34m\u001b[0m\n\u001b[0;32m     13\u001b[0m                 \u001b[0msentence\u001b[0m\u001b[1;33m[\u001b[0m\u001b[0mi\u001b[0m\u001b[1;33m]\u001b[0m \u001b[1;33m=\u001b[0m \u001b[1;36m100\u001b[0m\u001b[1;33m\u001b[0m\u001b[1;33m\u001b[0m\u001b[0m\n\u001b[0;32m     14\u001b[0m             \u001b[1;32mif\u001b[0m \u001b[0mword\u001b[0m \u001b[1;33m==\u001b[0m \u001b[1;34m'2'\u001b[0m \u001b[1;32mor\u001b[0m \u001b[0mword\u001b[0m \u001b[1;33m==\u001b[0m \u001b[1;34m'4'\u001b[0m\u001b[1;33m:\u001b[0m\u001b[1;33m\u001b[0m\u001b[1;33m\u001b[0m\u001b[0m\n\u001b[1;32m---> 15\u001b[1;33m                 \u001b[0msentence\u001b[0m\u001b[1;33m[\u001b[0m\u001b[0mi\u001b[0m\u001b[1;33m]\u001b[0m \u001b[1;33m=\u001b[0m \u001b[1;36m1000\u001b[0m\u001b[1;33m\u001b[0m\u001b[1;33m\u001b[0m\u001b[0m\n\u001b[0m\u001b[0;32m     16\u001b[0m             \u001b[1;31m#if word == '3' or word == '':\u001b[0m\u001b[1;33m\u001b[0m\u001b[1;33m\u001b[0m\u001b[1;33m\u001b[0m\u001b[0m\n\u001b[0;32m     17\u001b[0m             \u001b[1;31m#    sentence[i] = 0\u001b[0m\u001b[1;33m\u001b[0m\u001b[1;33m\u001b[0m\u001b[1;33m\u001b[0m\u001b[0m\n",
      "\u001b[1;31mIndexError\u001b[0m: list assignment index out of range"
     ]
    }
   ],
   "source": [
    "### resign the number for labels \n",
    "\n",
    "\"\"\"# turn to str \n",
    "train_labels = str(train_labels)\n",
    "\"\"\"\n",
    "\n",
    "for sentences in train_labels:\n",
    "        for i, word in enumerate(sentences):\n",
    "            word = str(word)\n",
    "            if word == '5' or word == '7':\n",
    "                sentence[i] = 10000\n",
    "            if word == '1' or word == '6':\n",
    "                sentence[i] = 100000\n",
    "            if word == '2' or word == '4':\n",
    "                sentence[i] = 1000000\n",
    "            #if word == '3' or word == '':\n",
    "            #    sentence[i] = 0 \n",
    "\n",
    "\n",
    "train_labels   "
   ]
  },
  {
   "cell_type": "code",
   "execution_count": 15,
   "id": "aa11889f",
   "metadata": {},
   "outputs": [
    {
     "ename": "NameError",
     "evalue": "name 'tags' is not defined",
     "output_type": "error",
     "traceback": [
      "\u001b[1;31m---------------------------------------------------------------------------\u001b[0m",
      "\u001b[1;31mNameError\u001b[0m                                 Traceback (most recent call last)",
      "\u001b[1;32m<ipython-input-15-8795af3739bc>\u001b[0m in \u001b[0;36m<module>\u001b[1;34m\u001b[0m\n\u001b[0;32m      3\u001b[0m \u001b[1;31m# trying with 'tags'\u001b[0m\u001b[1;33m\u001b[0m\u001b[1;33m\u001b[0m\u001b[1;33m\u001b[0m\u001b[0m\n\u001b[0;32m      4\u001b[0m \u001b[1;33m\u001b[0m\u001b[0m\n\u001b[1;32m----> 5\u001b[1;33m \u001b[1;32mfor\u001b[0m \u001b[0msentences\u001b[0m \u001b[1;32min\u001b[0m \u001b[0mtags\u001b[0m\u001b[1;33m:\u001b[0m\u001b[1;33m\u001b[0m\u001b[1;33m\u001b[0m\u001b[0m\n\u001b[0m\u001b[0;32m      6\u001b[0m     \u001b[1;32mfor\u001b[0m \u001b[0msentence\u001b[0m \u001b[1;32min\u001b[0m \u001b[0msentences\u001b[0m\u001b[1;33m:\u001b[0m\u001b[1;33m\u001b[0m\u001b[1;33m\u001b[0m\u001b[0m\n\u001b[0;32m      7\u001b[0m         \u001b[1;32mfor\u001b[0m \u001b[0mi\u001b[0m\u001b[1;33m,\u001b[0m \u001b[0mword\u001b[0m \u001b[1;32min\u001b[0m \u001b[0menumerate\u001b[0m\u001b[1;33m(\u001b[0m\u001b[0msentence\u001b[0m\u001b[1;33m)\u001b[0m\u001b[1;33m:\u001b[0m\u001b[1;33m\u001b[0m\u001b[1;33m\u001b[0m\u001b[0m\n",
      "\u001b[1;31mNameError\u001b[0m: name 'tags' is not defined"
     ]
    }
   ],
   "source": [
    "# cannot assign int\n",
    "\n",
    "# trying with 'tags'\n",
    "\n",
    "for sentences in tags:\n",
    "    for sentence in sentences:\n",
    "        for i, word in enumerate(sentence):\n",
    "            if word == 'B-NUT' or word == 'I-NUT':\n",
    "                sentence[i] = 10000\n",
    "            if word == 'B-DIS' or word == 'I-DIS':\n",
    "                sentence[i] = 100000\n",
    "            if word == 'B-PER' or word == 'I-PER':\n",
    "                sentence[i] = 1000000\n",
    "            if word == 'O' or word == '':\n",
    "                sentence[i] = 0 \n",
    "            #else: \n",
    "            #    word[i] = 0\n",
    "            \n",
    "# print new tags\n",
    "print(\"new tags: \", tags[0:5])\n",
    "\n",
    "# try format the tags, reduce a layer of list\n"
   ]
  },
  {
   "cell_type": "markdown",
   "id": "56862a19",
   "metadata": {},
   "source": []
  },
  {
   "cell_type": "code",
   "execution_count": 37,
   "id": "98071d9d",
   "metadata": {},
   "outputs": [],
   "source": []
  },
  {
   "cell_type": "code",
   "execution_count": 38,
   "id": "774e20b0",
   "metadata": {},
   "outputs": [
    {
     "name": "stdout",
     "output_type": "stream",
     "text": [
      "re_corpus:  ['literature\\n', 'linking\\n', 'the\\n', 'effects\\n', 'of\\n', 'prepartum\\n', 'nutrition\\n', 'and\\n', 'subsequent\\n', 'fertility\\n']\n"
     ]
    }
   ],
   "source": [
    "print(\"re_corpus: \", re_corpus[0:10])"
   ]
  },
  {
   "cell_type": "code",
   "execution_count": null,
   "id": "9d6f413b",
   "metadata": {},
   "outputs": [],
   "source": [
    "### remove '\\n'\n",
    "\n",
    "import re\n",
    "\n",
    "# re_corpus = str(re_corpus)\n",
    "# re_corpus = re_corpus.strip().replace('\\n', '')\n",
    "re_corpus = re_corpus[0:10]\n",
    "\n",
    "for i in re_corpus:\n",
    "    r = i.strip()\n",
    "    re_cor = ''.join(r)\n",
    "    re_corpus += re_cor\n",
    "    \n"
   ]
  },
  {
   "cell_type": "code",
   "execution_count": null,
   "id": "65dc6a49",
   "metadata": {},
   "outputs": [],
   "source": [
    "print(\"re_corpus: \", re_corpus[0:100])"
   ]
  },
  {
   "cell_type": "markdown",
   "id": "4c6196ba",
   "metadata": {},
   "source": [
    "### Transfer the 'RE_Corpus' into sentences"
   ]
  },
  {
   "cell_type": "code",
   "execution_count": 1,
   "id": "c9bf3a95",
   "metadata": {},
   "outputs": [],
   "source": [
    "import os\n",
    "\n",
    "def split_text_label(filename):\n",
    "    '''\n",
    "    Reads a file named filename, extracts the text and the labels and stores\n",
    "    them in an array.\n",
    "     \n",
    "    returns [ ['EU', 'B-ORG'], ['rejects', 'O'], ['German', 'B-MISC'], ['call', 'O'], ['to', 'O'], ['boycott', 'O'], ['British', 'B-MISC'], ['lamb', 'O'], ['.', 'O'] ] \n",
    "    '''\n",
    "    \n",
    "    # open file\n",
    "    f = open(filename)\n",
    "    \n",
    "    # initializing\n",
    "    split_labeled_text = []\n",
    "    sentence = []\n",
    "    \n",
    "    # processing line by line \n",
    "    for line in f:\n",
    "        if len(line)==0 or line.startswith('-DOCSTART') or line[0]==\"\\t\":\n",
    "            if len(sentence) > 0:\n",
    "                split_labeled_text.append(sentence)\n",
    "                sentence = []\n",
    "            continue\n",
    "        \n",
    "        # split by tab\n",
    "        splits = line.split('\t')\n",
    "        # rstrip: strip from the right \n",
    "        sentence.append([splits[0].rstrip(\"\\n\")])\n",
    "        \n",
    "        \n",
    "    if len(sentence) > 0:\n",
    "        split_labeled_text.append(sentence)\n",
    "        sentence = []\n",
    "    return split_labeled_text\n",
    "\n",
    "# change training set \n",
    "split_train = split_text_label(os.path.join(\"RE_Corpus.txt\"))"
   ]
  },
  {
   "cell_type": "code",
   "execution_count": 2,
   "id": "7faf5d51",
   "metadata": {},
   "outputs": [],
   "source": [
    "# using itertools\n",
    "\n",
    "import itertools\n",
    "\n",
    "merged1 = list(itertools.chain(*split_train))\n",
    "merged2 = list(itertools.chain(*merged1))\n",
    "\n"
   ]
  },
  {
   "cell_type": "code",
   "execution_count": 3,
   "id": "c5457d94",
   "metadata": {},
   "outputs": [
    {
     "name": "stdout",
     "output_type": "stream",
     "text": [
      "merged:  ['literature', 'linking', 'the', 'effects', 'of', '<e1>', 'prepartum', 'nutrition', '</e1>', 'and', 'subsequent', '<e2>', 'fertility', '</e2>', 'is', 'scarce', '', 'most', 'of', 'what', 'is', 'suggested', 'to', 'optimize', 'future', 'fertility', 'is', 'related', 'to', 'relationships', 'between', '<e1>', 'metabolic', 'disorders', '</e1>', 'and', 'risk', 'for', '<e2>', 'delayed', 'conception', '</e2>', '', 'common', '<e1>', 'metabolic', 'problems', '</e1>', 'that', 'affect', 'early', 'postpartum', 'cows', 'such', 'as', 'retained', 'fetal', 'membranes', 'milk', 'fever', 'ketosis', 'and', 'displaced', 'abomasum', 'are', 'know', 'to', 'extend', 'the', 'period', 'of', '<e2>', 'negative', 'energy', 'balance', '</e2>', 'and', 'delay', 'resumption', 'of', 'ovarian', 'cycles', '', 'cows', 'fed', '<e1>', 'high', 'fermentable', 'energy', '</e1>', 'diets', 'prepartum', 'have', 'improved', 'energy', 'balance', 'reduced', 'concentrations', 'of', 'plasma']\n"
     ]
    },
    {
     "data": {
      "text/plain": [
       "'literature linking the effects of <e1> prepartum nutrition </e1> and subsequent <e2> fertility </e2> is scarce  most of what is suggested to optimize future fertility is related to relationships between <e1> metabolic disorders </e1> and risk for <e2> delayed conception </e2>  common <e1> metabolic problems </e1> that affect early postpartum cows such as retained fetal membranes milk fever ketosis and displaced abomasum are know to extend the period of <e2> negative energy balance </e2> and delay resumption of ovarian cycles  cows fed <e1> high fermentable energy </e1> diets prepartum have improved energy balance reduced concentrations of plasma <e2> nonesterified fatty acids </e2> and hydroxybutyrate and reduced triacylglycerol infiltration in the hepatic tissue  cows fed <e1> high fermentable energy </e1> diets prepartum have improved energy balance reduced concentrations of plasma nonesterified fatty acids and hydroxybutyrate and reduced <e2> triacylglycerol infiltration </e2> in the hepatic tissue  <e1> hepatic lipidosis </e1> early postpartum has been linked with an extension in the postpartum anovulatory period reist et al 2000 and <e2> reduced reproductive performance </e2> in lactating dairy cows jorritsma et al 2000  it is difficult to determine whether the negative effect of <e1> triacylglycerol infiltration </e1> in the hepatic tissue on postpartum resumption of ovarian cycles is direct or just a consequence of <e2> negative energy balance </e2>  feeding a <e1> high nonfirbrous carbohydrate diet </e1> prepartum increased dry matter and energy intake which <e2> improved energy balance </e2> of cows throughout the transition period  because of the positive effects on lipid metabolism diets high in <e1> nonfibrous carbohydrates </e1> increased concentrations of liver glycogen and reduced concentrations of <e2> hepatic triacylglycerol </e2>  the positive effects of <e1> high fermentable energy </e1> diets fed prepartum are expected to minimize the incidence of <e2> subclinical ketosis </e2> and hepatic lipidosis which might have positive effects on postpartum fertility  the positive effects of <e1> high fermentable energy </e1> diets fed prepartum are expected to minimize the incidence of subclinical ketosis and <e2> hepatic lipidosis </e2> which might have positive effects on postpartum fertility  although diets high in <e1> nonfibrous carbohydrates </e1> improve energy status of transition cows provision of adequate amounts of physically effective ndf is important to maintain rumen fill thereby helping in the prevention of <e2> displacement of abomasum </e2>  cows that develop <e1> displacement of abomasum </e1> have delayed postpartum insemination raizman and santos 2002 which might <e2> decrease reproductive efficiency </e2>  mertens 1997 created a system to determine the effectiveness of <e1> ndf </e1> to stimulate rumination and to maintain <e2> milk fat concentrations </e2>  most <e1> prepartum diets </e1> contain between 30 to 40 <e2> ndf </e2> and manipulation of the fiber content of the ration should be made to accommodate the needs of the specific herd  in farms with aggressive fresh cow programs incidence of <e2> displacement of abomasum </e2> is below 2 of the total cows calving per year and these herds can feed prepartum diets with less than 35 ndf therefore <e1> higher energy diets </e1>  if we think about the drop in intake and the increase in nutrient needs the main negative effects are animals going into a <e1> negative energy balance </e1> because they are using more nutrients than what they are consuming and developing <e2> metabolic diseases </e2> such as ketosis and fatty liver  although cows will experience some degree of <e1> immunosuppression </e1> during this time regardless of management an exacerbated stressful <e2> andor inflammatory </e2> response may magnify this immunosuppression increasing the risk of cows developing diseases  the losses for dairy cows associated with <e1> diseases </e1> are well known but on top of affecting the welfare of cows and economics of the farm these conditions have a longterm effect on the productivity and fertility of cows decreasing milk production and conception rates and increasing culling of animals  the losses for dairy cows associated with <e1> diseases </e1> are well known but on top of affecting the welfare of cows and economics of the farm these conditions have a longterm effect on the productivity and fertility of cows decreasing milk production and conception rates and increasing culling of animals  the losses for dairy cows associated with <e1> diseases </e1> are well known but on top of affecting the <e2> welfare </e2> of cows and economics of the farm these conditions have a longterm effect on the productivity and fertility of cows decreasing milk production and conception rates and increasing culling of animals  the losses for dairy cows associated with <e1> diseases </e1> are well known but on top of affecting the welfare of cows and <e2> economics </e2> of the farm these conditions have a longterm effect on the productivity and fertility of cows decreasing milk production and conception rates and increasing culling of animals  the losses for dairy cows associated with <e1> diseases </e1> are well known but on top of affecting the welfare of cows and economics </e2> of the farm these conditions have a longterm effect on the productivity and fertility of cows decreasing milk production and conception rates and increasing <e2> culling </e2> of animals  the losses for dairy cows associated with <e1> diseases </e1> are well known but on top of affecting the welfare of cows and economics </e2> of the farm these conditions have a longterm effect on the productivity and fertility of cows decreasing milk production and <e2> conception rates </e2> and increasing culling of animals  by modulating <e2> stress and inflammation </e2> after calving the risks of developing diseases and poor performance may be decreased n the management practices for transition cows must be focused on maximizing <e1> dry matter intake </e1> and modulating stress and inflammation  although <e1> diet composition </e1> is important i would argue that what we do with that <e2> diet </e2> is equally important  it is recommended to <e1> push feed </e1> up every two to four hours with more frequent push ups every 30 minutes during the first two hours after <e2> fresh feed </e2> is delivered  with regard to <e1> feed delivery frequency </e1> research has shown that when performed often up to four times a day this practice will stimulate cows to go to the feed bunk and <e2> eat </e2>  in one of our studies we found that cows that experienced a <e1> difficult calving </e1> had an elevated <e2> inflammatory response </e2> in the days after calving and subsequently a higher risk of developing diseases compared to cows that experienced a normal calving  in the same study we found that cows that experienced <e1> dystocia </e1> and were treated with a mild <e2> antiinflammatory drug </e2> produced almost 10 pounds per day more milk during the first 30 days after calving compared to cows that experienced dystocia but were not treated barragan et al 2020a  similarly multiparous cows regardless of <e1> calving difficulty </e1> that were treated with this <e2> antiinflammatory drug </e2> had lower systemic inflammation and produced almost 4 pounds per day more milk during the first 60 days in milk compared to cows that were not treated barragan et al 2020 c  in a more recent study we found that cows that received this mild <e1> antiinflammatory </e1> treatment approach had reduced incidence of <e2> uterine diseases </e2> such as metritis and also improved fertility barragan et al 2021  in a more recent study we found that cows that received this mild <e1> antiinflammatory </e1> treatment approach had reduced incidence of uterine diseases such as metritis and also improved <e2> fertility </e2> barragan et al 2021  excellent <e1> diet formulation </e1> and feed bunk management are critical for decreasing the <e2> drop in dry matter intake </e2> however if cows do not have access to the diet these practices will be meaningless  <e1> calving monitoring </e1> and proper assistance along with mild antiinflammatory treatment can be beneficial to <e2> modulate stress </e2> and inflammation after calving and decrease the losses associated with this period  <e1> calving monitoring </e1> and proper assistance along with mild antiinflammatory treatment can be beneficial to modulate stress and <e2> inflammation </e2> after calving and decrease the losses associated with this period  calving monitoring and proper assistance along with mild <e1> antiinflammatory </e1> treatment can be beneficial to <e2> modulate stress </e2> and inflammation after calving and decrease the losses associated with this period  calving monitoring and proper assistance along with mild <e1> antiinflammatory </e1> treatment can be beneficial to modulate stress and <e2> inflammation </e2> after calving and decrease the losses associated with this period  the use of a <e1> teat sealant </e1> is strongly recommended when there will be a <e2> long dry period </e2>  if there are a lot of fresh cows with <e1> high scc </e1> discuss dry cow management with your veterinarian because <e2> infections </e2> observed during the first 50 days of lactation have often been acquired during the dry period  ensure that there is adequate <e1> ventilation </e1> to minimize <e2> heat stress </e2>  this review will begin with a discussion of the <e1> drop in intake </e1> during the transition period and how that drop relates to <e2> cow health </e2>  next three transition cow <e1> management strategies </e1> will be addressed 1 supplementing <e2> monensin </e2> 2 shortening dry periods and 3 manipulating prepartum photoperiod  next three transition cow <e1> management strategies </e1> will be addressed 1 supplementing monensin 2 <e2> shortening dry periods </e2> and 3 manipulating prepartum photoperiod  <e1> periparturient diseases </e1> such as milk fever ketosis and displaced abomasums can all be associated with <e2> poor transition <e2> see table 1  periparturient diseases such as <e1> milk fever </e1> ketosis and displaced abomasums can all be associated with <e2> poor transition </e2> see table 1  periparturient diseases such as milk fever ketosis and <e1> displaced abomasums </e1> can all be associated with <e2> poor transition </e2> see table 1  one of the major negative impacts of <e1> poor transition </e1> cow management is <e2> immunosuppression </e2>  <e1> poor transition </e1> cow management can impact all of the pillars of a successful lactation such as reduced <e2> productivity </e2> fertility outcomes or health of the cow  <e1> poor transition </e1> cow management can impact all of the pillars of a successful lactation such as reduced productivity <e2> fertility </e2> outcomes or health of the cow  the most important aspect of dry cow <e1> nutrition </e1> is to ensure the <e2> correct calving bcs </e2>  the group of cows that calve from march on are most at risk of <e1> overconditioning </e1> as this group often have a <e2> prolonged dry period </e2>  it has been proven that when dairy cows calve down in an <e1> overconditioned </e1> state bcs 40 scale 15 they have a higher level of bcs loss postcalving a compromised metabolic state and a <e2> reduced feed intake </e2> in earlylactation in comparison to cows with an appropriate bcs at calving bcs 325 scale 15 at calving alibrahim et al 2010  when consumed at a typical consumption level by dry cows 18 to 20 of body weight butler et al 2011 some <e1> grass silages </e1> will provide an <e2> insufficient amount of energy </e2> for pregnant dry cows and some will provide too much energy  if the <e1> low bcs </e1> persists to the breeding season <e2> low fertility </e2> performance will result buckley et al 2003  with <e1> lowquality grass <e1> silage or where bcs is very low at dry off eg 20 <e2> concentrate supplementation </e2> may be required for dry cows  there are many theories on why <e1> nonstructural carbohydrate </e1> should be fed to late pregnant dry cows such as developing <e2> rumen papillae </e2> acclimatizing rumen microbes and avoiding fatty liver  there are many theories on why <e1> nonstructural carbohydrate </e1> should be fed to late pregnant dry cows such as developing rumen papillae acclimatizing <e2> rumen microbes </e2> and avoiding fatty liver  there are many theories on why <e1> nonstructural carbohydrate </e1> should be fed to late pregnant dry cows such as developing rumen papillae acclimatizing rumen microbes and <e2> avoiding fatty liver </e2>  however data from burke et al 2010 for new zealand dairy cows indicates that feeding <e1> nonfibrous carbohydrate </e1> in the late pregnant dairy cow diet had no effect on <e2> reproduction </e2> in grazing dairy cows  however for <e1> thin cows </e1> <e2> supplementing concentrates </e2> in the final three weeks precalving reduced the culling rate at 60 days postcalving agrisearch 2010  for cows that will be fed 8 kg of concentrate or more in early lactation a conservative approach in keeping with the normal digestive physiology of the cow would be to feed 1 kg of <e1> starch </e1> in the last woweeks <e2> precalving </e2>  this concentrate <e1> starch </e1> feeding at this time may be of increased importance for <e2> thin cows </e2>  thus pdi balances should be calculated based on the farm specific forages used in the dry cow diet it is likely that <e1> supplementary </e1> protein may be required for dry cow diets containing <e2> straw </e2> lowprotein forages such as maize silage or low pdi grass silages  thus pdi balances should be calculated based on the farm specific forages used in the dry cow diet it is likely that <e1> supplementary </e1> protein may be required for dry cow diets containing straw lowprotein forages such as <e2> maize silage </e2> or low pdi grass silages  thus pdi balances should be calculated based on the farm specific forages used in the dry cow diet it is likely that <e1> supplementary </e1> protein may be required for dry cow diets containing straw lowprotein forages such as maize silage or low pdi <e2> grass silages </e2>  although not common the ucd herd health group have encountered problems where occasionally some farms may feed the same mineral to milking and dry cows inadvertently or push the milking cow <e1> total mixed ration </e1> tmr in to dry cows this is important to look at as the level of calcium for example will be entirely different and can be very dangerous with regard to <e2> milk fever </e2> control  although not common the ucd herd health group have encountered problems where occasionally some farms may feed the same mineral to milking and dry cows inadvertently or push the milking cow total mixed ration <e1> tmr </e1> in to dry cows this is important to look at as the level of calcium for example will be entirely different and can be very dangerous with regard to <e2> milk fever </e2> control  <e1> calcium homeostasis </e1> has a key role in the health of the cow at calving clinical the tip of the iceberg effect and <e2> subclinical hypocalcaemia </e2> have a major detrimental effect on the early lactation cow in terms of health and production  <e1> subclinical hypocalcaemia </e1> is linked to <e2> immune system </e2> competence  the first key area already addressed in the control of <e1> milk fever </e1> is the control of <e2> body condition score </e2> maintaining bcs in the desired range at calving is a fundamental point in preventing milk fever  the first key area already addressed in the control of <e1> milk fever </e1> is the control of body condition score maintaining <e2> bcs </e2> in the desired range at calving is a fundamental point in preventing milk fever  <e1> magnesium </e1> plays a key role in the <e2> calcium </e2> homeostasis of the cow  the role of minerals in the diet contributing to dcad can be used to advantage and operation of a partial or full dcad strategy in the control of milk fever is used successfully on many farms for this to work the dcad value of all dry cow diet components is understood and addition of anionic <e1> salts </e1> to the dry cow diet such as magnesium chloride can help manipulate the diet to induce the <e2> metabolic acidosis </e2> that is required for optimum calcium regulation around the time of calving  <e1> partial dcad </e1> is another option for control of <e2> milk fever </e2> if implemented correctly  access to <e1> clean water </e1> is essential and an adequate area where cows can drink that is sufficient for the size of the dry cow area fresh drinking water is essential to maximise <e2> feed intake </e2>  offering <e1> fresh feed </e1> daily and not letting feed heat up or go off helps with <e2> intakes <e2> also  <e1> production diseases </e1> of the dairy cow are caused by a level of production inconsistent with nutrient intake provision of an <e2> inadequate diet </e2> an unsuitable environment an inappropriate breeding policy or various combinations of these factors  <e1> production diseases </e1> of the dairy cow are caused by a level of production inconsistent with nutrient intake provision of an inadequate diet an <e2> unsuitable environment </e2> an inappropriate breeding policy or various combinations of these factors  <e1> production diseases </e1> of the dairy cow are caused by a level of production inconsistent with nutrient intake provision of an inadequate diet an unsuitable environment an <e2> inappropriate breeding </e2> policy or various combinations of these factors  recent advances in understanding of production diseases include the emergence of <e1> propylene glycol </e1> and rumen protected choline as the supplements of choice for preventing <e2> fatty liver </e2> and the absence of any preventative effect of increased energy density in the closeup dry period diet on this condition  recent advances in understanding of production diseases include the emergence of propylene glycol and <e1> rumen protected choline </e1> as the supplements of choice for preventing <e2> fatty liver </e2> and the absence of any preventative effect of increased energy density in the closeup dry period diet on this condition  the linear negative influence of <e1> dietary cation anion </e1> difference dcad on the incidence of <e2> milk fever </e2> regardless of urinary ph or the target level of  <e1> dietary dcad </e1> achieved the inflammatory response associated with <e2> subacute rumen acidosis </e2> and its effect on feed intake  an increased awareness of the potential for <e1> antioxidant status </e1> to improve <e2> immunity and health </e2> in the transition period the development of more standardised diagnostic criteria and treatment protocols for uterine infection  the <e1> decrease in prepartum dmi </e1> has classically been attributed to the rapid <e2> growth of the fetus </e2> taking up abdominal space and displacing rumen volume  these <e1> hormonal changes </e1> not only contribute to the <e2> decline in dmi </e2> but also coordinate the metabolic changes that favor if not force the mobilization of body fat reserves from adipocytes grummer 1995  additionally the neb and resulting increase in plasma nefa if sufficiently high contributes to the development of fatty liver which itself is a contributing factor to other health problems in the postpartum period grummer 1995 dyk and emery 1996  additionally the <e1> neb </e1> and resulting increase in plasma nefa if sufficiently high contributes to the development of <e2> fatty liver </e2> which itself is a contributing factor to other health problems in the postpartum period grummer 1995 dyk and emery 1996  additionally the <e1> neb </e1> and resulting increase in plasma nefa if sufficiently high contributes to the development of fatty liver which itself is a contributing factor to other <e2> health problems </e2> in the postpartum period grummer 1995 dyk and emery 1996  if dietary <e1> nfc </e1> increases abruptly at calving with high levels of fermentable carbohydrates the amount of <e2> vfa </e2> produced far exceeds the capacity of the rumen to absorb them leading to elevated concentrations of vfa in the rumen  this situation leads to the phenomenon known as subacute <e1> rumen acidosis </e1> sara and contributes to <e2> reduced dmi </e2> and feed digestibility as well as laminitis in the early postpartum period  this situation leads to the phenomenon known as subacute <e1> rumen acidosis </e1> sara and contributes to reduced dmi and <e2> feed digestibility </e2> as well as laminitis in the early postpartum period  this situation leads to the phenomenon known as subacute <e1> rumen acidosis </e1> sara and contributes to reduced dmi and feed digestibility as well as <e2> laminitis </e2> in the early postpartum period  for example <e1> milk fever </e1> or subclinical hypocalcemia can lead to loss of muscular tonicity resulting in an increased risk of <e2> retained placenta </e2> and or displaced abomasums in spite of retained placenta being classified as a problem related to the immune system  for example <e1> milk fever </e1> or subclinical hypocalcemia can lead to loss of muscular tonicity resulting in an increased risk of retained placenta and or <e2> displaced abomasums </e2> in spite of retained placenta being classified as a problem related to the immune system  for example milk fever or <e1> subclinical hypocalcemia </e1> can lead to loss of muscular tonicity resulting in an increased risk of <e2> retained placenta </e2> and or displaced abomasums in spite of retained placenta being classified as a problem related to the immune system  for example milk fever or <e1> subclinical hypocalcemia </e1> can lead to loss of muscular tonicity resulting in an increased risk of retained placenta and or <e2> displaced abomasums </e2> in spite of retained placenta being classified as a problem related to the immune system  cows having <e1> retained placentas </e1> were more at risk for developing <e2> mastitis </e2> and ketosis  cows having <e1> retained placentas </e1> were more at risk for developing mastitis and <e2> ketosis </e2>  cows with <e1> ketosis </e1> were 12 times more likely to develop <e2> displaced abomasums </e2>  however there is much variation in the magnitude of the <e1> neb </e1> after calving depending upon <e2> body condition score </e2> at calving garnsworthy 1989 the severity of the depression in dmi bertics et al  <e1> energy </e1> during the transition period therefore has a major impact on cow <e2> performance and longevity </e2>  <e1> severe </e1> neb also can lead to <e2> fatty livers </e2> and compromised liver function essential in all metabolic functions including detoxification  <e1> severe </e1> neb also can lead to fatty livers and compromised liver function essential in all <e2> metabolic functions </e2> including detoxification  this poses an enormous challenge for the liver that has to synthesize all of this <e1> glucose </e1> from <e2> propionate </e2> and amino acids as well as a challenge for other tissues and organs that have to adapt to a reduction of glucose availability  <e1> glucose </e1> is an equally important energy source for the ovary and the reduced glucose availability in the beginning of lactation can negatively impact the reestablishment of <e2> ovarian activity </e2> after calving rabiee et al 1999  the mobilization of <e1> lipids </e1> in the beginning of lactation is a normal and required process to help the cow meet her <e2> energy demands </e2> for lactation  <e1> ruminal acidosis </e1> is also a frequent problem for cows at the beginning of lactation because of <e2> highly fermentable rations </e2> and insufficient rumen adaptation slow passage rates to these rations  <e1> ruminal acidosis </e1> is also a frequent problem for cows at the beginning of lactation because of highly fermentable rations and <e2> insufficient rumen adaptation </e2> slow passage rates to these rations  once deposited the <e1> fat </e1> accumulated in the <e2> liver </e2> will remain there until the end of the neb grummer 1993  this <e1> acidosis </e1> even at the subclinical level will cause a reduction in cellulolytic bacteria in the rumen and contribute to an overall reduction in <e2> feed digestibility </e2>  furthermore the <e1> acidosis </e1> reduces rumen motility and efficacy of mixing rumen contents which reduces the amounts of <e2> vfa </e2> near the rumen wall  based on the above discussion it appears prudent to begin to increase <e1> nfc </e1> in the prepartum transition period to adapt the rumen wall to <e2> vfa </e2> to feed as frequently as possible postpartum  or to offer <e1> tmr </e1> to reduce <e2> acid accumulation </e2> at any time during the day to verify that the proper amounts of effective fiber are being fed and consumed  and that sufficient <e1> dietary buffers </e1> are offered in the <e2> postpartum diet </e2>  direct <e1> microbial supplements </e1> are also being investigated with the aim of controlling <e2> lactic acid </e2> production kung 1999  consequently feeding management designed to mitigate a <e1> decline in dmi </e1> prepartum and rapidly increase dmi postpartum will reduce the risks associated with <e2> da </e2>'"
      ]
     },
     "execution_count": 3,
     "metadata": {},
     "output_type": "execute_result"
    }
   ],
   "source": [
    "print(\"merged: \", merged2[0:100])\n",
    "\n",
    "# the sentence \n",
    "\n",
    "merged3 = ' '.join(merged2)\n",
    "merged3"
   ]
  },
  {
   "cell_type": "code",
   "execution_count": 4,
   "id": "7b47397b",
   "metadata": {},
   "outputs": [],
   "source": [
    "# wirte to a list \n",
    "\n",
    "f = open(\"re_corpus_test3_3_3.txt\", \"a\")\n",
    "f.write(merged3)\n",
    "f.close()"
   ]
  },
  {
   "cell_type": "code",
   "execution_count": null,
   "id": "d94f2452",
   "metadata": {},
   "outputs": [],
   "source": []
  },
  {
   "cell_type": "code",
   "execution_count": null,
   "id": "13651afa",
   "metadata": {},
   "outputs": [],
   "source": [
    "      "
   ]
  },
  {
   "cell_type": "code",
   "execution_count": null,
   "id": "c1e0b9a5",
   "metadata": {},
   "outputs": [],
   "source": [
    "       "
   ]
  },
  {
   "cell_type": "code",
   "execution_count": null,
   "id": "747fd5ce",
   "metadata": {},
   "outputs": [],
   "source": []
  }
 ],
 "metadata": {
  "kernelspec": {
   "display_name": "Python 3",
   "language": "python",
   "name": "python3"
  },
  "language_info": {
   "codemirror_mode": {
    "name": "ipython",
    "version": 3
   },
   "file_extension": ".py",
   "mimetype": "text/x-python",
   "name": "python",
   "nbconvert_exporter": "python",
   "pygments_lexer": "ipython3",
   "version": "3.8.8"
  }
 },
 "nbformat": 4,
 "nbformat_minor": 5
}
