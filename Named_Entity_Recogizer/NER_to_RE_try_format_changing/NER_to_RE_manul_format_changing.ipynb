{
 "cells": [
  {
   "cell_type": "markdown",
   "id": "eb109207",
   "metadata": {},
   "source": [
    "# Try manully tagging the relationship corpus"
   ]
  },
  {
   "cell_type": "code",
   "execution_count": 1,
   "id": "23abf3b8",
   "metadata": {},
   "outputs": [],
   "source": [
    "import os\n",
    "\n",
    "def split_text_label(filename):\n",
    "    '''\n",
    "    Reads a file named filename, extracts the text and the labels and stores\n",
    "    them in an array.\n",
    "     \n",
    "    returns [ ['EU', 'B-ORG'], ['rejects', 'O'], ['German', 'B-MISC'], ['call', 'O'], ['to', 'O'], ['boycott', 'O'], ['British', 'B-MISC'], ['lamb', 'O'], ['.', 'O'] ] \n",
    "    '''\n",
    "    \n",
    "    # open file\n",
    "    f = open(filename)\n",
    "    \n",
    "    # initializing\n",
    "    split_labeled_text = []\n",
    "    sentence = []\n",
    "    \n",
    "    # processing line by line \n",
    "    for line in f:\n",
    "        if len(line)==0 or line.startswith('-DOCSTART') or line[0]==\"\\t\":\n",
    "            if len(sentence) > 0:\n",
    "                split_labeled_text.append(sentence)\n",
    "                sentence = []\n",
    "            continue\n",
    "        \n",
    "        # split by tab\n",
    "        splits = line.split('\t')\n",
    "        # rstrip: strip from the right \n",
    "        sentence.append([splits[0].rstrip(\"\\n\")])\n",
    "        \n",
    "        \n",
    "    if len(sentence) > 0:\n",
    "        split_labeled_text.append(sentence)\n",
    "        sentence = []\n",
    "    return split_labeled_text\n"
   ]
  },
  {
   "cell_type": "code",
   "execution_count": 2,
   "id": "db608e0a",
   "metadata": {},
   "outputs": [],
   "source": [
    "# ===== Load in the input txt =====\n",
    "\n",
    "# this is the list of sentence with entity with format manually changed for relationship extraction\n",
    "\n",
    "split_train = split_text_label(os.path.join(\"Sentence_with_format_NER_tagging_list.txt\"))"
   ]
  },
  {
   "cell_type": "code",
   "execution_count": 3,
   "id": "bec619b2",
   "metadata": {},
   "outputs": [],
   "source": [
    "# using itertools to concat the word into sentences\n",
    "\n",
    "import itertools\n",
    "\n",
    "merged1 = list(itertools.chain(*split_train))\n",
    "\n",
    "merged2 = list(itertools.chain(*merged1))\n",
    "\n",
    "merged3 = ' '.join(merged2)"
   ]
  },
  {
   "cell_type": "code",
   "execution_count": 6,
   "id": "be1cdee3",
   "metadata": {},
   "outputs": [
    {
     "name": "stdout",
     "output_type": "stream",
     "text": [
      "merged1:  [['literature'], ['linking'], ['the'], ['effects'], ['of'], ['<e1>'], ['prepartum'], ['nutrition'], ['</e1>'], ['and']]\n",
      "\n",
      "merged2:  ['literature', 'linking', 'the', 'effects', 'of', '<e1>', 'prepartum', 'nutrition', '</e1>', 'and']\n",
      "\n",
      "merged3:  literature linking the effects of <e1> prepartum nutrition </e1> and subsequent <e2> fertility </e2>\n"
     ]
    }
   ],
   "source": [
    "# checking \n",
    "\n",
    "print(\"merged1: \", merged1[0:10])\n",
    "print()\n",
    "print(\"merged2: \", merged2[0:10])\n",
    "print()\n",
    "print(\"merged3: \", merged3[0:100])"
   ]
  },
  {
   "cell_type": "code",
   "execution_count": 7,
   "id": "75420036",
   "metadata": {},
   "outputs": [],
   "source": [
    "# wirte to a list \n",
    "\n",
    "# ===== name of the output =====\n",
    "f = open(\"Sentence_with_format_NER_tagging_line.txt\", \"a\")\n",
    "f.write(merged3)\n",
    "f.close()"
   ]
  },
  {
   "cell_type": "code",
   "execution_count": null,
   "id": "09d096dc",
   "metadata": {},
   "outputs": [],
   "source": []
  }
 ],
 "metadata": {
  "kernelspec": {
   "display_name": "Python 3",
   "language": "python",
   "name": "python3"
  },
  "language_info": {
   "codemirror_mode": {
    "name": "ipython",
    "version": 3
   },
   "file_extension": ".py",
   "mimetype": "text/x-python",
   "name": "python",
   "nbconvert_exporter": "python",
   "pygments_lexer": "ipython3",
   "version": "3.8.8"
  }
 },
 "nbformat": 4,
 "nbformat_minor": 5
}
