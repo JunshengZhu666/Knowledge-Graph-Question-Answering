{
 "cells": [
  {
   "cell_type": "code",
   "execution_count": 60,
   "metadata": {},
   "outputs": [],
   "source": [
    "sentence_raw = \"Periparturient diseases such as milk fever, ketosis, and displaced abomasums can all be associated with poor transition\"\n",
    "\n",
    "label = ['O', 'B-DIS', 'O', 'O', 'B-DIS', 'I-DIS', 'O', 'O', 'B-DIS', 'I-DIS', 'I-DIS', 'O', 'O', 'O', 'O', 'O', 'B-DIS']"
   ]
  },
  {
   "cell_type": "code",
   "execution_count": 61,
   "metadata": {},
   "outputs": [
    {
     "name": "stdout",
     "output_type": "stream",
     "text": [
      "True\n"
     ]
    }
   ],
   "source": [
    "sentence = sentence_raw.split(' ')\n",
    "\n",
    "print(len(label) == len(sentence))"
   ]
  },
  {
   "cell_type": "markdown",
   "metadata": {},
   "source": [
    "### for DIS"
   ]
  },
  {
   "cell_type": "code",
   "execution_count": 67,
   "metadata": {},
   "outputs": [
    {
     "name": "stdout",
     "output_type": "stream",
     "text": [
      "['diseases', 'milk fever,', 'displaced abomasums can']\n"
     ]
    }
   ],
   "source": [
    "def get_index(sentence, label):\n",
    "    \n",
    "    # get index\n",
    "    \n",
    "    entities = []\n",
    "    \n",
    "    for i, j in enumerate(label):\n",
    "\n",
    "\n",
    "        try:\n",
    "            if label[i] == 'B-DIS' and label[i+1] != 'I-DIS':\n",
    "\n",
    "                #for k,l in enumerate(sentence):\n",
    "                    #k = i\n",
    "                entity = sentence[i] \n",
    "                entities.append(str(entity))\n",
    "        except IndexError:\n",
    "            pass\n",
    "        \n",
    "        \n",
    "        try:\n",
    "            if label[i] == 'B-DIS' and label[i+1] == 'I-DIS' and label[i+2] != 'I-DIS':\n",
    "\n",
    "                #for k,l in enumerate(sentence):\n",
    "                    #k = i\n",
    "                entity = sentence[i] + \" \" + sentence[i + 1]\n",
    "                entities.append(str(entity))\n",
    "        except IndexError:\n",
    "            pass\n",
    "        \n",
    "        \n",
    "        try:\n",
    "            if label[i] == 'B-DIS' and label[i+1] == 'I-DIS' and label[i+2] == 'I-DIS':\n",
    "\n",
    "                #for k,l in enumerate(sentence):\n",
    "                    #k = i\n",
    "                entity = sentence[i] + \" \" + sentence[i + 1] + \" \" + sentence[i + 2]\n",
    "                entities.append(str(entity))\n",
    "        except IndexError:\n",
    "            pass\n",
    "\n",
    "        \n",
    "    return entities\n",
    "\n",
    "\n",
    "print(get_index(sentence, label))"
   ]
  },
  {
   "cell_type": "code",
   "execution_count": 66,
   "metadata": {},
   "outputs": [
    {
     "name": "stdout",
     "output_type": "stream",
     "text": [
      "[]\n"
     ]
    }
   ],
   "source": [
    "def get_index(sentence, label):\n",
    "    \n",
    "    # get index\n",
    "    \n",
    "    entities = []\n",
    "    \n",
    "    for i, j in enumerate(label):\n",
    "        \n",
    "        if label[i] == 'B-NUT' and label[i+1] != 'I-NUT':\n",
    "            \n",
    "            #for k,l in enumerate(sentence):\n",
    "                #k = i\n",
    "            entity = sentence[i] \n",
    "            entities.append(str(entity))\n",
    "        \n",
    "        \n",
    "        if label[i] == 'B-NUT' and label[i+1] == 'I-NUT':\n",
    "            \n",
    "            #for k,l in enumerate(sentence):\n",
    "                #k = i\n",
    "            entity = sentence[i] + \" \" + sentence[i + 1]\n",
    "            entities.append(str(entity))\n",
    "\n",
    "        if label[i] == 'B-NUT' and label[i+1] == 'I-NUT' and label[i+2] == 'I-NUT':\n",
    "            \n",
    "            #for k,l in enumerate(sentence):\n",
    "                #k = i\n",
    "            entity = sentence[i] + \" \" + sentence[i + 1] + \" \" + sentence[i + 2]\n",
    "            entities.append(str(entity))        \n",
    "\n",
    "        \n",
    "    return entities\n",
    "\n",
    "\n",
    "print(get_index(sentence, label))"
   ]
  },
  {
   "cell_type": "code",
   "execution_count": 68,
   "metadata": {},
   "outputs": [],
   "source": [
    "### one bug to fix: to get the entity from the last word"
   ]
  },
  {
   "cell_type": "code",
   "execution_count": null,
   "metadata": {},
   "outputs": [],
   "source": []
  }
 ],
 "metadata": {
  "kernelspec": {
   "display_name": "Python 3",
   "language": "python",
   "name": "python3"
  },
  "language_info": {
   "codemirror_mode": {
    "name": "ipython",
    "version": 3
   },
   "file_extension": ".py",
   "mimetype": "text/x-python",
   "name": "python",
   "nbconvert_exporter": "python",
   "pygments_lexer": "ipython3",
   "version": "3.8.5"
  }
 },
 "nbformat": 4,
 "nbformat_minor": 4
}
